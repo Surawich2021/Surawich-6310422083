{
 "cells": [
  {
   "cell_type": "markdown",
   "metadata": {
    "id": "kaAZjbXqBKxt"
   },
   "source": [
    "## **Load libraries and data**"
   ]
  },
  {
   "cell_type": "code",
   "execution_count": 1,
   "metadata": {
    "colab": {
     "base_uri": "https://localhost:8080/"
    },
    "executionInfo": {
     "elapsed": 11410,
     "status": "ok",
     "timestamp": 1605437566064,
     "user": {
      "displayName": "Thanachart Ritbumroong",
      "photoUrl": "",
      "userId": "18414212507793256437"
     },
     "user_tz": -420
    },
    "id": "_pJtf54KNodh",
    "outputId": "4d080994-5071-4f79-b76d-177fc7257071"
   },
   "outputs": [],
   "source": [
    "#!pip install --upgrade numpy\n",
    "#!pip install --upgrade pandas\n",
    "#!pip install -U pandas-profiling"
   ]
  },
  {
   "cell_type": "code",
   "execution_count": 2,
   "metadata": {},
   "outputs": [
    {
     "name": "stdout",
     "output_type": "stream",
     "text": [
      "Defaulting to user installation because normal site-packages is not writeable\n",
      "Requirement already satisfied: pythainlp in c:\\users\\surawich\\appdata\\roaming\\python\\python37\\site-packages (2.3.1)\n",
      "Requirement already satisfied: requests>=2.22.0 in c:\\users\\surawich\\appdata\\roaming\\python\\python37\\site-packages (from pythainlp) (2.26.0)\n",
      "Requirement already satisfied: tinydb>=3.0 in c:\\users\\surawich\\appdata\\roaming\\python\\python37\\site-packages (from pythainlp) (4.4.0)\n",
      "Requirement already satisfied: python-crfsuite>=0.9.6 in c:\\users\\surawich\\appdata\\roaming\\python\\python37\\site-packages (from pythainlp) (0.9.7)\n",
      "Requirement already satisfied: urllib3<1.27,>=1.21.1 in c:\\users\\surawich\\appdata\\roaming\\python\\python37\\site-packages (from requests>=2.22.0->pythainlp) (1.24.3)\n",
      "Requirement already satisfied: charset-normalizer~=2.0.0 in c:\\users\\surawich\\appdata\\roaming\\python\\python37\\site-packages (from requests>=2.22.0->pythainlp) (2.0.4)\n",
      "Requirement already satisfied: idna<4,>=2.5 in c:\\users\\surawich\\appdata\\roaming\\python\\python37\\site-packages (from requests>=2.22.0->pythainlp) (2.8)\n",
      "Requirement already satisfied: certifi>=2017.4.17 in c:\\users\\surawich\\appdata\\roaming\\python\\python37\\site-packages (from requests>=2.22.0->pythainlp) (2020.12.5)\n"
     ]
    },
    {
     "name": "stderr",
     "output_type": "stream",
     "text": [
      "WARNING: pip is being invoked by an old script wrapper. This will fail in a future version of pip.\n",
      "Please see https://github.com/pypa/pip/issues/5599 for advice on fixing the underlying issue.\n",
      "To avoid this problem you can invoke Python with '-m pip' instead of running pip directly.\n",
      "WARNING: You are using pip version 21.1.2; however, version 21.2.3 is available.\n",
      "You should consider upgrading via the 'c:\\program files\\python37\\python.exe -m pip install --upgrade pip' command.\n"
     ]
    },
    {
     "name": "stdout",
     "output_type": "stream",
     "text": [
      "Defaulting to user installation because normal site-packages is not writeable\n",
      "Requirement already satisfied: pyLDAvis in c:\\users\\surawich\\appdata\\roaming\\python\\python37\\site-packages (3.3.1)\n",
      "Requirement already satisfied: funcy in c:\\users\\surawich\\appdata\\roaming\\python\\python37\\site-packages (from pyLDAvis) (1.16)\n",
      "Requirement already satisfied: future in c:\\users\\surawich\\appdata\\roaming\\python\\python37\\site-packages (from pyLDAvis) (0.18.2)\n",
      "Requirement already satisfied: sklearn in c:\\users\\surawich\\appdata\\roaming\\python\\python37\\site-packages (from pyLDAvis) (0.0)\n",
      "Requirement already satisfied: setuptools in c:\\users\\surawich\\appdata\\roaming\\python\\python37\\site-packages (from pyLDAvis) (56.0.0)\n",
      "Requirement already satisfied: scikit-learn in c:\\users\\surawich\\appdata\\roaming\\python\\python37\\site-packages (from pyLDAvis) (0.24.2)\n",
      "Requirement already satisfied: jinja2 in c:\\users\\surawich\\appdata\\roaming\\python\\python37\\site-packages (from pyLDAvis) (3.0.1)\n",
      "Requirement already satisfied: numpy>=1.20.0 in c:\\users\\surawich\\appdata\\roaming\\python\\python37\\site-packages (from pyLDAvis) (1.21.1)\n",
      "Requirement already satisfied: numexpr in c:\\users\\surawich\\appdata\\roaming\\python\\python37\\site-packages (from pyLDAvis) (2.7.3)\n",
      "Requirement already satisfied: joblib in c:\\users\\surawich\\appdata\\roaming\\python\\python37\\site-packages (from pyLDAvis) (1.0.1)\n",
      "Requirement already satisfied: scipy in c:\\users\\surawich\\appdata\\roaming\\python\\python37\\site-packages (from pyLDAvis) (1.6.2)\n",
      "Requirement already satisfied: gensim in c:\\users\\surawich\\appdata\\roaming\\python\\python37\\site-packages (from pyLDAvis) (4.0.1)\n",
      "Requirement already satisfied: pandas>=1.2.0 in c:\\users\\surawich\\appdata\\roaming\\python\\python37\\site-packages (from pyLDAvis) (1.3.1)\n",
      "Requirement already satisfied: python-dateutil>=2.7.3 in c:\\users\\surawich\\appdata\\roaming\\python\\python37\\site-packages (from pandas>=1.2.0->pyLDAvis) (2.8.1)\n",
      "Requirement already satisfied: pytz>=2017.3 in c:\\users\\surawich\\appdata\\roaming\\python\\python37\\site-packages (from pandas>=1.2.0->pyLDAvis) (2021.1)\n",
      "Requirement already satisfied: six>=1.5 in c:\\users\\surawich\\appdata\\roaming\\python\\python37\\site-packages (from python-dateutil>=2.7.3->pandas>=1.2.0->pyLDAvis) (1.12.0)\n",
      "Requirement already satisfied: smart-open>=1.8.1 in c:\\users\\surawich\\appdata\\roaming\\python\\python37\\site-packages (from gensim->pyLDAvis) (5.1.0)\n",
      "Requirement already satisfied: Cython==0.29.21 in c:\\users\\surawich\\appdata\\roaming\\python\\python37\\site-packages (from gensim->pyLDAvis) (0.29.21)\n",
      "Requirement already satisfied: MarkupSafe>=2.0 in c:\\users\\surawich\\appdata\\roaming\\python\\python37\\site-packages (from jinja2->pyLDAvis) (2.0.1)\n",
      "Requirement already satisfied: threadpoolctl>=2.0.0 in c:\\users\\surawich\\appdata\\roaming\\python\\python37\\site-packages (from scikit-learn->pyLDAvis) (2.1.0)\n"
     ]
    },
    {
     "name": "stderr",
     "output_type": "stream",
     "text": [
      "WARNING: You are using pip version 21.1.2; however, version 21.2.3 is available.\n",
      "You should consider upgrading via the 'C:\\Program Files\\Python37\\python.exe -m pip install --upgrade pip' command.\n"
     ]
    }
   ],
   "source": [
    "!pip install --upgrade pythainlp\n",
    "!python -m pip install pyLDAvis"
   ]
  },
  {
   "cell_type": "code",
   "execution_count": 3,
   "metadata": {
    "executionInfo": {
     "elapsed": 15260,
     "status": "ok",
     "timestamp": 1605437569917,
     "user": {
      "displayName": "Thanachart Ritbumroong",
      "photoUrl": "",
      "userId": "18414212507793256437"
     },
     "user_tz": -420
    },
    "id": "Tv1WNGA3BKiZ"
   },
   "outputs": [
    {
     "name": "stderr",
     "output_type": "stream",
     "text": [
      "C:\\Users\\surawich\\AppData\\Roaming\\Python\\Python37\\site-packages\\gensim\\similarities\\__init__.py:15: UserWarning: The gensim.similarities.levenshtein submodule is disabled, because the optional Levenshtein package <https://pypi.org/project/python-Levenshtein/> is unavailable. Install Levenhstein (e.g. `pip install python-Levenshtein`) to suppress this warning.\n",
      "  warnings.warn(msg)\n"
     ]
    }
   ],
   "source": [
    "import pandas as pd\n",
    "import pythainlp\n",
    "import gensim\n",
    "import pyLDAvis\n",
    "import pyLDAvis.gensim_models as gensimvis  # ถ้า vs3.3.0ต้องใช้คำสั่งนี้\n",
    "pyLDAvis.enable_notebook()\n",
    "import warnings\n",
    "warnings.filterwarnings(\"ignore\", category=DeprecationWarning) "
   ]
  },
  {
   "cell_type": "code",
   "execution_count": 4,
   "metadata": {
    "executionInfo": {
     "elapsed": 15258,
     "status": "ok",
     "timestamp": 1605437569918,
     "user": {
      "displayName": "Thanachart Ritbumroong",
      "photoUrl": "",
      "userId": "18414212507793256437"
     },
     "user_tz": -420
    },
    "id": "oCxTl04hBmy5"
   },
   "outputs": [],
   "source": [
    "#df = pd.read_csv('https://github.com/Surawich2021/Surawich-6310422083/raw/main/Homework11%20-%20Voice%20of%20Customer/Wongnai%20Reviews%20-%20Small.csv')\n",
    "df = pd.read_csv('https://github.com/Surawich2021/Surawich-6310422083/raw/main/Homework11%20-%20Voice%20of%20Customer/CustomerReviews.csv')"
   ]
  },
  {
   "cell_type": "code",
   "execution_count": 5,
   "metadata": {
    "colab": {
     "base_uri": "https://localhost:8080/",
     "height": 296
    },
    "executionInfo": {
     "elapsed": 976,
     "status": "ok",
     "timestamp": 1605438650354,
     "user": {
      "displayName": "Thanachart Ritbumroong",
      "photoUrl": "",
      "userId": "18414212507793256437"
     },
     "user_tz": -420
    },
    "id": "7sPfQ6YkNH8c",
    "outputId": "5e18692b-c43c-45af-984c-eb5264da514d"
   },
   "outputs": [
    {
     "data": {
      "text/html": [
       "<div>\n",
       "<style scoped>\n",
       "    .dataframe tbody tr th:only-of-type {\n",
       "        vertical-align: middle;\n",
       "    }\n",
       "\n",
       "    .dataframe tbody tr th {\n",
       "        vertical-align: top;\n",
       "    }\n",
       "\n",
       "    .dataframe thead th {\n",
       "        text-align: right;\n",
       "    }\n",
       "</style>\n",
       "<table border=\"1\" class=\"dataframe\">\n",
       "  <thead>\n",
       "    <tr style=\"text-align: right;\">\n",
       "      <th></th>\n",
       "      <th>Review ID</th>\n",
       "      <th>Restaurant_ID</th>\n",
       "      <th>Restaurant</th>\n",
       "      <th>User</th>\n",
       "      <th>Headline</th>\n",
       "      <th>Review</th>\n",
       "      <th>Rating</th>\n",
       "    </tr>\n",
       "  </thead>\n",
       "  <tbody>\n",
       "    <tr>\n",
       "      <th>1</th>\n",
       "      <td>2</td>\n",
       "      <td>352696Px-mo-mo-paradise-เดอะมอลล์-บางกะปิ</td>\n",
       "      <td>Mo-Mo-Paradise (โม โม พาราไดซ์) เดอะมอลล์ บางกะปิ</td>\n",
       "      <td>pakkaramonpondej</td>\n",
       "      <td>รสชาติเหมือนทุกสาขา แต่สาขานี้ บริการดี ที่นั่งดี</td>\n",
       "      <td>นึกถึงชาบูญี่ปุ่นยังไงก็ต้อง คิดถึงโมโม่ พาราไ...</td>\n",
       "      <td>5.0</td>\n",
       "    </tr>\n",
       "    <tr>\n",
       "      <th>2</th>\n",
       "      <td>3</td>\n",
       "      <td>352696Px-mo-mo-paradise-เดอะมอลล์-บางกะปิ</td>\n",
       "      <td>Mo-Mo-Paradise (โม โม พาราไดซ์) เดอะมอลล์ บางกะปิ</td>\n",
       "      <td>saanowy</td>\n",
       "      <td>ชาบูพรีเมี่ยมสไตล์ญี่ปุ่น เนื้อดีมากกก</td>\n",
       "      <td>มาทานช่วงนี้ สามารถนั่งโต๊ะเดียวกัน หม้อเดียวก...</td>\n",
       "      <td>4.0</td>\n",
       "    </tr>\n",
       "    <tr>\n",
       "      <th>3</th>\n",
       "      <td>4</td>\n",
       "      <td>352696Px-mo-mo-paradise-เดอะมอลล์-บางกะปิ</td>\n",
       "      <td>Mo-Mo-Paradise (โม โม พาราไดซ์) เดอะมอลล์ บางกะปิ</td>\n",
       "      <td>ployynp</td>\n",
       "      <td>เนื้อดี ไอติมดี คุ้มค่าดี</td>\n",
       "      <td>ถ้านึกถึงชาบูที่มีเนื้อเน้นๆ ในราคาไม่โหดจนเกิ...</td>\n",
       "      <td>4.0</td>\n",
       "    </tr>\n",
       "    <tr>\n",
       "      <th>4</th>\n",
       "      <td>5</td>\n",
       "      <td>352696Px-mo-mo-paradise-เดอะมอลล์-บางกะปิ</td>\n",
       "      <td>Mo-Mo-Paradise (โม โม พาราไดซ์) เดอะมอลล์ บางกะปิ</td>\n",
       "      <td>665a902b335b434ab489f00f2fbb477e</td>\n",
       "      <td>อาหารมีคุณภาพ บริการดีค่ะ</td>\n",
       "      <td>เดินมาหน้าร้านแล้วได้กลิ่นชาบูหอมมาก ๆ  ประกอบ...</td>\n",
       "      <td>5.0</td>\n",
       "    </tr>\n",
       "    <tr>\n",
       "      <th>5</th>\n",
       "      <td>6</td>\n",
       "      <td>352696Px-mo-mo-paradise-เดอะมอลล์-บางกะปิ</td>\n",
       "      <td>Mo-Mo-Paradise (โม โม พาราไดซ์) เดอะมอลล์ บางกะปิ</td>\n",
       "      <td>12f2b56b28bb4849a92690cedc1cc50a</td>\n",
       "      <td>กินให้อิ่ม ที่ momo</td>\n",
       "      <td>ร้านบุฟเฟ่ ชาบูแนวญี่ปุ่น สายเนื้อหมู เนื้อวัว...</td>\n",
       "      <td>4.0</td>\n",
       "    </tr>\n",
       "    <tr>\n",
       "      <th>6</th>\n",
       "      <td>7</td>\n",
       "      <td>352696Px-mo-mo-paradise-เดอะมอลล์-บางกะปิ</td>\n",
       "      <td>Mo-Mo-Paradise (โม โม พาราไดซ์) เดอะมอลล์ บางกะปิ</td>\n",
       "      <td>f2628bf47a394345b133fec76a79661d</td>\n",
       "      <td>ชาบู - สุกกี้สไลต์ญี่ปุ่นที่แท้ทรู</td>\n",
       "      <td>Number 20 : โมโม – พาราไดส์ (สาขาเดอะมอลบางกะป...</td>\n",
       "      <td>4.0</td>\n",
       "    </tr>\n",
       "    <tr>\n",
       "      <th>7</th>\n",
       "      <td>8</td>\n",
       "      <td>352696Px-mo-mo-paradise-เดอะมอลล์-บางกะปิ</td>\n",
       "      <td>Mo-Mo-Paradise (โม โม พาราไดซ์) เดอะมอลล์ บางกะปิ</td>\n",
       "      <td>backscrash</td>\n",
       "      <td>ร้านชาบูเฟรนไชส์ ที่ราคาเหมาะสมกับคุณภาพ ถือว่...</td>\n",
       "      <td>ร้านชาบูเฟรนไชส์รสชาติดีมากคุ้มค่าเหมาะสมกับรา...</td>\n",
       "      <td>4.0</td>\n",
       "    </tr>\n",
       "    <tr>\n",
       "      <th>8</th>\n",
       "      <td>9</td>\n",
       "      <td>4621tm-shabushi-เดอะมอลล์บางกะปิ-ชั้น-g</td>\n",
       "      <td>Shabushi (ชาบูชิ) เดอะมอลล์บางกะปิ ชั้น G</td>\n",
       "      <td>a477a5812ada4d5b80fd04fca22bdbca</td>\n",
       "      <td>อร่อยคุ้ม ของทานเล่นเยอะมาก</td>\n",
       "      <td>มา านที่ขาบูชิต้องมาตอนหิว ไม่งั้นจะไม่คุ้มนะค...</td>\n",
       "      <td>4.0</td>\n",
       "    </tr>\n",
       "    <tr>\n",
       "      <th>9</th>\n",
       "      <td>10</td>\n",
       "      <td>4621tm-shabushi-เดอะมอลล์บางกะปิ-ชั้น-g</td>\n",
       "      <td>Shabushi (ชาบูชิ) เดอะมอลล์บางกะปิ ชั้น G</td>\n",
       "      <td>fd2ba94ec1bc4948ae109e2cb6c9cbc6</td>\n",
       "      <td>ทานอีก ชอบกุ้งทอดเทมปุระ</td>\n",
       "      <td>ใครชอบกุ้งทอดเทมปุระ แค่กุ้งเทมปุระก็คุ้มแล้ว ...</td>\n",
       "      <td>3.0</td>\n",
       "    </tr>\n",
       "    <tr>\n",
       "      <th>10</th>\n",
       "      <td>11</td>\n",
       "      <td>4621tm-shabushi-เดอะมอลล์บางกะปิ-ชั้น-g</td>\n",
       "      <td>Shabushi (ชาบูชิ) เดอะมอลล์บางกะปิ ชั้น G</td>\n",
       "      <td>ployynp</td>\n",
       "      <td>บุฟเฟ่ต์คุ้มๆในห้าง</td>\n",
       "      <td>กลับมาอัพเดทราคาชาบูชิ ตอนนี้อยู่ที่ 399 บาท n...</td>\n",
       "      <td>3.0</td>\n",
       "    </tr>\n",
       "    <tr>\n",
       "      <th>11</th>\n",
       "      <td>12</td>\n",
       "      <td>4621tm-shabushi-เดอะมอลล์บางกะปิ-ชั้น-g</td>\n",
       "      <td>Shabushi (ชาบูชิ) เดอะมอลล์บางกะปิ ชั้น G</td>\n",
       "      <td>c08b2776067a4026b882abfc6fca8330</td>\n",
       "      <td>เปลี่ยนจากกุ้งขาดสารอาหารเป็นกุ้งปอกเปลือกแล้ว...</td>\n",
       "      <td>ห่างหายไปนานสำหรับชาบูชิ ตั้งแต่ทางร้านได้ปรับ...</td>\n",
       "      <td>3.0</td>\n",
       "    </tr>\n",
       "    <tr>\n",
       "      <th>12</th>\n",
       "      <td>13</td>\n",
       "      <td>4621tm-shabushi-เดอะมอลล์บางกะปิ-ชั้น-g</td>\n",
       "      <td>Shabushi (ชาบูชิ) เดอะมอลล์บางกะปิ ชั้น G</td>\n",
       "      <td>a96ec47b6cff4bd1834c90d603ef0a7e</td>\n",
       "      <td>อิ่ม อร่อย ฝุดฝุด</td>\n",
       "      <td>เมื่อหลายวันก่อนนัดหาข้าวทานกับเดอะแกงค์ และก็...</td>\n",
       "      <td>4.0</td>\n",
       "    </tr>\n",
       "    <tr>\n",
       "      <th>13</th>\n",
       "      <td>14</td>\n",
       "      <td>4621tm-shabushi-เดอะมอลล์บางกะปิ-ชั้น-g</td>\n",
       "      <td>Shabushi (ชาบูชิ) เดอะมอลล์บางกะปิ ชั้น G</td>\n",
       "      <td>a6991f1e0e9b4916ab3ca91d86f8e481</td>\n",
       "      <td>จัดให้เต็มคราบกับชั่วโมงครึ่ง@Shabushi</td>\n",
       "      <td>บอกตรงๆว่าหลายครั้งที่เลือกจะกินบุฟเฟต์จะต้องอ...</td>\n",
       "      <td>3.0</td>\n",
       "    </tr>\n",
       "    <tr>\n",
       "      <th>14</th>\n",
       "      <td>15</td>\n",
       "      <td>4621tm-shabushi-เดอะมอลล์บางกะปิ-ชั้น-g</td>\n",
       "      <td>Shabushi (ชาบูชิ) เดอะมอลล์บางกะปิ ชั้น G</td>\n",
       "      <td>7eb0c7d8683e407f83cc4d18e51d800d</td>\n",
       "      <td>ชาบู ชาบูชิ</td>\n",
       "      <td>สวัสดีครับวันนี้จะขอมารีวิวร้านชาบูชิ บุฟเฟขวั...</td>\n",
       "      <td>4.0</td>\n",
       "    </tr>\n",
       "    <tr>\n",
       "      <th>15</th>\n",
       "      <td>16</td>\n",
       "      <td>4621tm-shabushi-เดอะมอลล์บางกะปิ-ชั้น-g</td>\n",
       "      <td>Shabushi (ชาบูชิ) เดอะมอลล์บางกะปิ ชั้น G</td>\n",
       "      <td>qvanqvan</td>\n",
       "      <td>บุฟเฟต์น้ำเดือด สายพานร่อน</td>\n",
       "      <td>ชาบูชิ สาขาเดอะมอลล์บางกะปิ ตั้งอยู่ประตูหน้าห...</td>\n",
       "      <td>4.0</td>\n",
       "    </tr>\n",
       "    <tr>\n",
       "      <th>16</th>\n",
       "      <td>17</td>\n",
       "      <td>436045MJ-ข้าน้อยขอชาบู</td>\n",
       "      <td>ข้าน้อยขอชาบู</td>\n",
       "      <td>ployynp</td>\n",
       "      <td>บุฟเฟ่ต์ชาบูและพิซซ่าไม่อั้นในราคา 199 บาท เน้...</td>\n",
       "      <td>หลังจากที่เคยลองสาขายูเนี่ยนมอลล์ไป รอบนี้มาที...</td>\n",
       "      <td>4.0</td>\n",
       "    </tr>\n",
       "    <tr>\n",
       "      <th>17</th>\n",
       "      <td>18</td>\n",
       "      <td>436045MJ-ข้าน้อยขอชาบู</td>\n",
       "      <td>ข้าน้อยขอชาบู</td>\n",
       "      <td>27a91236fe5e4559a4f097c97a480781</td>\n",
       "      <td>ร้านบุฟเฟ่ต์ ราคามิตรภาพ อยู่ชั้น4 ติดโรงหนัง ...</td>\n",
       "      <td>ร้านบุฟเฟ่ต์ที่มีโปรโมชั่นหัวละ199บาท ไม่รวมน้...</td>\n",
       "      <td>4.0</td>\n",
       "    </tr>\n",
       "    <tr>\n",
       "      <th>18</th>\n",
       "      <td>19</td>\n",
       "      <td>436045MJ-ข้าน้อยขอชาบู</td>\n",
       "      <td>ข้าน้อยขอชาบู</td>\n",
       "      <td>0b81d251e4db486f9bcdba73b374ed99</td>\n",
       "      <td>ของหลากหลาย ปนๆ งงๆ นิดหน่อย</td>\n",
       "      <td>เคยรู้จักร้านนี้จากที่ union mall ไม่เคยได้ลอง...</td>\n",
       "      <td>3.0</td>\n",
       "    </tr>\n",
       "    <tr>\n",
       "      <th>19</th>\n",
       "      <td>20</td>\n",
       "      <td>436045MJ-ข้าน้อยขอชาบู</td>\n",
       "      <td>ข้าน้อยขอชาบู</td>\n",
       "      <td>40e0e087f3914fd49a8933b5a29936ca</td>\n",
       "      <td>อร่อยมากค่ะ คุ้มค่าสมราคา บุฟเฟ่หมูผักต่างๆ รว...</td>\n",
       "      <td>อร่อยมากค่ะ คุ้มค่าสมราคา บุฟเฟ่หมูผักต่างๆ รว...</td>\n",
       "      <td>5.0</td>\n",
       "    </tr>\n",
       "    <tr>\n",
       "      <th>20</th>\n",
       "      <td>21</td>\n",
       "      <td>436045MJ-ข้าน้อยขอชาบู</td>\n",
       "      <td>ข้าน้อยขอชาบู</td>\n",
       "      <td>41841cb99ea243a3a8d4b006e946c586</td>\n",
       "      <td>แม้จะแปลกบ้าง แต่ก็ถือว่าอยู่ในเกณฑ์ที่ดี มีอา...</td>\n",
       "      <td>ก็ตามที่เขียนเลยครับ ว่า ถ้าจะจ่ายในราคา 199 บ...</td>\n",
       "      <td>NaN</td>\n",
       "    </tr>\n",
       "  </tbody>\n",
       "</table>\n",
       "</div>"
      ],
      "text/plain": [
       "    Review ID                              Restaurant_ID  \\\n",
       "1           2  352696Px-mo-mo-paradise-เดอะมอลล์-บางกะปิ   \n",
       "2           3  352696Px-mo-mo-paradise-เดอะมอลล์-บางกะปิ   \n",
       "3           4  352696Px-mo-mo-paradise-เดอะมอลล์-บางกะปิ   \n",
       "4           5  352696Px-mo-mo-paradise-เดอะมอลล์-บางกะปิ   \n",
       "5           6  352696Px-mo-mo-paradise-เดอะมอลล์-บางกะปิ   \n",
       "6           7  352696Px-mo-mo-paradise-เดอะมอลล์-บางกะปิ   \n",
       "7           8  352696Px-mo-mo-paradise-เดอะมอลล์-บางกะปิ   \n",
       "8           9    4621tm-shabushi-เดอะมอลล์บางกะปิ-ชั้น-g   \n",
       "9          10    4621tm-shabushi-เดอะมอลล์บางกะปิ-ชั้น-g   \n",
       "10         11    4621tm-shabushi-เดอะมอลล์บางกะปิ-ชั้น-g   \n",
       "11         12    4621tm-shabushi-เดอะมอลล์บางกะปิ-ชั้น-g   \n",
       "12         13    4621tm-shabushi-เดอะมอลล์บางกะปิ-ชั้น-g   \n",
       "13         14    4621tm-shabushi-เดอะมอลล์บางกะปิ-ชั้น-g   \n",
       "14         15    4621tm-shabushi-เดอะมอลล์บางกะปิ-ชั้น-g   \n",
       "15         16    4621tm-shabushi-เดอะมอลล์บางกะปิ-ชั้น-g   \n",
       "16         17                     436045MJ-ข้าน้อยขอชาบู   \n",
       "17         18                     436045MJ-ข้าน้อยขอชาบู   \n",
       "18         19                     436045MJ-ข้าน้อยขอชาบู   \n",
       "19         20                     436045MJ-ข้าน้อยขอชาบู   \n",
       "20         21                     436045MJ-ข้าน้อยขอชาบู   \n",
       "\n",
       "                                           Restaurant  \\\n",
       "1   Mo-Mo-Paradise (โม โม พาราไดซ์) เดอะมอลล์ บางกะปิ   \n",
       "2   Mo-Mo-Paradise (โม โม พาราไดซ์) เดอะมอลล์ บางกะปิ   \n",
       "3   Mo-Mo-Paradise (โม โม พาราไดซ์) เดอะมอลล์ บางกะปิ   \n",
       "4   Mo-Mo-Paradise (โม โม พาราไดซ์) เดอะมอลล์ บางกะปิ   \n",
       "5   Mo-Mo-Paradise (โม โม พาราไดซ์) เดอะมอลล์ บางกะปิ   \n",
       "6   Mo-Mo-Paradise (โม โม พาราไดซ์) เดอะมอลล์ บางกะปิ   \n",
       "7   Mo-Mo-Paradise (โม โม พาราไดซ์) เดอะมอลล์ บางกะปิ   \n",
       "8           Shabushi (ชาบูชิ) เดอะมอลล์บางกะปิ ชั้น G   \n",
       "9           Shabushi (ชาบูชิ) เดอะมอลล์บางกะปิ ชั้น G   \n",
       "10          Shabushi (ชาบูชิ) เดอะมอลล์บางกะปิ ชั้น G   \n",
       "11          Shabushi (ชาบูชิ) เดอะมอลล์บางกะปิ ชั้น G   \n",
       "12          Shabushi (ชาบูชิ) เดอะมอลล์บางกะปิ ชั้น G   \n",
       "13          Shabushi (ชาบูชิ) เดอะมอลล์บางกะปิ ชั้น G   \n",
       "14          Shabushi (ชาบูชิ) เดอะมอลล์บางกะปิ ชั้น G   \n",
       "15          Shabushi (ชาบูชิ) เดอะมอลล์บางกะปิ ชั้น G   \n",
       "16                                      ข้าน้อยขอชาบู   \n",
       "17                                      ข้าน้อยขอชาบู   \n",
       "18                                      ข้าน้อยขอชาบู   \n",
       "19                                      ข้าน้อยขอชาบู   \n",
       "20                                      ข้าน้อยขอชาบู   \n",
       "\n",
       "                                User  \\\n",
       "1                   pakkaramonpondej   \n",
       "2                            saanowy   \n",
       "3                            ployynp   \n",
       "4   665a902b335b434ab489f00f2fbb477e   \n",
       "5   12f2b56b28bb4849a92690cedc1cc50a   \n",
       "6   f2628bf47a394345b133fec76a79661d   \n",
       "7                         backscrash   \n",
       "8   a477a5812ada4d5b80fd04fca22bdbca   \n",
       "9   fd2ba94ec1bc4948ae109e2cb6c9cbc6   \n",
       "10                           ployynp   \n",
       "11  c08b2776067a4026b882abfc6fca8330   \n",
       "12  a96ec47b6cff4bd1834c90d603ef0a7e   \n",
       "13  a6991f1e0e9b4916ab3ca91d86f8e481   \n",
       "14  7eb0c7d8683e407f83cc4d18e51d800d   \n",
       "15                          qvanqvan   \n",
       "16                           ployynp   \n",
       "17  27a91236fe5e4559a4f097c97a480781   \n",
       "18  0b81d251e4db486f9bcdba73b374ed99   \n",
       "19  40e0e087f3914fd49a8933b5a29936ca   \n",
       "20  41841cb99ea243a3a8d4b006e946c586   \n",
       "\n",
       "                                             Headline  \\\n",
       "1   รสชาติเหมือนทุกสาขา แต่สาขานี้ บริการดี ที่นั่งดี   \n",
       "2              ชาบูพรีเมี่ยมสไตล์ญี่ปุ่น เนื้อดีมากกก   \n",
       "3                           เนื้อดี ไอติมดี คุ้มค่าดี   \n",
       "4                           อาหารมีคุณภาพ บริการดีค่ะ   \n",
       "5                                 กินให้อิ่ม ที่ momo   \n",
       "6                 ชาบู - สุกกี้สไลต์ญี่ปุ่นที่แท้ทรู    \n",
       "7   ร้านชาบูเฟรนไชส์ ที่ราคาเหมาะสมกับคุณภาพ ถือว่...   \n",
       "8                         อร่อยคุ้ม ของทานเล่นเยอะมาก   \n",
       "9                            ทานอีก ชอบกุ้งทอดเทมปุระ   \n",
       "10                                บุฟเฟ่ต์คุ้มๆในห้าง   \n",
       "11  เปลี่ยนจากกุ้งขาดสารอาหารเป็นกุ้งปอกเปลือกแล้ว...   \n",
       "12                                  อิ่ม อร่อย ฝุดฝุด   \n",
       "13             จัดให้เต็มคราบกับชั่วโมงครึ่ง@Shabushi   \n",
       "14                                        ชาบู ชาบูชิ   \n",
       "15                         บุฟเฟต์น้ำเดือด สายพานร่อน   \n",
       "16  บุฟเฟ่ต์ชาบูและพิซซ่าไม่อั้นในราคา 199 บาท เน้...   \n",
       "17  ร้านบุฟเฟ่ต์ ราคามิตรภาพ อยู่ชั้น4 ติดโรงหนัง ...   \n",
       "18                       ของหลากหลาย ปนๆ งงๆ นิดหน่อย   \n",
       "19  อร่อยมากค่ะ คุ้มค่าสมราคา บุฟเฟ่หมูผักต่างๆ รว...   \n",
       "20  แม้จะแปลกบ้าง แต่ก็ถือว่าอยู่ในเกณฑ์ที่ดี มีอา...   \n",
       "\n",
       "                                               Review  Rating  \n",
       "1   นึกถึงชาบูญี่ปุ่นยังไงก็ต้อง คิดถึงโมโม่ พาราไ...     5.0  \n",
       "2   มาทานช่วงนี้ สามารถนั่งโต๊ะเดียวกัน หม้อเดียวก...     4.0  \n",
       "3   ถ้านึกถึงชาบูที่มีเนื้อเน้นๆ ในราคาไม่โหดจนเกิ...     4.0  \n",
       "4   เดินมาหน้าร้านแล้วได้กลิ่นชาบูหอมมาก ๆ  ประกอบ...     5.0  \n",
       "5   ร้านบุฟเฟ่ ชาบูแนวญี่ปุ่น สายเนื้อหมู เนื้อวัว...     4.0  \n",
       "6   Number 20 : โมโม – พาราไดส์ (สาขาเดอะมอลบางกะป...     4.0  \n",
       "7   ร้านชาบูเฟรนไชส์รสชาติดีมากคุ้มค่าเหมาะสมกับรา...     4.0  \n",
       "8   มา านที่ขาบูชิต้องมาตอนหิว ไม่งั้นจะไม่คุ้มนะค...     4.0  \n",
       "9   ใครชอบกุ้งทอดเทมปุระ แค่กุ้งเทมปุระก็คุ้มแล้ว ...     3.0  \n",
       "10  กลับมาอัพเดทราคาชาบูชิ ตอนนี้อยู่ที่ 399 บาท n...     3.0  \n",
       "11  ห่างหายไปนานสำหรับชาบูชิ ตั้งแต่ทางร้านได้ปรับ...     3.0  \n",
       "12  เมื่อหลายวันก่อนนัดหาข้าวทานกับเดอะแกงค์ และก็...     4.0  \n",
       "13  บอกตรงๆว่าหลายครั้งที่เลือกจะกินบุฟเฟต์จะต้องอ...     3.0  \n",
       "14  สวัสดีครับวันนี้จะขอมารีวิวร้านชาบูชิ บุฟเฟขวั...     4.0  \n",
       "15  ชาบูชิ สาขาเดอะมอลล์บางกะปิ ตั้งอยู่ประตูหน้าห...     4.0  \n",
       "16  หลังจากที่เคยลองสาขายูเนี่ยนมอลล์ไป รอบนี้มาที...     4.0  \n",
       "17  ร้านบุฟเฟ่ต์ที่มีโปรโมชั่นหัวละ199บาท ไม่รวมน้...     4.0  \n",
       "18  เคยรู้จักร้านนี้จากที่ union mall ไม่เคยได้ลอง...     3.0  \n",
       "19  อร่อยมากค่ะ คุ้มค่าสมราคา บุฟเฟ่หมูผักต่างๆ รว...     5.0  \n",
       "20  ก็ตามที่เขียนเลยครับ ว่า ถ้าจะจ่ายในราคา 199 บ...     NaN  "
      ]
     },
     "execution_count": 5,
     "metadata": {},
     "output_type": "execute_result"
    }
   ],
   "source": [
    "df.tail(20)"
   ]
  },
  {
   "cell_type": "markdown",
   "metadata": {
    "id": "9NyF_CbeNX2W"
   },
   "source": [
    "## **Tokenize Words**"
   ]
  },
  {
   "cell_type": "code",
   "execution_count": 6,
   "metadata": {
    "executionInfo": {
     "elapsed": 1366,
     "status": "ok",
     "timestamp": 1605438650751,
     "user": {
      "displayName": "Thanachart Ritbumroong",
      "photoUrl": "",
      "userId": "18414212507793256437"
     },
     "user_tz": -420
    },
    "id": "Dl5ptrJNNa2y"
   },
   "outputs": [],
   "source": [
    "stopwords = list(pythainlp.corpus.thai_stopwords())\n",
    "#removed_words = [' ', '  ', '\\n', 'ร้าน', '(', ')' , '           ']   #ตัดคำที่ไม่จำเป็นออกจาก Review\n",
    "removed_words = [' ', '  ', '\\n', 'ร้าน', '(', ')' , '           ','-',':',' ','1', '2','3','4', '560', 'กัน', 'กับ', 'การ', 'กิน', 'ก็', 'ก่อน', 'ของ','/','+','โม','บุ','ฟเฟ่','บุฟเฟ่','ชาบู','ทาน','น้ำ']\n",
    "screening_words = stopwords + removed_words\n",
    "\n",
    "def tokenize_with_space(sentence):\n",
    "  merged = ''\n",
    "  words = pythainlp.word_tokenize(str(sentence), engine='newmm')\n",
    "  for word in words:\n",
    "    if word not in screening_words:\n",
    "      merged = merged + ',' + word                     #หลังจากตัดคำที่ใช้งานได้เป็น word ให้เอามาเชื่อมคำกลับด้วย comma\n",
    "  return merged[1:]"
   ]
  },
  {
   "cell_type": "code",
   "execution_count": 7,
   "metadata": {
    "executionInfo": {
     "elapsed": 1362,
     "status": "ok",
     "timestamp": 1605438650751,
     "user": {
      "displayName": "Thanachart Ritbumroong",
      "photoUrl": "",
      "userId": "18414212507793256437"
     },
     "user_tz": -420
    },
    "id": "wJ979qbENdzH"
   },
   "outputs": [],
   "source": [
    "df['Review_tokenized'] = df['Review'].apply(lambda x: tokenize_with_space(x))"
   ]
  },
  {
   "cell_type": "code",
   "execution_count": 18,
   "metadata": {
    "colab": {
     "base_uri": "https://localhost:8080/",
     "height": 296
    },
    "executionInfo": {
     "elapsed": 1360,
     "status": "ok",
     "timestamp": 1605438650752,
     "user": {
      "displayName": "Thanachart Ritbumroong",
      "photoUrl": "",
      "userId": "18414212507793256437"
     },
     "user_tz": -420
    },
    "id": "725oxXg9OcR5",
    "outputId": "525f54fd-d991-4239-9dc3-9ffbc99f8828"
   },
   "outputs": [
    {
     "data": {
      "text/html": [
       "<div>\n",
       "<style scoped>\n",
       "    .dataframe tbody tr th:only-of-type {\n",
       "        vertical-align: middle;\n",
       "    }\n",
       "\n",
       "    .dataframe tbody tr th {\n",
       "        vertical-align: top;\n",
       "    }\n",
       "\n",
       "    .dataframe thead th {\n",
       "        text-align: right;\n",
       "    }\n",
       "</style>\n",
       "<table border=\"1\" class=\"dataframe\">\n",
       "  <thead>\n",
       "    <tr style=\"text-align: right;\">\n",
       "      <th></th>\n",
       "      <th>Review ID</th>\n",
       "      <th>Restaurant_ID</th>\n",
       "      <th>Restaurant</th>\n",
       "      <th>User</th>\n",
       "      <th>Headline</th>\n",
       "      <th>Review</th>\n",
       "      <th>Rating</th>\n",
       "      <th>Review_tokenized</th>\n",
       "    </tr>\n",
       "  </thead>\n",
       "  <tbody>\n",
       "    <tr>\n",
       "      <th>16</th>\n",
       "      <td>17</td>\n",
       "      <td>436045MJ-ข้าน้อยขอชาบู</td>\n",
       "      <td>ข้าน้อยขอชาบู</td>\n",
       "      <td>ployynp</td>\n",
       "      <td>บุฟเฟ่ต์ชาบูและพิซซ่าไม่อั้นในราคา 199 บาท เน้...</td>\n",
       "      <td>หลังจากที่เคยลองสาขายูเนี่ยนมอลล์ไป รอบนี้มาที...</td>\n",
       "      <td>4.0</td>\n",
       "      <td>หลังจากที่,ลอง,สาขา,ยู,นม,อลล์,รอบ,สาขา,เดอะ,ม...</td>\n",
       "    </tr>\n",
       "    <tr>\n",
       "      <th>17</th>\n",
       "      <td>18</td>\n",
       "      <td>436045MJ-ข้าน้อยขอชาบู</td>\n",
       "      <td>ข้าน้อยขอชาบู</td>\n",
       "      <td>27a91236fe5e4559a4f097c97a480781</td>\n",
       "      <td>ร้านบุฟเฟ่ต์ ราคามิตรภาพ อยู่ชั้น4 ติดโรงหนัง ...</td>\n",
       "      <td>ร้านบุฟเฟ่ต์ที่มีโปรโมชั่นหัวละ199บาท ไม่รวมน้...</td>\n",
       "      <td>4.0</td>\n",
       "      <td>บุฟเฟ่ต์,โปรโมชั่น,หัว,199,บาท,VAT,ธรรมดา,ชอบ,...</td>\n",
       "    </tr>\n",
       "    <tr>\n",
       "      <th>18</th>\n",
       "      <td>19</td>\n",
       "      <td>436045MJ-ข้าน้อยขอชาบู</td>\n",
       "      <td>ข้าน้อยขอชาบู</td>\n",
       "      <td>0b81d251e4db486f9bcdba73b374ed99</td>\n",
       "      <td>ของหลากหลาย ปนๆ งงๆ นิดหน่อย</td>\n",
       "      <td>เคยรู้จักร้านนี้จากที่ union mall ไม่เคยได้ลอง...</td>\n",
       "      <td>3.0</td>\n",
       "      <td>รู้จัก,union,mall,ลอง,จำได้,ขึ้นใจ,ชื่อ,😆,ชื่อ...</td>\n",
       "    </tr>\n",
       "    <tr>\n",
       "      <th>19</th>\n",
       "      <td>20</td>\n",
       "      <td>436045MJ-ข้าน้อยขอชาบู</td>\n",
       "      <td>ข้าน้อยขอชาบู</td>\n",
       "      <td>40e0e087f3914fd49a8933b5a29936ca</td>\n",
       "      <td>อร่อยมากค่ะ คุ้มค่าสมราคา บุฟเฟ่หมูผักต่างๆ รว...</td>\n",
       "      <td>อร่อยมากค่ะ คุ้มค่าสมราคา บุฟเฟ่หมูผักต่างๆ รว...</td>\n",
       "      <td>5.0</td>\n",
       "      <td>อร่อย,คุ้มค่า,สมราคา,หมู,ผัก,จบ,255,ท่าน,เด็ด,...</td>\n",
       "    </tr>\n",
       "    <tr>\n",
       "      <th>20</th>\n",
       "      <td>21</td>\n",
       "      <td>436045MJ-ข้าน้อยขอชาบู</td>\n",
       "      <td>ข้าน้อยขอชาบู</td>\n",
       "      <td>41841cb99ea243a3a8d4b006e946c586</td>\n",
       "      <td>แม้จะแปลกบ้าง แต่ก็ถือว่าอยู่ในเกณฑ์ที่ดี มีอา...</td>\n",
       "      <td>ก็ตามที่เขียนเลยครับ ว่า ถ้าจะจ่ายในราคา 199 บ...</td>\n",
       "      <td>NaN</td>\n",
       "      <td>จ่าย,ราคา,199,บาท,จ่าย,เงินสด,ราคา,VAT,7,%,สั่...</td>\n",
       "    </tr>\n",
       "  </tbody>\n",
       "</table>\n",
       "</div>"
      ],
      "text/plain": [
       "    Review ID           Restaurant_ID     Restaurant  \\\n",
       "16         17  436045MJ-ข้าน้อยขอชาบู  ข้าน้อยขอชาบู   \n",
       "17         18  436045MJ-ข้าน้อยขอชาบู  ข้าน้อยขอชาบู   \n",
       "18         19  436045MJ-ข้าน้อยขอชาบู  ข้าน้อยขอชาบู   \n",
       "19         20  436045MJ-ข้าน้อยขอชาบู  ข้าน้อยขอชาบู   \n",
       "20         21  436045MJ-ข้าน้อยขอชาบู  ข้าน้อยขอชาบู   \n",
       "\n",
       "                                User  \\\n",
       "16                           ployynp   \n",
       "17  27a91236fe5e4559a4f097c97a480781   \n",
       "18  0b81d251e4db486f9bcdba73b374ed99   \n",
       "19  40e0e087f3914fd49a8933b5a29936ca   \n",
       "20  41841cb99ea243a3a8d4b006e946c586   \n",
       "\n",
       "                                             Headline  \\\n",
       "16  บุฟเฟ่ต์ชาบูและพิซซ่าไม่อั้นในราคา 199 บาท เน้...   \n",
       "17  ร้านบุฟเฟ่ต์ ราคามิตรภาพ อยู่ชั้น4 ติดโรงหนัง ...   \n",
       "18                       ของหลากหลาย ปนๆ งงๆ นิดหน่อย   \n",
       "19  อร่อยมากค่ะ คุ้มค่าสมราคา บุฟเฟ่หมูผักต่างๆ รว...   \n",
       "20  แม้จะแปลกบ้าง แต่ก็ถือว่าอยู่ในเกณฑ์ที่ดี มีอา...   \n",
       "\n",
       "                                               Review  Rating  \\\n",
       "16  หลังจากที่เคยลองสาขายูเนี่ยนมอลล์ไป รอบนี้มาที...     4.0   \n",
       "17  ร้านบุฟเฟ่ต์ที่มีโปรโมชั่นหัวละ199บาท ไม่รวมน้...     4.0   \n",
       "18  เคยรู้จักร้านนี้จากที่ union mall ไม่เคยได้ลอง...     3.0   \n",
       "19  อร่อยมากค่ะ คุ้มค่าสมราคา บุฟเฟ่หมูผักต่างๆ รว...     5.0   \n",
       "20  ก็ตามที่เขียนเลยครับ ว่า ถ้าจะจ่ายในราคา 199 บ...     NaN   \n",
       "\n",
       "                                     Review_tokenized  \n",
       "16  หลังจากที่,ลอง,สาขา,ยู,นม,อลล์,รอบ,สาขา,เดอะ,ม...  \n",
       "17  บุฟเฟ่ต์,โปรโมชั่น,หัว,199,บาท,VAT,ธรรมดา,ชอบ,...  \n",
       "18  รู้จัก,union,mall,ลอง,จำได้,ขึ้นใจ,ชื่อ,😆,ชื่อ...  \n",
       "19  อร่อย,คุ้มค่า,สมราคา,หมู,ผัก,จบ,255,ท่าน,เด็ด,...  \n",
       "20  จ่าย,ราคา,199,บาท,จ่าย,เงินสด,ราคา,VAT,7,%,สั่...  "
      ]
     },
     "execution_count": 18,
     "metadata": {},
     "output_type": "execute_result"
    }
   ],
   "source": [
    "#df.head(8)\n",
    "#df[9:16]\n",
    "df.tail(5)"
   ]
  },
  {
   "cell_type": "markdown",
   "metadata": {
    "id": "26a47MzoPh7p"
   },
   "source": [
    "## **Create Dictionary**"
   ]
  },
  {
   "cell_type": "code",
   "execution_count": 19,
   "metadata": {
    "executionInfo": {
     "elapsed": 1880,
     "status": "ok",
     "timestamp": 1605438651278,
     "user": {
      "displayName": "Thanachart Ritbumroong",
      "photoUrl": "",
      "userId": "18414212507793256437"
     },
     "user_tz": -420
    },
    "id": "U06F7vYCPdgX"
   },
   "outputs": [],
   "source": [
    "documents = df['Review_tokenized'].to_list()     # เลือกเฉพาะคำที่ Distinct\n",
    "texts = [[text for text in doc.split(',')] for doc in documents] \n",
    "dictionary = gensim.corpora.Dictionary(texts)    # เอาคำที่ได้ไปเก็บใน dictionary"
   ]
  },
  {
   "cell_type": "code",
   "execution_count": 20,
   "metadata": {
    "colab": {
     "base_uri": "https://localhost:8080/"
    },
    "executionInfo": {
     "elapsed": 1876,
     "status": "ok",
     "timestamp": 1605438651278,
     "user": {
      "displayName": "Thanachart Ritbumroong",
      "photoUrl": "",
      "userId": "18414212507793256437"
     },
     "user_tz": -420
    },
    "id": "vo1LdutKP3vR",
    "outputId": "fa979c72-0cd1-4460-ef4a-6904603a86c2"
   },
   "outputs": [
    {
     "name": "stdout",
     "output_type": "stream",
     "text": [
      "dict_keys(['ข้างนอก', 'ความต้องการ', 'คอ', 'คุณภาพ', 'คุ้ม', 'จำกัด', 'ซุป', 'ดำ', 'ดี', 'ดีมาก', 'ถาด', 'ถาม', 'น่ารัก', 'น้ำจิ้ม', 'บริการ', 'บาท', 'ประทับใจ', 'พนักงาน', 'พอกับ', 'ภาพ', 'รสชาติ', 'ราคา', 'สรุป', 'สะอาดสะอ้าน', 'สัน', 'หลากหลาย', 'อร่อย', 'อันนี้', 'อาหาร', 'เคลม', 'เซ็ท', 'เต้าเจี้ยว', 'เนื้อ', 'เป็ด', 'เผ็ด', 'แบบนี้', 'แปลก', 'แฟน', 'โดยรวม', 'โมจิ', 'ใส่ใจ', 'ไม่ต้อง', 'ไอติม', '\\u200b', '21', '30', '9', 'CTW', 'Terminal', 'กา', 'การงด', 'คิดถึง', 'ญี่ปุ่น', 'ฐาน', 'ทะยอย', 'ทำงาน', 'ที่ทาง', 'นาที', 'นึกถึง', 'พนักงานบริการ', 'พระราม', 'พรีเมียม', 'พาราไดซ์', 'มาตรา', 'มีโอ', 'รายละเอียด', 'ลูกค้า', 'สมาทาน', 'สาขา', 'สู้', 'ออร์เดอร์', 'เครื่องดื่ม', 'เค้า', 'เจอ', 'เป็นกันเอง', 'เหวี่ยง', 'แจ้ง', 'โม่', 'โอเค', '', '++', '555', '600', '::', 'กก', 'กรุบ', 'กั้น', 'ของหวาน', 'คนละ', 'คาว', 'คุ', 'คุ้มค่า', 'จาน', 'จิ้ม', 'จืด', 'ฉาก', 'ชอบ', 'ชาเขียว', 'ชิ้น', 'ซอย', 'ซอส', 'ตก', 'ตะ', 'ตัก', 'ตามน้ำ', 'ต่างกัน', 'ถั่ว', 'ถ่ายรูป', 'นั่ง', 'นุ่ม', 'บด', 'บาร์', 'บู', 'ผัก', 'ภาษา', 'มีชื่อ', 'ยังมี', 'รส', 'รี่', 'รู้สึก', 'ลอง', 'ลิ้น', 'ลืม', 'ววว', 'สด', 'สตอ', 'สั่ง', 'สามรส', 'ส่วนตัว', 'หนึบ', 'หม้อ', 'หวาน', 'อยากได้', 'เข้มข้น', 'เข้ากัน', 'เค็ม', 'เนื้อวัว', 'เนื้อสัตว์', 'เนื้อหมู', 'เบอ', 'เป็นผู้ใหญ่', 'เลือก', 'เสิร์ฟ', 'เหนียว', 'เห็ด', 'แดง', 'แตก', 'แตา', 'แนว', 'แย้', 'โควิด', 'โต๊ะ', 'โร', 'ใส', 'ไก่', 'ไข่', 'ไดฟูกุ', 'ไผ่', 'ไม้', 'ไหว', 'ข้าว', 'จ่าย', 'ถ้วย', 'ธรรมดา', 'ส', 'ออ', 'เกินไป', 'เลี่ยน', 'โปร', 'โหด', 'ไว', 'ไอศกรีม', 'ขนม', 'คุณภาพดี', 'ตัดสินใจ', 'ต่าง ๆ', 'ที่จะ', 'ที่นั่ง', 'บัตรเครดิต', 'มมาก', 'ลูกชิ้น', 'สบายดี', 'หน้า', 'หอ', 'เดิน', 'เด็ก', 'เส้น', 'เหมือนกับ', 'แคบ', 'ได้กลิ่น', 'คามี', 'ซึ', 'นะคะ', 'บ๋วย', 'พอน', 'รา', 'สาย', 'หยิบ', 'โซน', 'โปรโมชั่น', '20', '4.0', '5', 'Menu', 'Number', 'กรรมวิธี', 'กะปิ', 'ก์', 'คน', 'คะแนน', 'ชุด', 'ดังเดิม', 'บุฟเฟ่ต์', 'ประ', 'พารา', 'มอ', 'ยุค', 'ร้านอาหาร', 'ล', 'สุกี้', 'สไตล์', 'ส์', 'หมู', 'หลาก', 'หลายชนิด', 'เดอะ', 'เมนู', 'แบบฉบับ', 'แบ่ง', 'ได', 'ไทย', '–', '!!!!', '500', 'กาแฟ', 'งวด', 'ตอนที่', 'ตำ', 'ติด', 'ทั่วไป', 'น', 'บ๊วย', 'ยุ', 'ร้อน', 'ลุย', 'สุกี้ยากี้', 'อยู่แล้ว', 'ออสเตรเลีย', 'เป็นปกติ', 'เฟรนไชส์', 'เรื่อง', 'เหมาะสม', 'แนะนำ', 'โช', 'ไข่ไก่', 'ไอศครีม', '..', '399', 'กุ้ง', 'ของกิน', 'ขา', 'ชิ', 'ซูชิ', 'ซ่า', 'ตอน', 'ตอนนี้', 'นิดนึง', 'ปุระ', 'ปูอัด', 'ม', 'ละลานตา', 'สายพาน', 'หิว', 'ฮ่า', 'าน', 'เกี๊ยว', 'เท', 'เทียบ', 'เล่น', 'แพง', 'แล้วก็', 'ไม่งั้น', 'กลาย', 'กี่', 'ชั่วคราว', 'ชื่นใจ', 'ซะงั้น', 'ญี่', 'ดึก', 'ตบท้าย', 'ตัว', 'ทอด', 'ทานอาหาร', 'นพ', 'นึก', 'น้ะ', 'ปลา', 'ปุ', 'ผิดหวัง', 'วก', 'สมใจ', 'อย่า', 'อาหารเสริม', 'เติม', 'เป็นมา', 'เป็นหลัก', 'เย็น', '1.15', 'net', 'กลับมา', 'ของคาว', 'ชม.', 'ตรงนั้น', 'ยืน', 'ลายตา', 'สไลด์', 'อัพเดท', 'อิ่ม', 'เบ', 'เพลิน', 'ไลน์', '\"', '/คน', '15', '359', 'G', 'Net', 'Shabushi', 'กด', 'กรอ', 'ขาดสารอาหาร', 'ขึ้นราคา', 'ข่าว', 'คนเดียว', 'ครึ่ง', 'คิว', 'งาน', 'จุ', 'ชั่วโมง', 'ชั้น', 'ชื่น', 'ดู', 'ตลับ', 'ตับ', 'ตั้งอยู่', 'ติง', 'ถนนใหญ่', 'ถูกใจ', 'ทำ', 'ทิ้ง', 'น้ำมัน', 'บดี', 'ปลาดิบ', 'ปอกเปลือก', 'ฝรั่ง', 'ฝั่ง', 'มอลล์', 'มื้อ', 'รอ', 'ระดับ', 'รายการ', 'ลด', 'ลา', 'ลูก', 'วันหยุด', 'วาง', 'วานิลา', 'สะอาด', 'สาเหตุ', 'สำหรับ', 'สไปรท์', 'หนา', 'หอม', 'หอย', 'หาไม่', 'ห่างหาย', 'ห้าง', 'อม', 'ออกมา', 'อาทิตย์', 'อีกครั้ง', 'เช็คบิล', 'เด่น', 'เด้ง', 'เบคอน', 'เปรี้ยวหวาน', 'เพื่อน', 'เลิก', 'เวลา', 'เสาร์', 'เหมือน', 'เหมือนกัน', 'แก้ว', 'แถม', 'แน่น', 'แป้ง', 'แย่', 'แออัด', 'โดน', 'โดยประมาณ', 'โฟลต', 'โอ', 'ใจดี', 'ใจมา', 'ใช้ได้', 'ใส่', 'ได้ยิน', 'ชอค', 'ต', 'นัด', 'นิ', 'มะนาว', 'มุ', 'ลงเอย', 'ว', 'วันก่อน', 'ห', 'หา', 'อยุ่', 'อาหารสด', 'เบอร์', 'แกงค์', 'แล', 'โก', 'กินที่', 'ขยัน', 'จอง', 'ชู', 'ณ์', 'บุฟเฟต์', 'ป', 'ประตู', 'พลาด', 'พอได้', 'พี่', 'รอบ', 'ร้อย', 'สาม', 'สุดท้าย', 'หลายครั้ง', 'หล่ะ', 'อาราม', 'เข้าหน้า', 'เต็ม', 'โชคดี', 'ขวัญใจ', 'ข้อดี', 'ต้องการ', 'ทั่วถึง', 'นํ้า', 'บ', 'ฟเฟ', 'มี่', 'ระบบ', 'รีวิว', 'สวัสดี', 'เก้', 'ใช้แล้ว', '^^', 'xx', 'กลยุทธ์', 'ขนาด', 'ข้น', 'ข้าวปั้น', 'ค่า', 'ชอป', 'ซุ้ม', 'ดีขึ้น', 'ตรงข้าม', 'ตรงนี้', 'ต้ม', 'ต้มยำ', 'ท่าน', 'นัล', 'บริเวณ', 'บัตรสมาชิก', 'ปรับปรุง', 'มันดี', 'มากขึ้น', 'ยอด', 'ลาน', 'สลัด', 'หมู่คณะ', 'ออกร้าน', 'อิอิ', 'เครือ', 'เคลื่อนตัว', 'เคาน์เตอร์', 'เบา', 'เป็นแนว', 'แมค', 'โชคชะตา', 'โด', 'โน้น', 'โออิชิ', '199', '39', '40', '49', 'HALL', 'MCC', 'ค่ายมวย', 'ด้านใน', 'ตอนแรก', 'ตัวเลือก', 'ติดกับ', 'ที่ไหนได้', 'นม', 'นา', 'น้ำดื่ม', 'พิซ', 'พิซซ่า', 'ฟี', 'ยู', 'รี', 'หลังจากที่', 'อลล์', 'อเรีย', 'เซ', 'แกงเขียวหวาน', 'แน่นอน', 'แวะ', '10', '300', '6', 'VAT', 'กำ', 'ค่าน้ำ', 'ช่อง', 'ซี', 'ซึป', 'ถูกหวย', 'ทอน', 'นึง', 'ฟรี', 'ฟู้ด', 'รับประกัน', 'ลอตเตอรี่', 'สัปดาห์', 'หวย', 'หัว', 'ฮัน', 'เงิน', 'แลก', 'โทส', 'ได้เวลา', 'Narai', 'mall', 'pizza', 'pizzeria', 'union', 'ของสด', 'ขึ้นใจ', 'ข้าวมันไก่', 'จำได้', 'ชื่อ', 'ตตี้', 'ตัดกำลัง', 'ตู้', 'นิว', 'บางส่วน', 'ปรุง', 'รู้จัก', 'ลี', 'สปา', 'สุก', 'เก', '😆', '🤣', '128', '255', '29', 'ครีม', 'จบ', 'จุก', 'ชาต', 'บรา', 'บุพ', 'ปิดท้าย', 'ย', 'วิป', 'สมราคา', 'สวย', 'เ', 'เซต', 'เด็ด', 'เป้ง', 'เฟ่', 'เรย', 'เริส', 'เเบบ', 'โชค', '%', '7', 'ทดแทน', 'ปรกติ', 'สดๆ ร้อนๆ', 'เงินสด', 'โดยเฉพาะ'])\n"
     ]
    }
   ],
   "source": [
    "print(dictionary.token2id.keys())"
   ]
  },
  {
   "cell_type": "code",
   "execution_count": 21,
   "metadata": {
    "executionInfo": {
     "elapsed": 1873,
     "status": "ok",
     "timestamp": 1605438651279,
     "user": {
      "displayName": "Thanachart Ritbumroong",
      "photoUrl": "",
      "userId": "18414212507793256437"
     },
     "user_tz": -420
    },
    "id": "VP1X-3ntQGKt"
   },
   "outputs": [],
   "source": [
    "gensim_corpus = [dictionary.doc2bow(text, allow_update=True) for text in texts]    # เอาคำที่ได้ไปเก็บในตัวแปร\n",
    "word_frequencies = [[(dictionary[id], frequence) for id, frequence in couple] for couple in gensim_corpus] # วน loop ของตัวแปรนั้นเพื่อหา frequency ของคำ"
   ]
  },
  {
   "cell_type": "markdown",
   "metadata": {
    "id": "DXgYt5g-0Zcd"
   },
   "source": [
    "## **Topic Modeling**"
   ]
  },
  {
   "cell_type": "code",
   "execution_count": 22,
   "metadata": {
    "colab": {
     "base_uri": "https://localhost:8080/"
    },
    "executionInfo": {
     "elapsed": 1870,
     "status": "ok",
     "timestamp": 1605438651280,
     "user": {
      "displayName": "Thanachart Ritbumroong",
      "photoUrl": "",
      "userId": "18414212507793256437"
     },
     "user_tz": -420
    },
    "id": "kaDtxDpuQZon",
    "outputId": "dc788b0c-8c87-433c-dac4-390376f43614"
   },
   "outputs": [
    {
     "name": "stdout",
     "output_type": "stream",
     "text": [
      "Wall time: 309 ms\n"
     ]
    }
   ],
   "source": [
    "num_topics = 20\n",
    "chunksize = 4000 # size of the doc looked at every pass\n",
    "passes = 20 # number of passes through documents\n",
    "iterations = 50\n",
    "eval_every = 1  # Don't evaluate model perplexity, takes too much time.\n",
    "\n",
    "# Make a index to word dictionary.\n",
    "temp = dictionary[0]  # This is only to \"load\" the dictionary.\n",
    "id2word = dictionary.id2token\n",
    "\n",
    "%time model = gensim.models.LdaModel(corpus=gensim_corpus, id2word=id2word, chunksize=chunksize, \\\n",
    "                       alpha='auto', eta='auto', \\\n",
    "                       iterations=iterations, num_topics=num_topics, \\\n",
    "                       passes=passes, eval_every=eval_every)"
   ]
  },
  {
   "cell_type": "code",
   "execution_count": 23,
   "metadata": {
    "colab": {
     "base_uri": "https://localhost:8080/",
     "height": 861
    },
    "executionInfo": {
     "elapsed": 2831,
     "status": "ok",
     "timestamp": 1605438652246,
     "user": {
      "displayName": "Thanachart Ritbumroong",
      "photoUrl": "",
      "userId": "18414212507793256437"
     },
     "user_tz": -420
    },
    "id": "bdrm8raPROPN",
    "outputId": "72ad1bad-3e07-4825-cbff-90c393e0aa64",
    "scrolled": true
   },
   "outputs": [
    {
     "name": "stderr",
     "output_type": "stream",
     "text": [
      "C:\\Users\\surawich\\AppData\\Roaming\\Python\\Python37\\site-packages\\pyLDAvis\\_prepare.py:247: FutureWarning: In a future version of pandas all arguments of DataFrame.drop except for the argument 'labels' will be keyword-only\n",
      "  by='saliency', ascending=False).head(R).drop('saliency', 1)\n"
     ]
    },
    {
     "data": {
      "text/html": [
       "\n",
       "<link rel=\"stylesheet\" type=\"text/css\" href=\"https://cdn.jsdelivr.net/gh/bmabey/pyLDAvis@3.3.1/pyLDAvis/js/ldavis.v1.0.0.css\">\n",
       "\n",
       "\n",
       "<div id=\"ldavis_el1230431176437558484543567735\"></div>\n",
       "<script type=\"text/javascript\">\n",
       "\n",
       "var ldavis_el1230431176437558484543567735_data = {\"mdsDat\": {\"x\": [0.13279602499872842, 0.08235298983477041, -0.22300044612561332, -0.12418182176088775, 0.14626528251433857, 0.22019063131041863, 0.013569434265601596, -0.08099931591052192, -0.2102561826194672, 0.18044209839249453, 0.18723428044066734, -0.0107757397264098, -0.1506462435099758, -0.110404078081202, -0.05392121091880201, 0.00027288058843721093, 0.00025857588250526286, 0.00025673423234809405, 0.00027250575349423124, 0.0002736004390753838], \"y\": [0.2110801786303719, -0.26324666069218766, -0.1490763917017721, 0.21840926957063111, -0.14920636806373888, -0.08637338684113892, 0.2253998685537696, -0.2092590677555206, 0.058168754717878836, 0.09127153751432134, 0.0036366901100421557, 0.12441318703463565, -0.04010595393196701, 0.0721546200474972, -0.10326177851570191, -0.0008188148243011286, -0.0007807298274001196, -0.0007865934251400219, -0.0008091799362786933, -0.0008091806640005315], \"topics\": [1, 2, 3, 4, 5, 6, 7, 8, 9, 10, 11, 12, 13, 14, 15, 16, 17, 18, 19, 20], \"cluster\": [1, 1, 1, 1, 1, 1, 1, 1, 1, 1, 1, 1, 1, 1, 1, 1, 1, 1, 1, 1], \"Freq\": [25.790304080105546, 15.630185139785006, 7.653239865708117, 7.122431671531496, 5.814851633324217, 5.281088448403747, 4.801889402766454, 4.800632168935034, 4.161344616225746, 4.001238531748791, 3.8394338038963487, 2.8025373183942808, 2.8006795712566923, 2.7207173281666415, 2.6399992112270083, 0.029768436512137696, 0.028108731343676835, 0.028074036689745646, 0.026738001989657836, 0.026738001989657836]}, \"tinfo\": {\"Term\": [\"\\u200b\", \"\", \"\\u0e2d\\u0e23\\u0e48\\u0e2d\\u0e22\", \"\\u0e01\\u0e38\\u0e49\\u0e07\", \"\\u0e2d\\u0e32\\u0e2b\\u0e32\\u0e23\", \"\\u0e40\\u0e25\\u0e37\\u0e2d\\u0e01\", \"\\u0e2a\\u0e32\\u0e02\\u0e32\", \"\\u0e04\\u0e19\", \"\\u0e23\\u0e2a\\u0e0a\\u0e32\\u0e15\\u0e34\", \"\\u0e1a\\u0e38\\u0e1f\\u0e40\\u0e1f\\u0e48\\u0e15\\u0e4c\", \"\\u0e2a\\u0e31\\u0e48\\u0e07\", \"\\u0e2a\\u0e14\", \"\\u0e14\\u0e35\", \"\\u0e40\\u0e19\\u0e37\\u0e49\\u0e2d\", \"\\u0e0b\\u0e39\\u0e0a\\u0e34\", \"\\u0e0b\\u0e38\\u0e1b\", \"\\u0e02\\u0e2d\\u0e07\\u0e2b\\u0e27\\u0e32\\u0e19\", \"\\u0e04\\u0e38\\u0e49\\u0e21\", \"\\u0e23\\u0e32\\u0e04\\u0e32\", \"\\u0e40\\u0e17\", \"\\u0e21\", \"\\u0e1b\\u0e38\\u0e23\\u0e30\", \"\\u0e1a\\u0e32\\u0e17\", \"\\u0e1a\\u0e23\\u0e34\\u0e01\\u0e32\\u0e23\", \"\\u0e23\\u0e2d\", \"\\u0e40\\u0e27\\u0e25\\u0e32\", \"\\u0e08\\u0e48\\u0e32\\u0e22\", \"\\u0e0a\\u0e2d\\u0e1a\", \"\\u0e2b\\u0e19\\u0e49\\u0e32\", \"\\u0e14\\u0e39\", \"\\u0e40\\u0e27\\u0e25\\u0e32\", \"\\u0e2a\\u0e33\\u0e2b\\u0e23\\u0e31\\u0e1a\", \"\\u0e43\\u0e0a\\u0e49\\u0e44\\u0e14\\u0e49\", \"15\", \"\\u0e25\\u0e32\", \"\\u0e0a\\u0e37\\u0e48\\u0e19\", \"\\u0e42\\u0e14\\u0e19\", \"\\u0e43\\u0e08\\u0e14\\u0e35\", \"359\", \"\\u0e27\\u0e32\\u0e19\\u0e34\\u0e25\\u0e32\", \"\\u0e2d\\u0e35\\u0e01\\u0e04\\u0e23\\u0e31\\u0e49\\u0e07\", \"\\u0e40\\u0e0a\\u0e47\\u0e04\\u0e1a\\u0e34\\u0e25\", \"\\u0e40\\u0e14\\u0e49\\u0e07\", \"\\u0e2b\\u0e2d\\u0e21\", \"\\u0e1b\\u0e2d\\u0e01\\u0e40\\u0e1b\\u0e25\\u0e37\\u0e2d\\u0e01\", \"\\u0e2a\\u0e44\\u0e25\\u0e14\\u0e4c\", \"\\u0e01\\u0e25\\u0e31\\u0e1a\\u0e21\\u0e32\", \"\\u0e2a\\u0e14\", \"\\u0e0a\\u0e31\\u0e49\\u0e19\", \"\\u0e15\\u0e31\\u0e27\", \"\\u0e19\\u0e21\", \"\\u0e17\\u0e35\\u0e48\\u0e44\\u0e2b\\u0e19\\u0e44\\u0e14\\u0e49\", \"\\u0e21\\u0e38\", \"\\u0e14\\u0e49\\u0e32\\u0e19\\u0e43\\u0e19\", \"\\u0e15\\u0e34\\u0e14\\u0e01\\u0e31\\u0e1a\", \"\\u0e2b\\u0e25\\u0e31\\u0e07\\u0e08\\u0e32\\u0e01\\u0e17\\u0e35\\u0e48\", \"49\", \"\\u0e19\\u0e49\\u0e33\\u0e14\\u0e37\\u0e48\\u0e21\", \"\\u0e23\\u0e35\", \"\\u0e1f\\u0e35\", \"\\u0e01\\u0e38\\u0e49\\u0e07\", \"\\u0e04\\u0e19\", \"\\u0e0a\\u0e31\\u0e48\\u0e27\\u0e42\\u0e21\\u0e07\", \"G\", \"\\u0e19\\u0e38\\u0e48\\u0e21\", \"\\u0e18\\u0e23\\u0e23\\u0e21\\u0e14\\u0e32\", \"\\u0e42\\u0e0b\\u0e19\", \"\\u0e19\\u0e30\\u0e04\\u0e30\", \"\\u0e19\\u0e32\\u0e17\\u0e35\", \"\\u0e15\\u0e31\\u0e49\\u0e07\\u0e2d\\u0e22\\u0e39\\u0e48\", \"\\u0e14\\u0e35\", \"\\u0e23\\u0e2a\\u0e0a\\u0e32\\u0e15\\u0e34\", \"\\u0e2a\\u0e32\\u0e02\\u0e32\", \"\\u0e40\\u0e14\\u0e2d\\u0e30\", \"\\u0e1a\\u0e32\\u0e17\", \"\\u0e23\\u0e32\\u0e04\\u0e32\", \"\\u0e0b\\u0e39\\u0e0a\\u0e34\", \"\\u0e2d\\u0e32\\u0e2b\\u0e32\\u0e23\", \"\\u0e0b\\u0e38\\u0e1b\", \"\\u0e40\\u0e19\\u0e37\\u0e49\\u0e2d\", \"\\u0e04\\u0e38\\u0e49\\u0e21\", \"\\u0e04\\u0e19\\u0e25\\u0e30\", \"\\u0e1e\\u0e34\\u0e0b\\u0e0b\\u0e48\\u0e32\", \"\\u0e40\\u0e21\\u0e19\\u0e39\", \"\\u0e08\\u0e48\\u0e32\\u0e22\", \"199\", \"\\u0e40\\u0e2b\\u0e47\\u0e14\", \"\\u0e40\\u0e01\\u0e34\\u0e19\\u0e44\\u0e1b\", \"\\u0e19\\u0e4d\\u0e49\\u0e32\", \"\\u0e08\\u0e34\\u0e49\\u0e21\", \"\\u0e44\\u0e1c\\u0e48\", \"::\", \"\\u0e44\\u0e14\\u0e1f\\u0e39\\u0e01\\u0e38\", \"\\u0e44\\u0e21\\u0e49\", \"\", \"\\u0e2a\", \"\\u0e40\\u0e25\\u0e35\\u0e48\\u0e22\\u0e19\", \"\\u0e42\\u0e2b\\u0e14\", \"\\u0e44\\u0e27\", \"\\u0e16\\u0e49\\u0e27\\u0e22\", \"\\u0e17\\u0e31\\u0e48\\u0e27\\u0e16\\u0e36\\u0e07\", \"\\u0e40\\u0e01\\u0e49\", \"\\u0e23\\u0e35\\u0e27\\u0e34\\u0e27\", \"\\u0e2a\\u0e27\\u0e31\\u0e2a\\u0e14\\u0e35\", \"\\u0e02\\u0e27\\u0e31\\u0e0d\\u0e43\\u0e08\", \"\\u0e02\\u0e49\\u0e2d\\u0e14\\u0e35\", \"\\u0e21\\u0e35\\u0e48\", \"\\u0e1f\\u0e40\\u0e1f\", \"\\u0e43\\u0e0a\\u0e49\\u0e41\\u0e25\\u0e49\\u0e27\", \"\\u0e23\\u0e30\\u0e1a\\u0e1a\", \"\\u0e1a\", \"\\u0e15\\u0e49\\u0e2d\\u0e07\\u0e01\\u0e32\\u0e23\", \"\\u0e0a\\u0e34\\u0e49\\u0e19\", \"\\u0e01\\u0e31\\u0e49\\u0e19\", \"\\u0e42\\u0e04\\u0e27\\u0e34\\u0e14\", \"++\", \"\\u0e40\\u0e19\\u0e37\\u0e49\\u0e2d\\u0e27\\u0e31\\u0e27\", \"\\u0e44\\u0e01\\u0e48\", \"\\u0e40\\u0e1b\\u0e47\\u0e14\", \"\\u0e19\\u0e36\\u0e01\\u0e16\\u0e36\\u0e07\", \"\\u0e40\\u0e19\\u0e37\\u0e49\\u0e2d\\u0e2b\\u0e21\\u0e39\", \"555\", \"\\u0e42\\u0e15\\u0e4a\\u0e30\", \"\\u0e0a\\u0e32\\u0e40\\u0e02\\u0e35\\u0e22\\u0e27\", \"\\u0e40\\u0e2a\\u0e34\\u0e23\\u0e4c\\u0e1f\", \"\\u0e23\\u0e2a\", \"\\u0e2a\\u0e48\\u0e27\\u0e19\\u0e15\\u0e31\\u0e27\", \"\\u0e0a\\u0e2d\\u0e1a\", \"\\u0e2a\\u0e31\\u0e48\\u0e07\", \"\\u0e2d\\u0e23\\u0e48\\u0e2d\\u0e22\", \"\\u0e0b\\u0e38\\u0e1b\", \"\\u0e40\\u0e25\\u0e37\\u0e2d\\u0e01\", \"\\u0e14\\u0e33\", \"\\u0e25\\u0e2d\\u0e07\", \"\\u0e40\\u0e19\\u0e37\\u0e49\\u0e2d\", \"\\u0e08\\u0e32\\u0e19\", \"\\u0e2b\\u0e27\\u0e32\\u0e19\", \"\\u0e23\\u0e2a\\u0e0a\\u0e32\\u0e15\\u0e34\", \"\\u0e23\\u0e32\\u0e04\\u0e32\", \"\\u0e04\\u0e38\\u0e49\\u0e21\", \"\\u0e19\\u0e38\\u0e48\\u0e21\", \"\\u0e44\\u0e2d\\u0e15\\u0e34\\u0e21\", \"\\u0e2a\\u0e21\\u0e43\\u0e08\", \"\\u0e17\\u0e32\\u0e19\\u0e2d\\u0e32\\u0e2b\\u0e32\\u0e23\", \"\\u0e19\\u0e49\\u0e30\", \"\\u0e27\\u0e01\", \"\\u0e1b\\u0e38\", \"\\u0e0a\\u0e31\\u0e48\\u0e27\\u0e04\\u0e23\\u0e32\\u0e27\", \"\\u0e40\\u0e1b\\u0e47\\u0e19\\u0e21\\u0e32\", \"\\u0e01\\u0e35\\u0e48\", \"\\u0e14\\u0e36\\u0e01\", \"\\u0e0d\\u0e35\\u0e48\", \"\\u0e2d\\u0e32\\u0e2b\\u0e32\\u0e23\\u0e40\\u0e2a\\u0e23\\u0e34\\u0e21\", \"\\u0e0b\\u0e30\\u0e07\\u0e31\\u0e49\\u0e19\", \"\\u0e01\\u0e25\\u0e32\\u0e22\", \"\\u0e40\\u0e22\\u0e47\\u0e19\", \"\\u0e19\\u0e1e\", \"\\u0e1b\\u0e25\\u0e32\", \"\\u0e0a\\u0e37\\u0e48\\u0e19\\u0e43\\u0e08\", \"\\u0e44\\u0e2d\\u0e28\\u0e04\\u0e23\\u0e35\\u0e21\", \"\\u0e1a\\u0e4a\\u0e27\\u0e22\", \"\\u0e01\\u0e32\\u0e41\\u0e1f\", \"\\u0e15\\u0e33\", \"\\u0e15\\u0e2d\\u0e19\\u0e17\\u0e35\\u0e48\", \"\\u0e40\\u0e1f\\u0e23\\u0e19\\u0e44\\u0e0a\\u0e2a\\u0e4c\", \"\\u0e17\\u0e31\\u0e48\\u0e27\\u0e44\\u0e1b\", \"\\u0e44\\u0e02\\u0e48\\u0e44\\u0e01\\u0e48\", \"\\u0e23\\u0e49\\u0e2d\\u0e19\", \"\\u0e2a\\u0e38\\u0e01\\u0e35\\u0e49\\u0e22\\u0e32\\u0e01\\u0e35\\u0e49\", \"\\u0e40\\u0e1b\\u0e47\\u0e19\\u0e1b\\u0e01\\u0e15\\u0e34\", \"\\u0e2d\\u0e2d\\u0e2a\\u0e40\\u0e15\\u0e23\\u0e40\\u0e25\\u0e35\\u0e22\", \"500\", \"\\u0e40\\u0e17\", \"\\u0e21\", \"\\u0e1b\\u0e38\\u0e23\\u0e30\", \"\\u0e14\\u0e35\\u0e21\\u0e32\\u0e01\", \"\\u0e41\\u0e19\\u0e30\\u0e19\\u0e33\", \"\\u0e01\\u0e38\\u0e49\\u0e07\", \"\\u0e17\\u0e2d\\u0e14\", \"\\u0e0a\\u0e2d\\u0e1a\", \"\\u0e23\\u0e2a\\u0e0a\\u0e32\\u0e15\\u0e34\", \"\\u0e0b\\u0e38\\u0e1b\", \"\\u0e44\\u0e02\\u0e48\", \"\\u0e25\\u0e37\\u0e21\", \"\\u0e19\\u0e36\\u0e01\", \"\\u0e0b\\u0e39\\u0e0a\\u0e34\", \"\\u0e40\\u0e15\\u0e34\\u0e21\", \"\\u0e0a\\u0e34\", \"\\u0e15\\u0e31\\u0e27\", \"\\u0e1c\\u0e34\\u0e14\\u0e2b\\u0e27\\u0e31\\u0e07\", \"\\u0e04\\u0e48\\u0e32\", \"\\u0e42\\u0e14\", \"\\u0e01\\u0e25\\u0e22\\u0e38\\u0e17\\u0e18\\u0e4c\", \"\\u0e42\\u0e19\\u0e49\\u0e19\", \"\\u0e1b\\u0e23\\u0e31\\u0e1a\\u0e1b\\u0e23\\u0e38\\u0e07\", \"\\u0e25\\u0e32\\u0e19\", \"\\u0e14\\u0e35\\u0e02\\u0e36\\u0e49\\u0e19\", \"\\u0e15\\u0e23\\u0e07\\u0e02\\u0e49\\u0e32\\u0e21\", \"\\u0e22\\u0e2d\\u0e14\", \"xx\", \"\\u0e1a\\u0e23\\u0e34\\u0e40\\u0e27\\u0e13\", \"\\u0e02\\u0e19\\u0e32\\u0e14\", \"\\u0e2d\\u0e2d\\u0e01\\u0e23\\u0e49\\u0e32\\u0e19\", \"\\u0e21\\u0e32\\u0e01\\u0e02\\u0e36\\u0e49\\u0e19\", \"\\u0e19\\u0e31\\u0e25\", \"\\u0e40\\u0e1b\\u0e47\\u0e19\\u0e41\\u0e19\\u0e27\", \"\\u0e2b\\u0e21\\u0e39\\u0e48\\u0e04\\u0e13\\u0e30\", \"\\u0e2a\\u0e25\\u0e31\\u0e14\", \"\\u0e02\\u0e49\\u0e19\", \"\\u0e40\\u0e04\\u0e25\\u0e37\\u0e48\\u0e2d\\u0e19\\u0e15\\u0e31\\u0e27\", \"\\u0e42\\u0e0a\\u0e04\\u0e0a\\u0e30\\u0e15\\u0e32\", \"\\u0e02\\u0e49\\u0e32\\u0e27\\u0e1b\\u0e31\\u0e49\\u0e19\", \"\\u0e40\\u0e04\\u0e32\\u0e19\\u0e4c\\u0e40\\u0e15\\u0e2d\\u0e23\\u0e4c\", \"\\u0e15\\u0e23\\u0e07\\u0e19\\u0e35\\u0e49\", \"\\u0e21\\u0e31\\u0e19\\u0e14\\u0e35\", \"\\u0e0a\\u0e2d\\u0e1b\", \"^^\", \"\\u0e0b\\u0e38\\u0e49\\u0e21\", \"\\u0e40\\u0e04\\u0e23\\u0e37\\u0e2d\", \"\\u0e15\\u0e49\\u0e21\", \"\\u0e42\\u0e2d\\u0e2d\\u0e34\\u0e0a\\u0e34\", \"\\u0e2b\\u0e21\\u0e49\\u0e2d\", \"\\u0e2b\\u0e19\\u0e49\\u0e32\", \"\\u0e2b\\u0e49\\u0e32\\u0e07\", \"\\u0e2a\\u0e32\\u0e22\\u0e1e\\u0e32\\u0e19\", \"\\u0e40\\u0e25\\u0e37\\u0e2d\\u0e01\", \"\\u0e0a\\u0e34\", \"\\u0e2d\\u0e32\\u0e2b\\u0e32\\u0e23\", \"\\u0e14\\u0e35\", \"\\u0e1a\\u0e32\\u0e17\", \"\\u0e0b\\u0e38\\u0e1b\", \"\\u0e23\\u0e2d\", \"\\u0e40\\u0e19\\u0e37\\u0e49\\u0e2d\", \"\\u0e40\\u0e14\\u0e2d\\u0e30\", \"\\u0e23\\u0e32\\u0e04\\u0e32\", \"\\u0e04\\u0e34\\u0e27\", \"\\u0e08\\u0e32\\u0e19\", \"\\u0e2a\\u0e32\\u0e02\\u0e32\", \"\\u0e15\\u0e49\\u0e21\\u0e22\\u0e33\", \"\\u0e02\\u0e2d\\u0e07\\u0e2b\\u0e27\\u0e32\\u0e19\", \"\\u0e41\\u0e19\\u0e48\\u0e19\", \"\\u0e27\\u0e32\\u0e07\", \"\\u0e15\\u0e31\\u0e49\\u0e07\\u0e2d\\u0e22\\u0e39\\u0e48\", \"\\u0e17\\u0e2d\\u0e14\", \"\\u0e40\\u0e21\\u0e19\\u0e39\", \"\\u0e01\\u0e30\\u0e1b\\u0e34\", \"\\u0e25\\u0e14\", \"\\u0e04\\u0e38\\u0e13\\u0e20\\u0e32\\u0e1e\", \"\\u0e21\\u0e2d\\u0e25\\u0e25\\u0e4c\", \"\\u0e41\\u0e16\\u0e21\", \"\\u0e04\\u0e34\\u0e14\\u0e16\\u0e36\\u0e07\", \"21\", \"Terminal\", \"\\u0e1e\\u0e23\\u0e35\\u0e40\\u0e21\\u0e35\\u0e22\\u0e21\", \"\\u0e01\\u0e32\\u0e23\\u0e07\\u0e14\", \"9\", \"\\u0e10\\u0e32\\u0e19\", \"\\u0e17\\u0e35\\u0e48\\u0e17\\u0e32\\u0e07\", \"\\u0e21\\u0e32\\u0e15\\u0e23\\u0e32\", \"\\u0e17\\u0e30\\u0e22\\u0e2d\\u0e22\", \"\\u0e40\\u0e1b\\u0e47\\u0e19\\u0e01\\u0e31\\u0e19\\u0e40\\u0e2d\\u0e07\", \"\\u0e1e\\u0e19\\u0e31\\u0e01\\u0e07\\u0e32\\u0e19\\u0e1a\\u0e23\\u0e34\\u0e01\\u0e32\\u0e23\", \"\\u0e2a\\u0e39\\u0e49\", \"\\u0e41\\u0e08\\u0e49\\u0e07\", \"\\u0e1e\\u0e32\\u0e23\\u0e32\\u0e44\\u0e14\\u0e0b\\u0e4c\", \"\\u0e40\\u0e04\\u0e23\\u0e37\\u0e48\\u0e2d\\u0e07\\u0e14\\u0e37\\u0e48\\u0e21\", \"30\", \"\\u0e2a\\u0e21\\u0e32\\u0e17\\u0e32\\u0e19\", \"\\u0e40\\u0e2b\\u0e27\\u0e35\\u0e48\\u0e22\\u0e07\", \"\\u0e17\\u0e33\\u0e07\\u0e32\\u0e19\", \"\\u0e1e\\u0e23\\u0e30\\u0e23\\u0e32\\u0e21\", \"\\u0e2d\\u0e2d\\u0e23\\u0e4c\\u0e40\\u0e14\\u0e2d\\u0e23\\u0e4c\", \"\\u0e40\\u0e04\\u0e49\\u0e32\", \"\\u0e40\\u0e08\\u0e2d\", \"\\u0e21\\u0e35\\u0e42\\u0e2d\", \"\\u0e1a\\u0e4b\\u0e27\\u0e22\", \"\\u0e2a\\u0e32\\u0e22\", \"\\u0e04\\u0e32\\u0e21\\u0e35\", \"\\u0e23\\u0e32\", \"CTW\", \"\\u0e0d\\u0e35\\u0e48\\u0e1b\\u0e38\\u0e48\\u0e19\", \"\\u0e2a\\u0e32\\u0e02\\u0e32\", \"\\u0e1e\\u0e19\\u0e31\\u0e01\\u0e07\\u0e32\\u0e19\", \"\\u0e14\\u0e35\", \"\\u0e1a\\u0e23\\u0e34\\u0e01\\u0e32\\u0e23\", \"\\u0e0a\\u0e2d\\u0e1a\", \"\\u0e40\\u0e25\\u0e37\\u0e2d\\u0e01\", \"\\u0e42\\u0e2d\\u0e40\\u0e04\", \"\\u0e19\\u0e32\\u0e17\\u0e35\", \"\\u0e2d\\u0e23\\u0e48\\u0e2d\\u0e22\", \"\\u0e04\\u0e38\\u0e13\\u0e20\\u0e32\\u0e1e\", \"\\u0e2d\\u0e32\\u0e2b\\u0e32\\u0e23\", \"\\u0e19\\u0e36\\u0e01\\u0e16\\u0e36\\u0e07\", \"\\u0e01\\u0e32\", \"\\u0e42\\u0e21\\u0e48\", \"\\u0e23\\u0e32\\u0e22\\u0e25\\u0e30\\u0e40\\u0e2d\\u0e35\\u0e22\\u0e14\", \"\\u0e19\\u0e48\\u0e32\\u0e23\\u0e31\\u0e01\", \"\\u0e40\\u0e19\\u0e37\\u0e49\\u0e2d\\u0e27\\u0e31\\u0e27\", \"\\u200b\", \"\\u0e1b\\u0e23\\u0e30\\u0e17\\u0e31\\u0e1a\\u0e43\\u0e08\", \"\\u0e20\\u0e32\\u0e1e\", \"\\u0e04\\u0e27\\u0e32\\u0e21\\u0e15\\u0e49\\u0e2d\\u0e07\\u0e01\\u0e32\\u0e23\", \"\\u0e02\\u0e49\\u0e32\\u0e07\\u0e19\\u0e2d\\u0e01\", \"\\u0e08\\u0e33\\u0e01\\u0e31\\u0e14\", \"\\u0e40\\u0e04\\u0e25\\u0e21\", \"\\u0e42\\u0e21\\u0e08\\u0e34\", \"\\u0e41\\u0e1a\\u0e1a\\u0e19\\u0e35\\u0e49\", \"\\u0e16\\u0e32\\u0e21\", \"\\u0e41\\u0e1f\\u0e19\", \"\\u0e43\\u0e2a\\u0e48\\u0e43\\u0e08\", \"\\u0e1e\\u0e2d\\u0e01\\u0e31\\u0e1a\", \"\\u0e2a\\u0e30\\u0e2d\\u0e32\\u0e14\\u0e2a\\u0e30\\u0e2d\\u0e49\\u0e32\\u0e19\", \"\\u0e44\\u0e21\\u0e48\\u0e15\\u0e49\\u0e2d\\u0e07\", \"\\u0e16\\u0e32\\u0e14\", \"\\u0e40\\u0e1c\\u0e47\\u0e14\", \"\\u0e40\\u0e15\\u0e49\\u0e32\\u0e40\\u0e08\\u0e35\\u0e49\\u0e22\\u0e27\", \"\\u0e41\\u0e1b\\u0e25\\u0e01\", \"\\u0e40\\u0e0b\\u0e47\\u0e17\", \"\\u0e2d\\u0e31\\u0e19\\u0e19\\u0e35\\u0e49\", \"\\u0e19\\u0e48\\u0e32\\u0e23\\u0e31\\u0e01\", \"\\u0e2a\\u0e31\\u0e19\", \"\\u0e2a\\u0e23\\u0e38\\u0e1b\", \"\\u0e1a\\u0e23\\u0e34\\u0e01\\u0e32\\u0e23\", \"\\u0e42\\u0e14\\u0e22\\u0e23\\u0e27\\u0e21\", \"\\u0e2b\\u0e25\\u0e32\\u0e01\\u0e2b\\u0e25\\u0e32\\u0e22\", \"\\u0e04\\u0e2d\", \"\\u0e40\\u0e1b\\u0e47\\u0e14\", \"\\u0e04\\u0e38\\u0e13\\u0e20\\u0e32\\u0e1e\", \"\\u0e23\\u0e2a\\u0e0a\\u0e32\\u0e15\\u0e34\", \"\\u0e2d\\u0e32\\u0e2b\\u0e32\\u0e23\", \"\\u0e2d\\u0e23\\u0e48\\u0e2d\\u0e22\", \"\\u0e40\\u0e19\\u0e37\\u0e49\\u0e2d\", \"\\u0e14\\u0e35\", \"\\u0e14\\u0e35\\u0e21\\u0e32\\u0e01\", \"\\u0e0b\\u0e38\\u0e1b\", \"\\u0e1a\\u0e32\\u0e17\", \"\\u0e19\\u0e49\\u0e33\\u0e08\\u0e34\\u0e49\\u0e21\", \"\\u0e23\\u0e32\\u0e04\\u0e32\", \"\\u0e44\\u0e2d\\u0e15\\u0e34\\u0e21\", \"\\u0e14\\u0e33\", \"\\u0e1e\\u0e19\\u0e31\\u0e01\\u0e07\\u0e32\\u0e19\", \"\\u0e1a\\u0e38\\u0e1f\\u0e40\\u0e1f\\u0e15\\u0e4c\", \"\\u0e40\\u0e02\\u0e49\\u0e32\\u0e2b\\u0e19\\u0e49\\u0e32\", \"\\u0e1b\", \"\\u0e2b\\u0e25\\u0e32\\u0e22\\u0e04\\u0e23\\u0e31\\u0e49\\u0e07\", \"\\u0e1e\\u0e35\\u0e48\", \"\\u0e01\\u0e34\\u0e19\\u0e17\\u0e35\\u0e48\", \"\\u0e1e\\u0e25\\u0e32\\u0e14\", \"\\u0e40\\u0e15\\u0e47\\u0e21\", \"\\u0e08\\u0e2d\\u0e07\", \"\\u0e2a\\u0e38\\u0e14\\u0e17\\u0e49\\u0e32\\u0e22\", \"\\u0e2b\\u0e25\\u0e48\\u0e30\", \"\\u0e2d\\u0e32\\u0e23\\u0e32\\u0e21\", \"\\u0e1e\\u0e2d\\u0e44\\u0e14\\u0e49\", \"\\u0e2a\\u0e32\\u0e21\", \"\\u0e13\\u0e4c\", \"\\u0e23\\u0e49\\u0e2d\\u0e22\", \"\\u0e42\\u0e0a\\u0e04\\u0e14\\u0e35\", \"\\u0e17\\u0e35\\u0e48\\u0e19\\u0e31\\u0e48\\u0e07\", \"\\u0e40\\u0e14\\u0e34\\u0e19\", \"\\u0e41\\u0e1e\\u0e07\", \"\\u0e41\\u0e25\\u0e49\\u0e27\\u0e01\\u0e47\", \"\\u0e23\\u0e2d\", \"\\u0e02\\u0e22\\u0e31\\u0e19\", \"\\u0e1b\\u0e23\\u0e30\\u0e15\\u0e39\", \"\\u0e0a\\u0e39\", \"\\u0e23\\u0e2d\\u0e1a\", \"\\u0e04\\u0e23\\u0e36\\u0e48\\u0e07\", \"Shabushi\", \"\\u0e40\\u0e25\\u0e34\\u0e01\", \"\\u0e04\\u0e34\\u0e27\", \"\\u0e14\\u0e39\", \"\\u0e1c\\u0e31\\u0e01\", \"\\u0e04\\u0e19\", \"\\u0e14\\u0e35\", \"\\u0e1a\\u0e32\\u0e17\", \"\\u0e23\\u0e32\\u0e04\\u0e32\", \"\\u0e40\\u0e19\\u0e37\\u0e49\\u0e2d\", \"\\u0e2a\\u0e32\\u0e02\\u0e32\", \"\\u0e2a\\u0e14\", \"\\u0e1e\\u0e19\\u0e31\\u0e01\\u0e07\\u0e32\\u0e19\", \"\\u0e21\\u0e2d\\u0e25\\u0e25\\u0e4c\", \"\\u0e01\\u0e30\\u0e1b\\u0e34\", \"\\u0e40\\u0e14\\u0e2d\\u0e30\", \"\\u0e0a\\u0e31\\u0e49\\u0e19\", \"\\u0e2b\\u0e22\\u0e34\\u0e1a\", \"\\u0e40\\u0e25\\u0e37\\u0e2d\\u0e01\", \"\\u0e2b\\u0e49\\u0e32\\u0e07\", \"G\", \"\\u0e2a\\u0e32\\u0e22\\u0e1e\\u0e32\\u0e19\", \"\\u0e0a\\u0e31\\u0e48\\u0e27\\u0e42\\u0e21\\u0e07\", \"\\u0e0a\\u0e34\", \"\\u0e42\\u0e2d\\u0e40\\u0e04\", \"\\u0e1f\\u0e23\\u0e35\", \"\\u0e0a\\u0e48\\u0e2d\\u0e07\", \"\\u0e41\\u0e25\\u0e01\", \"\\u0e44\\u0e14\\u0e49\\u0e40\\u0e27\\u0e25\\u0e32\", \"\\u0e01\\u0e33\", \"\\u0e0b\\u0e36\\u0e1b\", \"\\u0e1f\\u0e39\\u0e49\\u0e14\", \"\\u0e2e\\u0e31\\u0e19\", \"\\u0e2b\\u0e27\\u0e22\", \"10\", \"\\u0e23\\u0e31\\u0e1a\\u0e1b\\u0e23\\u0e30\\u0e01\\u0e31\\u0e19\", \"\\u0e2b\\u0e31\\u0e27\", \"\\u0e04\\u0e48\\u0e32\\u0e19\\u0e49\\u0e33\", \"\\u0e2a\\u0e31\\u0e1b\\u0e14\\u0e32\\u0e2b\\u0e4c\", \"\\u0e42\\u0e17\\u0e2a\", \"\\u0e19\\u0e36\\u0e07\", \"\\u0e0b\\u0e35\", \"\\u0e40\\u0e07\\u0e34\\u0e19\", \"300\", \"\\u0e25\\u0e2d\\u0e15\\u0e40\\u0e15\\u0e2d\\u0e23\\u0e35\\u0e48\", \"\\u0e17\\u0e2d\\u0e19\", \"\\u0e16\\u0e39\\u0e01\\u0e2b\\u0e27\\u0e22\", \"6\", \"\\u0e0a\\u0e38\\u0e14\", \"\\u0e1a\\u0e38\\u0e1f\\u0e40\\u0e1f\\u0e48\\u0e15\\u0e4c\", \"VAT\", \"\\u0e41\\u0e19\\u0e30\\u0e19\\u0e33\", \"\\u0e41\\u0e1a\\u0e48\\u0e07\", \"\\u0e2d\\u0e31\\u0e19\\u0e19\\u0e35\\u0e49\", \"\\u0e15\\u0e49\\u0e21\\u0e22\\u0e33\", \"\\u0e04\\u0e19\\u0e25\\u0e30\", \"\\u0e40\\u0e25\\u0e37\\u0e2d\\u0e01\", \"\\u0e1a\\u0e32\\u0e17\", \"\\u0e0b\\u0e38\\u0e1b\", \"\\u0e2d\\u0e23\\u0e48\\u0e2d\\u0e22\", \"\\u0e0a\\u0e2d\\u0e1a\", \"\\u0e14\\u0e35\", \"\\u0e18\\u0e23\\u0e23\\u0e21\\u0e14\\u0e32\", \"199\", \"\\u0e2b\\u0e21\\u0e49\\u0e2d\", \"\\u0e1e\\u0e34\\u0e0b\", \"\\u0e19\\u0e32\", \"\\u0e0a\\u0e21.\", \"\\u0e2a\\u0e38\\u0e01\\u0e35\\u0e49\", \"\\u2013\", \"\\u0e2a\\u0e4c\", \"Menu\", \"4.0\", \"\\u0e2a\\u0e44\\u0e15\\u0e25\\u0e4c\", \"\\u0e14\\u0e31\\u0e07\\u0e40\\u0e14\\u0e34\\u0e21\", \"\\u0e23\\u0e49\\u0e32\\u0e19\\u0e2d\\u0e32\\u0e2b\\u0e32\\u0e23\", \"\\u0e1b\\u0e23\\u0e30\", \"\\u0e41\\u0e1a\\u0e1a\\u0e09\\u0e1a\\u0e31\\u0e1a\", \"Number\", \"\\u0e21\\u0e2d\", \"20\", \"\\u0e44\\u0e17\\u0e22\", \"\\u0e2b\\u0e25\\u0e32\\u0e22\\u0e0a\\u0e19\\u0e34\\u0e14\", \"\\u0e01\\u0e23\\u0e23\\u0e21\\u0e27\\u0e34\\u0e18\\u0e35\", \"\\u0e01\\u0e4c\", \"\\u0e22\\u0e38\\u0e04\", \"\\u0e1e\\u0e32\\u0e23\\u0e32\", \"\\u0e44\\u0e14\", \"\\u0e04\\u0e30\\u0e41\\u0e19\\u0e19\", \"\\u0e41\\u0e1a\\u0e48\\u0e07\", \"\\u0e40\\u0e0b\\u0e47\\u0e17\", \"\\u0e0b\\u0e36\", \"\\u0e1e\\u0e2d\\u0e19\", \"\\u0e23\\u0e32\\u0e22\\u0e25\\u0e30\\u0e40\\u0e2d\\u0e35\\u0e22\\u0e14\", \"600\", \"5\", \"\\u0e2b\\u0e25\\u0e32\\u0e01\", \"\\u0e25\", \"\\u0e19\\u0e49\\u0e33\\u0e08\\u0e34\\u0e49\\u0e21\", \"\\u0e14\\u0e33\", \"\\u0e40\\u0e25\\u0e37\\u0e2d\\u0e01\", \"\\u0e23\\u0e2a\\u0e0a\\u0e32\\u0e15\\u0e34\", \"\\u0e40\\u0e19\\u0e37\\u0e49\\u0e2d\", \"\\u0e2d\\u0e32\\u0e2b\\u0e32\\u0e23\", \"\\u0e23\\u0e32\\u0e04\\u0e32\", \"\\u0e04\\u0e19\", \"\\u0e0d\\u0e35\\u0e48\\u0e1b\\u0e38\\u0e48\\u0e19\", \"\\u0e1a\\u0e32\\u0e17\", \"\\u0e1c\\u0e31\\u0e01\", \"\\u0e2a\\u0e32\\u0e02\\u0e32\", \"\\u0e1a\\u0e38\\u0e1f\\u0e40\\u0e1f\\u0e48\\u0e15\\u0e4c\", \"\\u0e40\\u0e21\\u0e19\\u0e39\", \"\\u0e2b\\u0e21\\u0e39\", \"\\u0e40\\u0e14\\u0e2d\\u0e30\", \"\\u0e01\\u0e30\\u0e1b\\u0e34\", \"\\u0e22\", \"\\u0e2a\\u0e21\\u0e23\\u0e32\\u0e04\\u0e32\", \"\\u0e27\\u0e34\\u0e1b\", \"\\u0e40\\u0e1f\\u0e48\", \"\\u0e40\\u0e14\\u0e47\\u0e14\", \"\\u0e40\\u0e23\\u0e34\\u0e2a\", \"\\u0e1a\\u0e38\\u0e1e\", \"255\", \"\\u0e40\\u0e1b\\u0e49\\u0e07\", \"\\u0e0a\\u0e32\\u0e15\", \"\\u0e04\\u0e23\\u0e35\\u0e21\", \"\\u0e40\\u0e23\\u0e22\", \"\\u0e40\\u0e0b\\u0e15\", \"128\", \"\\u0e2a\\u0e27\\u0e22\", \"29\", \"\\u0e1a\\u0e23\\u0e32\", \"\\u0e40\\u0e40\\u0e1a\\u0e1a\", \"\\u0e40\", \"\\u0e08\\u0e1a\", \"\\u0e08\\u0e38\\u0e01\", \"\\u0e1b\\u0e34\\u0e14\\u0e17\\u0e49\\u0e32\\u0e22\", \"\\u0e42\\u0e0a\\u0e04\", \"\\u0e21\\u0e21\\u0e32\\u0e01\", \"\\u0e2b\\u0e2d\", \"\\u0e01\\u0e32\", \"\\u0e17\\u0e48\\u0e32\\u0e19\", \"\\u0e15\\u0e1a\\u0e17\\u0e49\\u0e32\\u0e22\", \"\\u0e01\\u0e01\", \"\\u0e07\\u0e32\\u0e19\", \"\\u0e02\\u0e2d\\u0e07\\u0e2b\\u0e27\\u0e32\\u0e19\", \"\\u0e2d\\u0e23\\u0e48\\u0e2d\\u0e22\", \"\\u0e14\\u0e35\", \"\\u0e44\\u0e2d\\u0e15\\u0e34\\u0e21\", \"\\u0e42\\u0e1b\\u0e23\\u0e42\\u0e21\\u0e0a\\u0e31\\u0e48\\u0e19\", \"\\u0e1c\\u0e31\\u0e01\", \"\\u0e23\\u0e32\\u0e04\\u0e32\", \"\\u0e04\\u0e38\\u0e49\\u0e21\\u0e04\\u0e48\\u0e32\", \"\\u0e14\\u0e35\\u0e21\\u0e32\\u0e01\", \"\\u0e2b\\u0e21\\u0e39\", \"\\u0e0a\\u0e37\\u0e48\\u0e2d\", \"\\u0e1a\\u0e32\\u0e07\\u0e2a\\u0e48\\u0e27\\u0e19\", \"pizzeria\", \"mall\", \"union\", \"\\u0e40\\u0e01\", \"\\u0e15\\u0e31\\u0e14\\u0e01\\u0e33\\u0e25\\u0e31\\u0e07\", \"\\u0e15\\u0e39\\u0e49\", \"\\u0e1b\\u0e23\\u0e38\\u0e07\", \"\\u0e2a\\u0e1b\\u0e32\", \"\\u0e02\\u0e49\\u0e32\\u0e27\\u0e21\\u0e31\\u0e19\\u0e44\\u0e01\\u0e48\", \"Narai\", \"\\u0e19\\u0e34\\u0e27\", \"\\u0e23\\u0e39\\u0e49\\u0e08\\u0e31\\u0e01\", \"pizza\", \"\\u0e02\\u0e36\\u0e49\\u0e19\\u0e43\\u0e08\", \"\\u0e15\\u0e15\\u0e35\\u0e49\", \"\\ud83d\\ude06\", \"\\u0e25\\u0e35\", \"\\u0e02\\u0e2d\\u0e07\\u0e2a\\u0e14\", \"\\ud83e\\udd23\", \"\\u0e08\\u0e33\\u0e44\\u0e14\\u0e49\", \"\\u0e2a\\u0e38\\u0e01\", \"\\u0e44\\u0e25\\u0e19\\u0e4c\", \"\\u0e02\\u0e22\\u0e31\\u0e19\", \"\\\"\", \"\\u0e2d\\u0e22\\u0e39\\u0e48\\u0e41\\u0e25\\u0e49\\u0e27\", \"\\u0e40\\u0e2b\\u0e21\\u0e32\\u0e30\\u0e2a\\u0e21\", \"\\u0e19\", \"\\u0e22\\u0e31\\u0e07\\u0e21\\u0e35\", \"\\u0e2d\\u0e32\\u0e2b\\u0e32\\u0e23\", \"\\u0e14\\u0e35\", \"\\u0e23\\u0e39\\u0e49\\u0e2a\\u0e36\\u0e01\", \"\\u0e44\\u0e01\\u0e48\", \"\\u0e2d\\u0e2d\", \"\\u0e2b\\u0e25\\u0e32\\u0e01\\u0e2b\\u0e25\\u0e32\\u0e22\", \"\\u0e25\\u0e2d\\u0e07\", \"\\u0e2a\\u0e31\\u0e48\\u0e07\", \"\\u0e2b\\u0e22\\u0e34\\u0e1a\", \"\\u0e04\\u0e38\\u0e13\\u0e20\\u0e32\\u0e1e\", \"\\u0e1a\\u0e23\\u0e34\\u0e01\\u0e32\\u0e23\", \"\\u0e23\\u0e32\\u0e04\\u0e32\", \"\\u0e15\\u0e48\\u0e32\\u0e07 \\u0e46\", \"\\u0e02\\u0e19\\u0e21\", \"\\u0e04\\u0e38\\u0e13\\u0e20\\u0e32\\u0e1e\\u0e14\\u0e35\", \"\\u0e15\\u0e31\\u0e14\\u0e2a\\u0e34\\u0e19\\u0e43\\u0e08\", \"\\u0e17\\u0e35\\u0e48\\u0e08\\u0e30\", \"\\u0e2a\\u0e1a\\u0e32\\u0e22\\u0e14\\u0e35\", \"\\u0e40\\u0e14\\u0e47\\u0e01\", \"\\u0e40\\u0e2a\\u0e49\\u0e19\", \"\\u0e40\\u0e2b\\u0e21\\u0e37\\u0e2d\\u0e19\\u0e01\\u0e31\\u0e1a\", \"\\u0e41\\u0e04\\u0e1a\", \"\\u0e44\\u0e14\\u0e49\\u0e01\\u0e25\\u0e34\\u0e48\\u0e19\", \"\\u0e1a\\u0e31\\u0e15\\u0e23\\u0e40\\u0e04\\u0e23\\u0e14\\u0e34\\u0e15\", \"\\u0e19\\u0e31\\u0e48\\u0e07\", \"\\u0e21\\u0e21\\u0e32\\u0e01\", \"\\u0e2b\\u0e2d\", \"\\u0e40\\u0e14\\u0e34\\u0e19\", \"\\u0e17\\u0e35\\u0e48\\u0e19\\u0e31\\u0e48\\u0e07\", \"CTW\", \"\\u0e42\\u0e1b\\u0e23\", \"\\u0e25\\u0e39\\u0e01\\u0e0a\\u0e34\\u0e49\\u0e19\", \"\\u0e2b\\u0e25\\u0e32\\u0e01\\u0e2b\\u0e25\\u0e32\\u0e22\", \"\\u0e15\\u0e31\\u0e01\", \"\\u0e2b\\u0e19\\u0e49\\u0e32\", \"\\u0e1c\\u0e31\\u0e01\", \"\\u0e2a\\u0e32\\u0e02\\u0e32\", \"\\u0e1a\\u0e23\\u0e34\\u0e01\\u0e32\\u0e23\", \"\\u0e40\\u0e25\\u0e37\\u0e2d\\u0e01\", \"\\u0e40\\u0e19\\u0e37\\u0e49\\u0e2d\", \"\\u0e2a\\u0e31\\u0e48\\u0e07\", \"\\u0e2d\\u0e23\\u0e48\\u0e2d\\u0e22\", \"\\u0e1b\\u0e39\\u0e2d\\u0e31\\u0e14\", \"\\u0e02\\u0e2d\\u0e07\\u0e01\\u0e34\\u0e19\", \"\\u0e40\\u0e01\\u0e35\\u0e4a\\u0e22\\u0e27\", \"\\u0e0b\\u0e48\\u0e32\", \"\\u0e25\\u0e30\\u0e25\\u0e32\\u0e19\\u0e15\\u0e32\", \"\\u0e44\\u0e21\\u0e48\\u0e07\\u0e31\\u0e49\\u0e19\", \"\\u0e2e\\u0e48\\u0e32\", \"\\u0e02\\u0e32\", \"..\", \"\\u0e32\\u0e19\", \"\\u0e15\\u0e2d\\u0e19\\u0e19\\u0e35\\u0e49\", \"399\", \"\\u0e41\\u0e1e\\u0e07\", \"\\u0e41\\u0e25\\u0e49\\u0e27\\u0e01\\u0e47\", \"\\u0e40\\u0e25\\u0e48\\u0e19\", \"\\u0e1a\\u0e39\", \"\\u0e19\\u0e34\\u0e14\\u0e19\\u0e36\\u0e07\", \"\\u0e40\\u0e17\\u0e35\\u0e22\\u0e1a\", \"\\u0e2b\\u0e34\\u0e27\", \"\\u0e15\\u0e2d\\u0e19\", \"\\u0e04\\u0e38\\u0e49\\u0e21\", \"\\u0e2d\\u0e32\\u0e2b\\u0e32\\u0e23\", \"\\u0e2a\\u0e32\\u0e22\\u0e1e\\u0e32\\u0e19\", \"\\u0e40\\u0e17\", \"\\u0e1b\\u0e38\\u0e23\\u0e30\", \"\\u0e21\", \"\\u0e40\\u0e21\\u0e19\\u0e39\", \"\\u0e0b\\u0e39\\u0e0a\\u0e34\", \"\\u0e0a\\u0e34\", \"\\u0e01\\u0e38\\u0e49\\u0e07\", \"\\u0e23\\u0e32\\u0e04\\u0e32\", \"\\u0e1a\\u0e32\\u0e17\", \"\\u0e1b\\u0e23\\u0e01\\u0e15\\u0e34\", \"\\u0e2a\\u0e14\\u0e46 \\u0e23\\u0e49\\u0e2d\\u0e19\\u0e46\", \"\\u0e40\\u0e07\\u0e34\\u0e19\\u0e2a\\u0e14\", \"\\u0e42\\u0e14\\u0e22\\u0e40\\u0e09\\u0e1e\\u0e32\\u0e30\", \"%\", \"7\", \"\\u0e17\\u0e14\\u0e41\\u0e17\\u0e19\", \"VAT\", \"\\u0e41\\u0e1b\\u0e25\\u0e01\", \"\", \"\\u0e08\\u0e48\\u0e32\\u0e22\", \"\\u0e15\\u0e2d\\u0e19\", \"\\u0e0b\\u0e39\\u0e0a\\u0e34\", \"\\u0e42\\u0e2d\\u0e40\\u0e04\", \"199\", \"\\u0e2a\\u0e31\\u0e48\\u0e07\", \"\\u0e1e\\u0e34\\u0e0b\\u0e0b\\u0e48\\u0e32\", \"\\u0e40\\u0e19\\u0e37\\u0e49\\u0e2d\\u0e27\\u0e31\\u0e27\", \"\\u0e2b\\u0e19\\u0e49\\u0e32\", \"\\u0e14\\u0e39\", \"\\u0e25\\u0e2d\\u0e07\", \"\\u0e23\\u0e32\\u0e04\\u0e32\", \"\\u0e02\\u0e2d\\u0e07\\u0e2b\\u0e27\\u0e32\\u0e19\", \"\\u0e2d\\u0e23\\u0e48\\u0e2d\\u0e22\", \"\\u0e1a\\u0e32\\u0e17\", \"\\u0e2d\\u0e32\\u0e2b\\u0e32\\u0e23\", \"\\u0e15\\u0e23\\u0e07\\u0e19\\u0e31\\u0e49\\u0e19\", \"net\", \"1.15\", \"\\u0e02\\u0e2d\\u0e07\\u0e04\\u0e32\\u0e27\", \"\\u0e0b\\u0e38\\u0e1b\", \"\\u0e2a\\u0e32\\u0e02\\u0e32\", \"\\u0e23\\u0e2a\\u0e0a\\u0e32\\u0e15\\u0e34\", \"\\u0e01\\u0e38\\u0e49\\u0e07\", \"\\u0e25\\u0e32\\u0e22\\u0e15\\u0e32\", \"\\u0e2d\\u0e31\\u0e1e\\u0e40\\u0e14\\u0e17\", \"\\u0e22\\u0e37\\u0e19\", \"\\u0e02\\u0e2d\\u0e07\\u0e04\\u0e32\\u0e27\", \"1.15\", \"net\", \"\\u0e15\\u0e23\\u0e07\\u0e19\\u0e31\\u0e49\\u0e19\", \"399\", \"\\u0e15\\u0e2d\\u0e19\\u0e19\\u0e35\\u0e49\", \"\\u0e44\\u0e25\\u0e19\\u0e4c\", \"\\u0e40\\u0e1b\\u0e47\\u0e19\\u0e2b\\u0e25\\u0e31\\u0e01\", \"\\u0e40\\u0e1a\", \"\\u0e40\\u0e1e\\u0e25\\u0e34\\u0e19\", \"\\u0e2d\\u0e34\\u0e48\\u0e21\", \"\\u0e0a\\u0e21.\", \"\\u0e01\\u0e25\\u0e31\\u0e1a\\u0e21\\u0e32\", \"\\u0e2a\\u0e44\\u0e25\\u0e14\\u0e4c\", \"\\u0e23\\u0e2a\", \"\\u0e21\", \"\\u0e1b\\u0e38\\u0e23\\u0e30\", \"\\u0e40\\u0e17\", \"\\u0e0b\\u0e39\\u0e0a\\u0e34\", \"\\u0e1a\\u0e38\\u0e1f\\u0e40\\u0e1f\\u0e48\\u0e15\\u0e4c\", \"\\u0e0a\\u0e34\", \"\\u0e04\\u0e38\\u0e49\\u0e21\", \"\\u0e2a\\u0e14\", \"\\u0e01\\u0e38\\u0e49\\u0e07\", \"\\u0e1a\\u0e32\\u0e17\", \"\\u0e23\\u0e32\\u0e04\\u0e32\", \"\\u0e0b\\u0e38\\u0e1b\", \"\\u0e40\\u0e25\\u0e37\\u0e2d\\u0e01\", \"\\u0e40\\u0e19\\u0e37\\u0e49\\u0e2d\", \"\\u0e14\\u0e35\", \"\\u0e15\\u0e23\\u0e07\\u0e19\\u0e31\\u0e49\\u0e19\", \"net\", \"1.15\", \"\\u0e02\\u0e2d\\u0e07\\u0e04\\u0e32\\u0e27\", \"\\u0e22\\u0e37\\u0e19\", \"\\u0e2d\\u0e31\\u0e1e\\u0e40\\u0e14\\u0e17\", \"\\u0e25\\u0e32\\u0e22\\u0e15\\u0e32\", \"%\", \"7\", \"\\u0e17\\u0e14\\u0e41\\u0e17\\u0e19\", \"\\u0e1b\\u0e23\\u0e01\\u0e15\\u0e34\", \"\\u0e2a\\u0e14\\u0e46 \\u0e23\\u0e49\\u0e2d\\u0e19\\u0e46\", \"\\u0e40\\u0e07\\u0e34\\u0e19\\u0e2a\\u0e14\", \"\\u0e42\\u0e14\\u0e22\\u0e40\\u0e09\\u0e1e\\u0e32\\u0e30\", \"\\u0e1a\\u0e31\\u0e15\\u0e23\\u0e40\\u0e04\\u0e23\\u0e14\\u0e34\\u0e15\", \"\\u0e02\\u0e19\\u0e21\", \"\\u0e04\\u0e38\\u0e13\\u0e20\\u0e32\\u0e1e\\u0e14\\u0e35\", \"\\u0e15\\u0e31\\u0e14\\u0e2a\\u0e34\\u0e19\\u0e43\\u0e08\", \"\\u0e17\\u0e35\\u0e48\\u0e08\\u0e30\", \"\\u0e2a\\u0e1a\\u0e32\\u0e22\\u0e14\\u0e35\", \"\\u0e40\\u0e14\\u0e47\\u0e01\", \"\\u0e40\\u0e2a\\u0e49\\u0e19\", \"\\u0e40\\u0e2b\\u0e21\\u0e37\\u0e2d\\u0e19\\u0e01\\u0e31\\u0e1a\", \"\\u0e41\\u0e04\\u0e1a\", \"\\u0e44\\u0e14\\u0e49\\u0e01\\u0e25\\u0e34\\u0e48\\u0e19\", \"\\u0e1b\\u0e39\\u0e2d\\u0e31\\u0e14\", \"\\u0e02\\u0e2d\\u0e07\\u0e01\\u0e34\\u0e19\", \"\\u0e40\\u0e01\\u0e35\\u0e4a\\u0e22\\u0e27\", \"\\u0e0b\\u0e48\\u0e32\", \"\\u0e25\\u0e30\\u0e25\\u0e32\\u0e19\\u0e15\\u0e32\", \"\\u0e23\\u0e49\\u0e2d\\u0e22\", \"\\u0e13\\u0e4c\", \"\\u0e2a\\u0e32\\u0e21\", \"\\u0e42\\u0e0a\\u0e04\\u0e14\\u0e35\", \"\\u200b\", \"\\u0e0b\\u0e38\\u0e1b\", \"\\u0e23\\u0e2a\\u0e0a\\u0e32\\u0e15\\u0e34\", \"\\u0e40\\u0e25\\u0e37\\u0e2d\\u0e01\", \"\\u0e40\\u0e19\\u0e37\\u0e49\\u0e2d\", \"\\u0e23\\u0e32\\u0e04\\u0e32\", \"\\u0e2d\\u0e23\\u0e48\\u0e2d\\u0e22\", \"\\u0e0a\\u0e34\", \"\\u0e1a\\u0e32\\u0e17\", \"\\u0e23\\u0e2a\", \"\\u0e14\\u0e35\", \"\\u0e04\\u0e38\\u0e49\\u0e21\", \"\", \"\\u0e2a\\u0e14\", \"\\u0e2d\\u0e32\\u0e2b\\u0e32\\u0e23\", \"\\u0e40\\u0e1e\\u0e25\\u0e34\\u0e19\", \"\\u0e1a\\u0e38\\u0e1f\\u0e40\\u0e1f\\u0e48\\u0e15\\u0e4c\", \"\\u0e1a\\u0e23\\u0e34\\u0e01\\u0e32\\u0e23\", \"\\u0e40\\u0e17\", \"\\u0e15\\u0e2d\\u0e19\\u0e19\\u0e35\\u0e49\", \"\\u0e23\\u0e2d\", \"\\u0e1b\\u0e38\\u0e23\\u0e30\", \"\\u0e1e\\u0e19\\u0e31\\u0e01\\u0e07\\u0e32\\u0e19\", \"\\u0e14\\u0e33\", \"\\u0e2d\\u0e34\\u0e48\\u0e21\", \"\\u0e0b\\u0e39\\u0e0a\\u0e34\", \"\\u0e15\\u0e23\\u0e07\\u0e19\\u0e31\\u0e49\\u0e19\", \"net\", \"1.15\", \"\\u0e02\\u0e2d\\u0e07\\u0e04\\u0e32\\u0e27\", \"\\u0e22\\u0e37\\u0e19\", \"\\u0e2d\\u0e31\\u0e1e\\u0e40\\u0e14\\u0e17\", \"\\u0e25\\u0e32\\u0e22\\u0e15\\u0e32\", \"%\", \"7\", \"\\u0e17\\u0e14\\u0e41\\u0e17\\u0e19\", \"\\u0e1b\\u0e23\\u0e01\\u0e15\\u0e34\", \"\\u0e2a\\u0e14\\u0e46 \\u0e23\\u0e49\\u0e2d\\u0e19\\u0e46\", \"\\u0e40\\u0e07\\u0e34\\u0e19\\u0e2a\\u0e14\", \"\\u0e42\\u0e14\\u0e22\\u0e40\\u0e09\\u0e1e\\u0e32\\u0e30\", \"\\u0e1a\\u0e31\\u0e15\\u0e23\\u0e40\\u0e04\\u0e23\\u0e14\\u0e34\\u0e15\", \"\\u0e02\\u0e19\\u0e21\", \"\\u0e04\\u0e38\\u0e13\\u0e20\\u0e32\\u0e1e\\u0e14\\u0e35\", \"\\u0e15\\u0e31\\u0e14\\u0e2a\\u0e34\\u0e19\\u0e43\\u0e08\", \"\\u0e17\\u0e35\\u0e48\\u0e08\\u0e30\", \"\\u0e2a\\u0e1a\\u0e32\\u0e22\\u0e14\\u0e35\", \"\\u0e40\\u0e14\\u0e47\\u0e01\", \"\\u0e40\\u0e2a\\u0e49\\u0e19\", \"\\u0e40\\u0e2b\\u0e21\\u0e37\\u0e2d\\u0e19\\u0e01\\u0e31\\u0e1a\", \"\\u0e41\\u0e04\\u0e1a\", \"\\u0e44\\u0e14\\u0e49\\u0e01\\u0e25\\u0e34\\u0e48\\u0e19\", \"\\u0e1b\\u0e39\\u0e2d\\u0e31\\u0e14\", \"\\u0e02\\u0e2d\\u0e07\\u0e01\\u0e34\\u0e19\", \"\\u0e40\\u0e01\\u0e35\\u0e4a\\u0e22\\u0e27\", \"\\u0e0b\\u0e48\\u0e32\", \"\\u0e25\\u0e30\\u0e25\\u0e32\\u0e19\\u0e15\\u0e32\", \"\\u0e1a\\u0e31\\u0e15\\u0e23\\u0e2a\\u0e21\\u0e32\\u0e0a\\u0e34\\u0e01\", \"\\u0e42\\u0e0a\\u0e04\\u0e0a\\u0e30\\u0e15\\u0e32\", \"\\u0e2d\\u0e34\\u0e2d\\u0e34\", \"\\u0e0b\\u0e38\\u0e49\\u0e21\", \"\\u0e2a\\u0e25\\u0e31\\u0e14\", \"\\u0e0a\\u0e2d\\u0e1b\", \"\\u0e2b\\u0e21\\u0e39\\u0e48\\u0e04\\u0e13\\u0e30\", \"\\u0e40\\u0e04\\u0e23\\u0e37\\u0e2d\", \"\\u0e2d\\u0e2d\\u0e01\\u0e23\\u0e49\\u0e32\\u0e19\", \"\\u0e15\\u0e23\\u0e07\\u0e02\\u0e49\\u0e32\\u0e21\", \"\\u0e40\\u0e1b\\u0e47\\u0e19\\u0e41\\u0e19\\u0e27\", \"\\u0e21\\u0e32\\u0e01\\u0e02\\u0e36\\u0e49\\u0e19\", \"\\u0e15\\u0e23\\u0e07\\u0e19\\u0e35\\u0e49\", \"\\u0e1b\\u0e23\\u0e31\\u0e1a\\u0e1b\\u0e23\\u0e38\\u0e07\", \"\\u0e40\\u0e1a\\u0e32\", \"xx\", \"\\u0e41\\u0e21\\u0e04\", \"^^\", \"\\u0e19\\u0e31\\u0e25\", \"\\u0e40\\u0e04\\u0e32\\u0e19\\u0e4c\\u0e40\\u0e15\\u0e2d\\u0e23\\u0e4c\", \"\\u0e21\\u0e31\\u0e19\\u0e14\\u0e35\", \"\\u0e02\\u0e49\\u0e19\", \"\\u0e02\\u0e49\\u0e32\\u0e27\\u0e1b\\u0e31\\u0e49\\u0e19\", \"\\u0e1a\\u0e23\\u0e34\\u0e40\\u0e27\\u0e13\", \"\\u0e15\\u0e49\\u0e21\", \"\\u0e42\\u0e14\", \"\\u0e40\\u0e04\\u0e25\\u0e37\\u0e48\\u0e2d\\u0e19\\u0e15\\u0e31\\u0e27\", \"\\u0e02\\u0e19\\u0e32\\u0e14\", \"\\u0e42\\u0e2d\\u0e2d\\u0e34\\u0e0a\\u0e34\", \"\\u0e22\\u0e2d\\u0e14\", \"\\u0e2b\\u0e19\\u0e49\\u0e32\", \"\\u0e2b\\u0e21\\u0e49\\u0e2d\", \"\\u0e40\\u0e25\\u0e37\\u0e2d\\u0e01\", \"\\u0e2d\\u0e32\\u0e2b\\u0e32\\u0e23\", \"\\u0e04\\u0e48\\u0e32\", \"\\u0e2a\\u0e32\\u0e22\\u0e1e\\u0e32\\u0e19\", \"\\u0e2b\\u0e49\\u0e32\\u0e07\", \"\\u0e0a\\u0e34\", \"\\u0e2a\\u0e32\\u0e02\\u0e32\", \"\\u0e15\\u0e31\\u0e49\\u0e07\\u0e2d\\u0e22\\u0e39\\u0e48\", \"\\u0e04\\u0e34\\u0e27\", \"\\u0e14\\u0e35\", \"\\u0e44\\u0e2d\\u0e15\\u0e34\\u0e21\", \"\\u0e04\\u0e38\\u0e13\\u0e20\\u0e32\\u0e1e\", \"\\u0e2b\\u0e22\\u0e34\\u0e1a\", \"\\u0e04\\u0e2d\", \"\\u0e17\\u0e2d\\u0e14\", \"\\u0e14\\u0e33\", \"\\u0e42\\u0e15\\u0e4a\\u0e30\", \"\\u0e23\\u0e2d\", \"\\u0e01\\u0e30\\u0e1b\\u0e34\", \"\\u0e40\\u0e15\\u0e34\\u0e21\", \"\\u0e41\\u0e19\\u0e48\\u0e19\", \"\\u0e40\\u0e19\\u0e37\\u0e49\\u0e2d\", \"\\u0e41\\u0e16\\u0e21\", \"\\u0e15\\u0e23\\u0e07\\u0e19\\u0e31\\u0e49\\u0e19\", \"net\", \"1.15\", \"\\u0e02\\u0e2d\\u0e07\\u0e04\\u0e32\\u0e27\", \"\\u0e22\\u0e37\\u0e19\", \"\\u0e2d\\u0e31\\u0e1e\\u0e40\\u0e14\\u0e17\", \"\\u0e25\\u0e32\\u0e22\\u0e15\\u0e32\", \"%\", \"7\", \"\\u0e17\\u0e14\\u0e41\\u0e17\\u0e19\", \"\\u0e1b\\u0e23\\u0e01\\u0e15\\u0e34\", \"\\u0e2a\\u0e14\\u0e46 \\u0e23\\u0e49\\u0e2d\\u0e19\\u0e46\", \"\\u0e40\\u0e07\\u0e34\\u0e19\\u0e2a\\u0e14\", \"\\u0e42\\u0e14\\u0e22\\u0e40\\u0e09\\u0e1e\\u0e32\\u0e30\", \"\\u0e1a\\u0e31\\u0e15\\u0e23\\u0e40\\u0e04\\u0e23\\u0e14\\u0e34\\u0e15\", \"\\u0e02\\u0e19\\u0e21\", \"\\u0e04\\u0e38\\u0e13\\u0e20\\u0e32\\u0e1e\\u0e14\\u0e35\", \"\\u0e15\\u0e31\\u0e14\\u0e2a\\u0e34\\u0e19\\u0e43\\u0e08\", \"\\u0e17\\u0e35\\u0e48\\u0e08\\u0e30\", \"\\u0e2a\\u0e1a\\u0e32\\u0e22\\u0e14\\u0e35\", \"\\u0e40\\u0e14\\u0e47\\u0e01\", \"\\u0e40\\u0e2a\\u0e49\\u0e19\", \"\\u0e40\\u0e2b\\u0e21\\u0e37\\u0e2d\\u0e19\\u0e01\\u0e31\\u0e1a\", \"\\u0e41\\u0e04\\u0e1a\", \"\\u0e44\\u0e14\\u0e49\\u0e01\\u0e25\\u0e34\\u0e48\\u0e19\", \"\\u0e1b\\u0e39\\u0e2d\\u0e31\\u0e14\", \"\\u0e02\\u0e2d\\u0e07\\u0e01\\u0e34\\u0e19\", \"\\u0e40\\u0e01\\u0e35\\u0e4a\\u0e22\\u0e27\", \"\\u0e0b\\u0e48\\u0e32\", \"\\u0e25\\u0e30\\u0e25\\u0e32\\u0e19\\u0e15\\u0e32\", \"^^\", \"\\u0e15\\u0e49\\u0e21\", \"\\u0e15\\u0e23\\u0e07\\u0e19\\u0e35\\u0e49\", \"\\u0e41\\u0e21\\u0e04\", \"\\u0e02\\u0e19\\u0e32\\u0e14\", \"\\u0e40\\u0e04\\u0e32\\u0e19\\u0e4c\\u0e40\\u0e15\\u0e2d\\u0e23\\u0e4c\", \"\\u0e40\\u0e04\\u0e25\\u0e37\\u0e48\\u0e2d\\u0e19\\u0e15\\u0e31\\u0e27\", \"\\u0e42\\u0e19\\u0e49\\u0e19\", \"\\u0e02\\u0e49\\u0e19\", \"\\u0e40\\u0e1a\\u0e32\", \"\\u0e42\\u0e2d\\u0e2d\\u0e34\\u0e0a\\u0e34\", \"\\u0e1a\\u0e23\\u0e34\\u0e40\\u0e27\\u0e13\", \"\\u0e22\\u0e2d\\u0e14\", \"\\u0e21\\u0e31\\u0e19\\u0e14\\u0e35\", \"\\u0e14\\u0e35\\u0e02\\u0e36\\u0e49\\u0e19\", \"\\u0e02\\u0e49\\u0e32\\u0e27\\u0e1b\\u0e31\\u0e49\\u0e19\", \"\\u0e01\\u0e25\\u0e22\\u0e38\\u0e17\\u0e18\\u0e4c\", \"\\u0e19\\u0e31\\u0e25\", \"\\u0e21\\u0e32\\u0e01\\u0e02\\u0e36\\u0e49\\u0e19\", \"\\u0e40\\u0e1b\\u0e47\\u0e19\\u0e41\\u0e19\\u0e27\", \"\\u0e25\\u0e32\\u0e19\", \"\\u0e2d\\u0e2d\\u0e01\\u0e23\\u0e49\\u0e32\\u0e19\", \"\\u0e2d\\u0e34\\u0e2d\\u0e34\", \"\\u0e0a\\u0e2d\\u0e1b\", \"\\u0e0b\\u0e38\\u0e49\\u0e21\", \"\\u0e40\\u0e04\\u0e23\\u0e37\\u0e2d\", \"\\u0e42\\u0e0a\\u0e04\\u0e0a\\u0e30\\u0e15\\u0e32\", \"xx\", \"\\u0e40\\u0e25\\u0e37\\u0e2d\\u0e01\", \"\\u0e2b\\u0e19\\u0e49\\u0e32\", \"\\u0e2b\\u0e21\\u0e49\\u0e2d\", \"\\u0e2a\\u0e32\\u0e22\\u0e1e\\u0e32\\u0e19\", \"\\u0e0a\\u0e34\", \"\\u0e2b\\u0e49\\u0e32\\u0e07\", \"\\u0e04\\u0e48\\u0e32\", \"\\u0e2d\\u0e32\\u0e2b\\u0e32\\u0e23\", \"\\u0e40\\u0e14\\u0e2d\\u0e30\", \"\\u0e21\\u0e2d\\u0e25\\u0e25\\u0e4c\", \"\\u0e2a\\u0e32\\u0e02\\u0e32\", \"\\u0e43\\u0e2a\", \"\\u0e40\\u0e21\\u0e19\\u0e39\", \"\\u0e41\\u0e16\\u0e21\", \"\\u0e40\\u0e19\\u0e37\\u0e49\\u0e2d\", \"\\u0e01\\u0e30\\u0e1b\\u0e34\", \"\\u0e15\\u0e49\\u0e21\\u0e22\\u0e33\", \"\\u0e02\\u0e2d\\u0e07\\u0e2b\\u0e27\\u0e32\\u0e19\", \"\\u0e14\\u0e35\\u0e21\\u0e32\\u0e01\", \"\\u0e25\\u0e14\", \"\\u0e2b\\u0e22\\u0e34\\u0e1a\", \"\\u0e44\\u0e2d\\u0e15\\u0e34\\u0e21\", \"\\u0e15\\u0e23\\u0e07\\u0e19\\u0e31\\u0e49\\u0e19\", \"net\", \"1.15\", \"\\u0e02\\u0e2d\\u0e07\\u0e04\\u0e32\\u0e27\", \"\\u0e22\\u0e37\\u0e19\", \"\\u0e2d\\u0e31\\u0e1e\\u0e40\\u0e14\\u0e17\", \"\\u0e25\\u0e32\\u0e22\\u0e15\\u0e32\", \"%\", \"7\", \"\\u0e17\\u0e14\\u0e41\\u0e17\\u0e19\", \"\\u0e1b\\u0e23\\u0e01\\u0e15\\u0e34\", \"\\u0e2a\\u0e14\\u0e46 \\u0e23\\u0e49\\u0e2d\\u0e19\\u0e46\", \"\\u0e40\\u0e07\\u0e34\\u0e19\\u0e2a\\u0e14\", \"\\u0e42\\u0e14\\u0e22\\u0e40\\u0e09\\u0e1e\\u0e32\\u0e30\", \"\\u0e1a\\u0e31\\u0e15\\u0e23\\u0e40\\u0e04\\u0e23\\u0e14\\u0e34\\u0e15\", \"\\u0e02\\u0e19\\u0e21\", \"\\u0e04\\u0e38\\u0e13\\u0e20\\u0e32\\u0e1e\\u0e14\\u0e35\", \"\\u0e15\\u0e31\\u0e14\\u0e2a\\u0e34\\u0e19\\u0e43\\u0e08\", \"\\u0e17\\u0e35\\u0e48\\u0e08\\u0e30\", \"\\u0e2a\\u0e1a\\u0e32\\u0e22\\u0e14\\u0e35\", \"\\u0e40\\u0e14\\u0e47\\u0e01\", \"\\u0e40\\u0e2a\\u0e49\\u0e19\", \"\\u0e40\\u0e2b\\u0e21\\u0e37\\u0e2d\\u0e19\\u0e01\\u0e31\\u0e1a\", \"\\u0e41\\u0e04\\u0e1a\", \"\\u0e44\\u0e14\\u0e49\\u0e01\\u0e25\\u0e34\\u0e48\\u0e19\", \"\\u0e1b\\u0e39\\u0e2d\\u0e31\\u0e14\", \"\\u0e02\\u0e2d\\u0e07\\u0e01\\u0e34\\u0e19\", \"\\u0e40\\u0e01\\u0e35\\u0e4a\\u0e22\\u0e27\", \"\\u0e0b\\u0e48\\u0e32\", \"\\u0e25\\u0e30\\u0e25\\u0e32\\u0e19\\u0e15\\u0e32\", \"\\u0e02\\u0e49\\u0e32\\u0e07\\u0e19\\u0e2d\\u0e01\", \"\\u0e04\\u0e27\\u0e32\\u0e21\\u0e15\\u0e49\\u0e2d\\u0e07\\u0e01\\u0e32\\u0e23\", \"\\u0e04\\u0e2d\", \"\\u0e04\\u0e38\\u0e13\\u0e20\\u0e32\\u0e1e\", \"\\u0e04\\u0e38\\u0e49\\u0e21\", \"\\u0e08\\u0e33\\u0e01\\u0e31\\u0e14\", \"\\u0e0b\\u0e38\\u0e1b\", \"\\u0e14\\u0e33\", \"\\u0e14\\u0e35\", \"\\u0e14\\u0e35\\u0e21\\u0e32\\u0e01\", \"\\u0e16\\u0e32\\u0e14\", \"\\u0e16\\u0e32\\u0e21\", \"\\u0e19\\u0e48\\u0e32\\u0e23\\u0e31\\u0e01\", \"\\u0e19\\u0e49\\u0e33\\u0e08\\u0e34\\u0e49\\u0e21\", \"\\u0e1a\\u0e23\\u0e34\\u0e01\\u0e32\\u0e23\", \"\\u0e1a\\u0e32\\u0e17\", \"\\u0e1b\\u0e23\\u0e30\\u0e17\\u0e31\\u0e1a\\u0e43\\u0e08\", \"\\u0e1e\\u0e19\\u0e31\\u0e01\\u0e07\\u0e32\\u0e19\", \"\\u0e1e\\u0e2d\\u0e01\\u0e31\\u0e1a\", \"\\u0e20\\u0e32\\u0e1e\", \"\\u0e23\\u0e2a\\u0e0a\\u0e32\\u0e15\\u0e34\", \"\\u0e23\\u0e32\\u0e04\\u0e32\", \"\\u0e2a\\u0e23\\u0e38\\u0e1b\", \"\\u0e2a\\u0e30\\u0e2d\\u0e32\\u0e14\\u0e2a\\u0e30\\u0e2d\\u0e49\\u0e32\\u0e19\", \"\\u0e2a\\u0e31\\u0e19\", \"\\u0e2b\\u0e25\\u0e32\\u0e01\\u0e2b\\u0e25\\u0e32\\u0e22\", \"\\u0e2d\\u0e23\\u0e48\\u0e2d\\u0e22\", \"\\u0e2d\\u0e31\\u0e19\\u0e19\\u0e35\\u0e49\", \"\\u0e2d\\u0e32\\u0e2b\\u0e32\\u0e23\", \"\\u0e40\\u0e04\\u0e25\\u0e21\", \"\\u0e15\\u0e23\\u0e07\\u0e19\\u0e31\\u0e49\\u0e19\", \"net\", \"1.15\", \"\\u0e02\\u0e2d\\u0e07\\u0e04\\u0e32\\u0e27\", \"\\u0e22\\u0e37\\u0e19\", \"\\u0e2d\\u0e31\\u0e1e\\u0e40\\u0e14\\u0e17\", \"\\u0e25\\u0e32\\u0e22\\u0e15\\u0e32\", \"%\", \"7\", \"\\u0e17\\u0e14\\u0e41\\u0e17\\u0e19\", \"\\u0e1b\\u0e23\\u0e01\\u0e15\\u0e34\", \"\\u0e2a\\u0e14\\u0e46 \\u0e23\\u0e49\\u0e2d\\u0e19\\u0e46\", \"\\u0e40\\u0e07\\u0e34\\u0e19\\u0e2a\\u0e14\", \"\\u0e42\\u0e14\\u0e22\\u0e40\\u0e09\\u0e1e\\u0e32\\u0e30\", \"\\u0e1a\\u0e31\\u0e15\\u0e23\\u0e40\\u0e04\\u0e23\\u0e14\\u0e34\\u0e15\", \"\\u0e02\\u0e19\\u0e21\", \"\\u0e04\\u0e38\\u0e13\\u0e20\\u0e32\\u0e1e\\u0e14\\u0e35\", \"\\u0e15\\u0e31\\u0e14\\u0e2a\\u0e34\\u0e19\\u0e43\\u0e08\", \"\\u0e17\\u0e35\\u0e48\\u0e08\\u0e30\", \"\\u0e2a\\u0e1a\\u0e32\\u0e22\\u0e14\\u0e35\", \"\\u0e40\\u0e14\\u0e47\\u0e01\", \"\\u0e40\\u0e2a\\u0e49\\u0e19\", \"\\u0e40\\u0e2b\\u0e21\\u0e37\\u0e2d\\u0e19\\u0e01\\u0e31\\u0e1a\", \"\\u0e41\\u0e04\\u0e1a\", \"\\u0e44\\u0e14\\u0e49\\u0e01\\u0e25\\u0e34\\u0e48\\u0e19\", \"\\u0e1b\\u0e39\\u0e2d\\u0e31\\u0e14\", \"\\u0e02\\u0e2d\\u0e07\\u0e01\\u0e34\\u0e19\", \"\\u0e40\\u0e01\\u0e35\\u0e4a\\u0e22\\u0e27\", \"\\u0e0b\\u0e48\\u0e32\", \"\\u0e25\\u0e30\\u0e25\\u0e32\\u0e19\\u0e15\\u0e32\", \"\\u0e02\\u0e49\\u0e32\\u0e07\\u0e19\\u0e2d\\u0e01\", \"\\u0e04\\u0e27\\u0e32\\u0e21\\u0e15\\u0e49\\u0e2d\\u0e07\\u0e01\\u0e32\\u0e23\", \"\\u0e04\\u0e2d\", \"\\u0e04\\u0e38\\u0e13\\u0e20\\u0e32\\u0e1e\", \"\\u0e04\\u0e38\\u0e49\\u0e21\", \"\\u0e08\\u0e33\\u0e01\\u0e31\\u0e14\", \"\\u0e0b\\u0e38\\u0e1b\", \"\\u0e14\\u0e33\", \"\\u0e14\\u0e35\", \"\\u0e14\\u0e35\\u0e21\\u0e32\\u0e01\", \"\\u0e16\\u0e32\\u0e14\", \"\\u0e16\\u0e32\\u0e21\", \"\\u0e19\\u0e48\\u0e32\\u0e23\\u0e31\\u0e01\", \"\\u0e19\\u0e49\\u0e33\\u0e08\\u0e34\\u0e49\\u0e21\", \"\\u0e1a\\u0e23\\u0e34\\u0e01\\u0e32\\u0e23\", \"\\u0e1a\\u0e32\\u0e17\", \"\\u0e1b\\u0e23\\u0e30\\u0e17\\u0e31\\u0e1a\\u0e43\\u0e08\", \"\\u0e1e\\u0e19\\u0e31\\u0e01\\u0e07\\u0e32\\u0e19\", \"\\u0e1e\\u0e2d\\u0e01\\u0e31\\u0e1a\", \"\\u0e20\\u0e32\\u0e1e\", \"\\u0e23\\u0e2a\\u0e0a\\u0e32\\u0e15\\u0e34\", \"\\u0e23\\u0e32\\u0e04\\u0e32\", \"\\u0e2a\\u0e23\\u0e38\\u0e1b\", \"\\u0e2a\\u0e30\\u0e2d\\u0e32\\u0e14\\u0e2a\\u0e30\\u0e2d\\u0e49\\u0e32\\u0e19\", \"\\u0e2a\\u0e31\\u0e19\", \"\\u0e2b\\u0e25\\u0e32\\u0e01\\u0e2b\\u0e25\\u0e32\\u0e22\", \"\\u0e2d\\u0e23\\u0e48\\u0e2d\\u0e22\", \"\\u0e2d\\u0e31\\u0e19\\u0e19\\u0e35\\u0e49\", \"\\u0e2d\\u0e32\\u0e2b\\u0e32\\u0e23\", \"\\u0e40\\u0e04\\u0e25\\u0e21\"], \"Freq\": [8.0, 7.0, 16.0, 11.0, 13.0, 14.0, 10.0, 9.0, 12.0, 6.0, 7.0, 8.0, 15.0, 14.0, 6.0, 14.0, 7.0, 7.0, 13.0, 5.0, 5.0, 5.0, 11.0, 5.0, 5.0, 5.0, 4.0, 7.0, 4.0, 5.0, 5.525772572112188, 4.6125110981729405, 2.7858218180728844, 2.785700821890052, 1.8724570620321621, 1.8724016679980862, 1.87239971644675, 1.8723833534393943, 1.8723962637020788, 1.872352879214686, 1.8723605353006965, 1.8723591842266945, 1.8723452231286755, 1.8723348648946612, 1.8723073930566234, 2.785866853872946, 2.7856611903859974, 6.439138829346246, 2.7858560452809313, 2.785729644802091, 0.9590972599294466, 0.9590918556334391, 0.9591019886884531, 0.959085400502097, 0.9590793957287554, 0.9590781197144204, 0.9590768437000853, 0.9590760180437508, 0.9590718147024117, 0.9590716645830781, 6.439261326722414, 5.525903476171034, 1.8723716441313782, 1.872368791864041, 3.699167358838914, 2.7858566457582654, 1.8724822820801967, 1.8723892080934024, 1.8722991364932788, 1.8723707434153771, 6.439364008346555, 5.5261166456246595, 4.612656113449139, 2.78586955602095, 4.612994782665604, 4.612984274312256, 2.7858824662836343, 3.6994036466699045, 3.6994967206566987, 3.6991133158788396, 1.8727260758778643, 1.8725899176423444, 1.87254308041028, 1.8725415792169446, 1.8725162090495766, 1.872484834108867, 2.637168314476139, 1.7729896881165148, 1.7728361144583038, 1.772617581326181, 1.7724476313300088, 1.772441990591378, 1.7724303451954946, 1.772431254992048, 5.230938241600019, 0.9080930503169607, 0.9080930503169607, 0.9080930503169607, 0.9080930503169607, 0.9080929593373054, 0.9080402821168645, 0.9080370068492724, 0.9080310931716753, 0.9080259983109764, 0.9080241787178696, 0.9080142619354378, 0.9080115325457776, 0.908006255725768, 0.9080033443767971, 0.9079979765771321, 0.9079976126585108, 0.907989333509875, 0.9078695133037944, 0.9078498616982413, 0.9078468593696152, 0.9078468593696152, 2.637060048686286, 2.637036030057277, 1.772404870892, 1.7729896881165148, 1.7724569112548534, 1.7726445113041611, 1.772444174103106, 1.772738584267781, 1.7724590947665815, 2.6375899141989767, 1.772696369707704, 3.502214158910448, 3.50201036448249, 6.0962046207188685, 5.2311245679341525, 5.231252667288869, 2.637078608535975, 2.637309878819845, 4.366927017806218, 1.77269527795184, 1.7724654633424552, 2.637004369137219, 1.7727127460456649, 1.7726694397297238, 1.7724629159121057, 1.772449268963805, 0.7975841768811152, 0.797582038590512, 0.7975740200007502, 0.7975584282984356, 0.7975558445306234, 0.7975554881488564, 0.7975542408126711, 0.797553438953695, 0.7975421238325867, 0.7975382927285893, 0.7975382927285893, 0.7975358871516608, 0.797529650470735, 0.7975245720305525, 0.7975183353496267, 0.7975175334906506, 0.7975171771088834, 0.7975000707840582, 0.7974958832982937, 0.797487864708532, 0.7974855482270452, 0.79748430089086, 0.7974798461187701, 0.7974796679278865, 0.7974721839107756, 0.7974679964250111, 0.7974606015033419, 0.7974593541671566, 0.7974412677924717, 0.7974350311115459, 3.0763202015107467, 3.0763230525648844, 3.076193329601627, 2.3164258911823947, 1.5569009705557353, 3.07624749963024, 1.557073637521939, 1.5571206799152082, 1.5568288032478792, 1.556884755185328, 0.79755914106197, 0.7975515679494172, 0.7975489841816051, 0.7975483605135125, 0.7975448857912824, 0.7975443512186317, 0.7975435493596554, 0.7975350852926847, 1.533799293122988, 0.7856471247128418, 0.7856321998290847, 0.7856283856921246, 0.7856233278148513, 0.7856239911430184, 0.7856200940900373, 0.7856164457851189, 0.7856161141210355, 0.7856188503497242, 0.7856129633122423, 0.7856102270835534, 0.785606661694656, 0.7856079883509899, 0.78561180248795, 0.7856071591907812, 0.7856125487321379, 0.785613792472451, 0.7856077396029273, 0.7856073250228229, 0.7855959655279634, 0.7856095637553865, 0.785602764641675, 0.785596214276026, 0.7856070762747603, 0.7856015209013618, 0.7855952192837755, 0.7855941413755042, 0.7856012721532992, 0.7855991992527774, 0.7856051692062802, 2.282125833925029, 2.282014063128893, 1.5340768959608697, 1.5338752441981074, 2.2823720945070214, 1.5339647935006497, 1.5343277998400302, 0.7862625274197587, 0.7859559039745716, 0.7859018427289626, 0.7858402361254542, 0.7858113813501906, 0.7857587296769364, 0.7857578176007068, 0.7857395760761148, 0.7857151987659783, 0.7857102238047259, 0.7857083996522667, 0.7857034246910144, 0.7856999422181377, 0.7856883339752155, 0.7856870073188815, 0.7856837735940675, 0.7856738236715628, 0.7856727457632915, 0.7856702582826652, 0.7856615521004736, 0.7856512705138854, 0.7856495292774471, 0.7412956193498862, 0.7412944685555385, 0.7412927762109095, 0.741292573129554, 0.741290474622214, 0.7412902715408585, 0.7412887822775849, 0.7412880376459482, 0.7412834344685572, 0.7412825544493501, 0.7412797113103733, 0.7412797113103733, 0.7412794405352326, 0.7412790343725216, 0.7412789666787365, 0.7412782897408849, 0.7412780866595294, 0.7412770035589669, 0.7412769358651816, 0.7412762589273301, 0.7412751758267675, 0.7412744311951307, 0.741272468075361, 0.7412719942188649, 0.7412713172810133, 0.7411943494472847, 0.7411827061162368, 0.7411703858473375, 0.7411693704405601, 0.7412933854549759, 1.4471701948388802, 2.153335108972432, 1.4472177158760637, 2.1532246327150486, 1.4472883881877723, 1.4470831406311626, 0.7413370479464051, 0.7413164013419308, 0.7413058411114456, 0.741305570336305, 0.7413000871397069, 0.7413000871397069, 0.7412952131871753, 0.7412944685555385, 0.7412937916176869, 0.7412866160764597, 0.7412865483826746, 0.7412797790041584, 8.288446378620625, 1.4100467772744456, 0.7222416516872121, 0.7222367332901228, 0.7222244372973998, 0.7222117109449314, 0.722214170143476, 0.7222071614276239, 0.7222107272655136, 0.7222048866689701, 0.722198185352936, 0.7222001527117717, 0.7222010134312623, 0.7221978164731544, 0.7221969557536637, 0.7221911766370839, 0.7221868730396308, 0.7221462347836811, 0.7222173056216205, 0.7222343355715418, 0.7222073458675148, 0.7222217936589643, 0.7224678364733527, 0.7222300934540524, 2.097783660102066, 0.7222171826616932, 0.7221984927527542, 0.7225633148568472, 0.7222114650250769, 0.72220267339028, 2.0982892713228383, 2.0979366222515408, 2.0979240803389634, 1.410462873668194, 1.410592473431495, 0.722751136145692, 0.7226036457129789, 0.7225638681765199, 0.7225585808996489, 0.7225140694059914, 0.722234151131651, 0.7222321222928517, 0.7222225928984913, 1.3676410060358986, 0.7004946465727966, 0.7004895595497392, 0.7004897831551483, 0.7004879384105231, 0.7004865408767162, 0.7004856464550797, 0.7004837458091023, 0.7004806153333747, 0.700481677459068, 0.7004809507414884, 0.7004760314224879, 0.7004764227319539, 0.7004699940764418, 0.7004696586683282, 0.7004689319507486, 0.7004694909642714, 0.7004741307765104, 0.7004724537359421, 0.7004863731726594, 0.7004800563198519, 2.034810564560196, 0.7004775407589994, 0.7004858141591366, 0.7004818451631248, 0.7005569206792345, 0.7005300880301409, 0.700495932303899, 0.7004864290740116, 1.3676692921201514, 1.3676733170175153, 1.36777427485973, 2.034954566443665, 0.7008511294962748, 0.7008259738877496, 0.700762973063732, 0.7007250719468874, 0.7006617916161084, 0.7006539654267895, 0.700578722206623, 0.700576318448475, 0.7005721258470542, 0.7005656412901899, 0.7005606660698371, 0.700537131600528, 0.70053472784238, 0.7005343924342664, 0.7005207525043105, 0.7005139884406848, 0.7005075038838205, 0.7005067212648887, 0.7005036466905133, 0.7003997671635867, 0.7003976993550891, 0.7003890369140859, 0.7003866337852915, 0.7003832246956064, 0.7003814363206896, 0.7003777477974238, 0.7003769094966815, 0.7003751211217647, 0.700374841688184, 0.7003706501844728, 0.7003694765634336, 0.7003693647900013, 0.7003688059228398, 0.7003672410947877, 0.7003629937043603, 0.7003619877434696, 0.7003618200833212, 0.7003594169545266, 0.7003593610678105, 0.7003550019039508, 0.7003523752282919, 0.7003317530300327, 1.3674179516773275, 2.701385468270513, 0.7003847336369424, 1.367430805622042, 0.7003755682154938, 0.7003847336369424, 0.7003885339336406, 1.367357594023886, 2.03441797300832, 1.36743605897336, 1.3674145984743586, 1.3673882199443361, 0.7005487052621252, 0.7003928372107842, 0.700388310386776, 0.7003831129221741, 0.7003781390044368, 0.7003754005553454, 0.7003734445202803, 0.7003725503328219, 1.3007511399318086, 0.6662604014215741, 0.6662506640912987, 0.6662437365379189, 0.6662425254271881, 0.6662404423167313, 0.666239957872439, 0.6662384560951328, 0.6662382138729867, 0.6662377294286944, 0.6662336116522098, 0.6662333209856345, 0.666228379653853, 0.6662276529874145, 0.666227120098693, 0.6662266840988299, 0.666226490321113, 0.6662205316563177, 0.6662173343239886, 0.6662165107686916, 0.6662112303259056, 0.6662352103183744, 0.6662941187443181, 0.6662392796504297, 0.6662351134295159, 0.6662181094348562, 0.6662947485218981, 0.6662240680996515, 0.6662363245402467, 0.6662119085479148, 1.3010121585165, 1.3009806696375004, 1.3009240865441598, 0.6668294781317392, 0.6665992217596088, 0.666568507991477, 0.6663641209445555, 0.6663315178436837, 0.6663116071832702, 0.6663082645176533, 0.6662832671921706, 0.6662818138592937, 0.6662664569752278, 0.6662586574221218, 0.6662577369779664, 0.6662503249802941, 0.6662486778697003, 0.6567867659492459, 0.6567841574385008, 0.6567790801586577, 0.6567758661007753, 0.6567760990035204, 0.6567754468758341, 0.6567755866174813, 0.6567717670124616, 0.6567711148847754, 0.6567698572099518, 0.656770229854344, 0.6567663170882263, 0.656765571799442, 0.6567651525745009, 0.6567597492308145, 0.6567567680756773, 0.6567564885923831, 0.6567556501425008, 0.6567543458871282, 0.6567521100207753, 0.6567507591848537, 0.6567495015100302, 0.6567500138960695, 0.6567788472559126, 0.656770509337638, 0.6567533676955989, 0.6567669226353635, 0.656767993987991, 0.6567515044736381, 0.656777589581089, 1.9079035139835148, 1.9078301030382596, 1.282368104177047, 0.6568830479440696, 0.6568766198283048, 0.6568459698270499, 0.656789467621089, 0.6567779156449322, 0.6567764716479126, 0.6567699037905008, 1.2621647487232635, 1.2621639441791717, 0.6464692801200849, 0.6464691460294029, 0.6464690566356148, 0.6464690119387209, 0.6464686543635689, 0.6464685649697809, 0.6464685649697809, 0.6464685649697809, 0.6464685649697809, 0.6464684755759929, 0.6464682520915229, 0.6464682520915229, 0.6464681180008409, 0.6464681180008409, 0.6464681180008409, 0.6464681180008409, 0.6464679839101589, 0.646467894516371, 0.646467760425689, 0.646467313456749, 0.646466732397127, 0.6464678498194769, 0.646467179366067, 1.2621635866040195, 0.646467760425689, 0.646468341485311, 0.646467447547431, 0.646467760425689, 1.2621635866040195, 0.6464688778480389, 0.6464688778480389, 0.6464686543635689, 0.6464685649697809, 0.6464684755759929, 0.6464684755759929, 0.6464684755759929, 0.646468341485311, 0.6464682520915229, 0.646468207394629, 0.6464681180008409, 1.1048127778503838, 0.5658755059565592, 0.5658755059565592, 0.5658755059565592, 0.5658755059565592, 0.5658755059565592, 0.5658755059565592, 0.5658755059565592, 0.5658755059565592, 0.5658755059565592, 0.5658755059565592, 0.5658754407048998, 1.1049089587963488, 0.5659174627735576, 0.5659116553758704, 0.5658755059565592, 0.5658755059565592, 0.5658755059565592, 0.5658754407048998, 0.5659294690788884, 0.5659095673227694, 0.5660245407466437, 0.5659260107409398, 0.5660234314684337, 1.1050189730941082, 0.5659983748312216, 1.1052498334650884, 1.1053327030725346, 0.5661111949503355, 0.5664956577275584, 0.5658914529658132, 0.5658860406681685, 0.5658846060832505, 0.565883236706738, 0.5658829106647113, 0.5658827150394952, 0.5658826498310898, 0.5658791285772005, 0.5658763898241754, 0.5658685648155324, 0.5658743031552039, 0.5658709775265306, 0.5658911269237864, 0.565861391890943, 0.5658808892041451, 0.5658826498310898, 0.5658844104580345, 0.5658813456629826, 0.5658641958523734, 0.5658757377401218, 1.1048278378253706, 1.6438023043936576, 0.5659031904787778, 0.5658976477643223, 0.5658778896174986, 0.5658514150049231, 0.5659440761489376, 0.5658883881707614, 0.5659416634379393, 0.5658808239957398, 0.565867782314668, 0.5658649783532377, 0.5583092156180519, 0.5583092156180519, 0.5583092156180519, 0.5583092156180519, 0.5583091522714126, 0.5583091522714126, 0.5583091522714126, 0.5583092156180519, 0.5583092156180519, 2.153499913806979, 1.0901291471888448, 0.5583199212000819, 1.0900997543482418, 0.5583237853450749, 0.5583946068877348, 1.090081130436308, 0.5583956837806018, 0.5583092156180519, 0.5583174506811519, 0.5583266359438404, 0.5583467168284765, 1.0901615806681308, 0.5583656574736064, 1.0900494571166925, 0.5584457909722332, 0.5583325271812888, 0.02658647758766353, 0.02658647758766353, 0.02658647758766353, 0.02658647758766353, 0.026778772249795694, 0.026718656289165775, 0.02668930106062978, 0.02666257669720434, 0.5504037265653067, 0.5503936459323637, 0.5503921092505126, 0.5503817827484735, 0.5503817212811994, 0.5503801231320744, 0.5503647563135637, 0.5503855937194642, 0.5503736076010258, 0.5503917404468684, 0.5503943835396522, 0.5503887285504403, 0.5503692434245688, 0.5503838111685169, 0.5504003458652343, 0.5503862698594786, 0.5504006532016046, 0.5503746525446845, 0.5503945679414743, 0.5503811680757331, 0.5503732387973815, 0.5503851634485458, 0.5503906955032097, 0.5503672764717995, 0.5503933385959935, 0.5503991779870275, 0.5503889744195365, 0.5504262850548803, 0.5504246869057553, 0.5503733617319296, 0.550437287696934, 0.5504147906746344, 0.5504087054145042, 0.0006227663503139108, 0.0006224043352844058, 0.0006223656082966856, 0.0006223651751089036, 0.0006221201207805668, 0.0006220840795570958, 0.0006218447433074829, 0.000620937734729312, 0.000620937734729312, 0.000620937734729312, 0.000620937734729312, 0.000620937734729312, 0.000620937734729312, 0.000620937734729312, 0.000620937734729312, 0.000620937734729312, 0.000620937734729312, 0.000620937734729312, 0.000620937734729312, 0.000620937734729312, 0.000620937734729312, 0.000620937734729312, 0.000620937734729312, 0.000620937734729312, 0.000620937734729312, 0.000620937734729312, 0.000620937734729312, 0.000620937734729312, 0.000620937734729312, 0.000620937734729312, 0.0006217829707297548, 0.0006217774259261439, 0.0006217670727381515, 0.0006217619611223228, 0.0006262739151043909, 0.0006251834515004987, 0.0006247346689582381, 0.0006242992285996665, 0.0006240784761059059, 0.0006236863545255448, 0.0006236198168822135, 0.0006233341728586936, 0.0006230295552103176, 0.0006229391922389705, 0.0006229194388761066, 0.0006228653770408999, 0.0006228294224549851, 0.0006228079363409928, 0.0006227224250728053, 0.0006226617787833107, 0.0006226467904860498, 0.0006226331450709135, 0.0006225672138904771, 0.0006225580303094966, 0.0006224253882106161, 0.0006223793403493784, 0.000622356424715705, 0.0006223209033175724, 0.0006223165714397513, 0.0006222854252382181, 0.0005862840698438905, 0.0005862840698438905, 0.0005862840698438905, 0.0005862840698438905, 0.0005862840698438905, 0.0005862840698438905, 0.0005862840698438905, 0.0005862840698438905, 0.0005862840698438905, 0.0005862840698438905, 0.0005862840698438905, 0.0005862840698438905, 0.0005862840698438905, 0.0005862840698438905, 0.0005862840698438905, 0.0005862840698438905, 0.0005862840698438905, 0.0005862840698438905, 0.0005862840698438905, 0.0005862840698438905, 0.0005862840698438905, 0.0005862840698438905, 0.0005862840698438905, 0.0005862840698438905, 0.0005862840698438905, 0.0005862840698438905, 0.0005862840698438905, 0.0005862840698438905, 0.0005862840698438905, 0.0005862840698438905, 0.0005883391888771391, 0.0005882099744387889, 0.0005881490689944383, 0.0005881461648396036, 0.0005880101195018533, 0.0005879929399943804, 0.0005879853728303744, 0.0005879565357999733, 0.00058795408158462, 0.0005879179228117483, 0.0005878799642809509, 0.0005878742786820492, 0.0005878431510506517, 0.0005878300209985116, 0.0005877999977640232, 0.000587795702887155, 0.0005877631027265455, 0.000587746373158554, 0.0005877390923196726, 0.0005877089872780057, 0.0005876901307233746, 0.0005876840360885807, 0.0005876771642855914, 0.0005876692289892825, 0.0005876686154354442, 0.0005876486953874934, 0.00058762996154363, 0.0005876281617857043, 0.0005876245622698528, 0.0005875998155983738, 0.0005922818040350071, 0.0005910026260892877, 0.0005905924858001652, 0.0005904467054081802, 0.0005901405829464476, 0.0005891969780467002, 0.0005889966322666939, 0.0005886774206564105, 0.0005886536147674836, 0.0005886267820129545, 0.0005885765524053907, 0.0005885225596676184, 0.0005883036027545165, 0.0005883035209473381, 0.0005882917816172316, 0.0005882810648768556, 0.0005882627400688844, 0.0005881879683077878, 0.000588184123370401, 0.0005881291489464875, 0.0005880234540719395, 0.0005880041066742377, 0.0005880025523378473, 0.0005879999345081372, 0.0005879997708937803, 0.0005856323198988996, 0.0005856323198988996, 0.0005856323198988996, 0.0005856323198988996, 0.0005856323198988996, 0.0005856323198988996, 0.0005856323198988996, 0.0005856323198988996, 0.0005856323198988996, 0.0005856323198988996, 0.0005856323198988996, 0.0005856323198988996, 0.0005856323198988996, 0.0005856323198988996, 0.0005856323198988996, 0.0005856323198988996, 0.0005856323198988996, 0.0005856323198988996, 0.0005856323198988996, 0.0005856323198988996, 0.0005856323198988996, 0.0005856323198988996, 0.0005856323198988996, 0.0005856323198988996, 0.0005856323198988996, 0.0005856323198988996, 0.0005856323198988996, 0.0005856323198988996, 0.0005856323198988996, 0.0005856323198988996, 0.0005873043965046421, 0.0005872341291694549, 0.0005871996082983891, 0.0005871928266834815, 0.0005871641478059807, 0.0005871609204109343, 0.0005871414334813504, 0.0005871199038966739, 0.0005871109570673681, 0.0005870988236961177, 0.000587095392035562, 0.0005870734130667652, 0.0005870689192255613, 0.0005870540895495887, 0.000587014543746995, 0.0005870107444085226, 0.0005869938720774573, 0.0005869775308367161, 0.0005869555110148173, 0.0005869551841900025, 0.0005869302229447703, 0.0005869186615169459, 0.0005869068141174085, 0.0005869027288072232, 0.0005869001959149083, 0.0005868913716449081, 0.0005868582397793052, 0.0005867903419240256, 0.0005902132599158833, 0.0005898254005668906, 0.0005897244525522119, 0.000588935252330615, 0.0005885462490947705, 0.0005882030421861032, 0.0005878932939678536, 0.0005875114400248333, 0.0005874852531865455, 0.0005874690345051099, 0.000587424218652377, 0.0005873579140680697, 0.0005872638702276039, 0.0005872592946801964, 0.0005872500618791777, 0.0005872314328647327, 0.0005871625953881104, 0.0005871523412595452, 0.0005871302805845446, 0.0005871223142296832, 0.0005871220282579702, 0.0005871129997224607, 0.0005579715893689267, 0.0005579715893689267, 0.0005579715893689267, 0.0005579715893689267, 0.0005579715893689267, 0.0005579715893689267, 0.0005579715893689267, 0.0005579715893689267, 0.0005579715893689267, 0.0005579715893689267, 0.0005579715893689267, 0.0005579715893689267, 0.0005579715893689267, 0.0005579715893689267, 0.0005579715893689267, 0.0005579715893689267, 0.0005579715893689267, 0.0005579715893689267, 0.0005579715893689267, 0.0005579715893689267, 0.0005579715893689267, 0.0005579715893689267, 0.0005579715893689267, 0.0005579715893689267, 0.0005579715893689267, 0.0005579715893689267, 0.0005579715893689267, 0.0005579715893689267, 0.0005579715893689267, 0.0005579715893689267, 0.0005579715893689267, 0.0005579715893689267, 0.0005579715893689267, 0.0005579715893689267, 0.0005579715893689267, 0.0005579715893689267, 0.0005579715893689267, 0.0005579715893689267, 0.0005579715893689267, 0.0005579715893689267, 0.0005579715893689267, 0.0005579715893689267, 0.0005579715893689267, 0.0005579715893689267, 0.0005579715893689267, 0.0005579715893689267, 0.0005579715893689267, 0.0005579715893689267, 0.0005579715893689267, 0.0005579715893689267, 0.0005579715893689267, 0.0005579715893689267, 0.0005579715893689267, 0.0005579715893689267, 0.0005579715893689267, 0.0005579715893689267, 0.0005579715893689267, 0.0005579715893689267, 0.0005579715893689267, 0.0005579715893689267, 0.0005579715893689267, 0.0005579715893689267, 0.0005579715893689267, 0.0005579715893689267, 0.0005579715893689267, 0.0005579715893689267, 0.0005579715893689267, 0.0005579715893689267, 0.0005579715893689267, 0.0005579715893689267, 0.0005579715893689267, 0.0005579715893689267, 0.0005579715893689267, 0.0005579715893689267, 0.0005579715893689267, 0.0005579715893689267, 0.0005579715893689267, 0.0005579715893689267, 0.0005579715893689267, 0.0005579715893689267, 0.0005579715893689267, 0.0005579715893689267, 0.0005579715893689267, 0.0005579715893689267, 0.0005579715893689267, 0.0005579715893689267, 0.0005579715893689267, 0.0005579715893689267, 0.0005579715893689267, 0.0005579715893689267, 0.0005579715893689267, 0.0005579715893689267, 0.0005579715893689267, 0.0005579715893689267, 0.0005579715893689267, 0.0005579715893689267, 0.0005579715893689267, 0.0005579715893689267, 0.0005579715893689267, 0.0005579715893689267, 0.0005579715893689267, 0.0005579715893689267, 0.0005579715893689267, 0.0005579715893689267, 0.0005579715893689267, 0.0005579715893689267, 0.0005579715893689267, 0.0005579715893689267, 0.0005579715893689267, 0.0005579715893689267, 0.0005579715893689267, 0.0005579715893689267, 0.0005579715893689267, 0.0005579715893689267, 0.0005579715893689267, 0.0005579715893689267, 0.0005579715893689267, 0.0005579715893689267, 0.0005579715893689267, 0.0005579715893689267], \"Total\": [8.0, 7.0, 16.0, 11.0, 13.0, 14.0, 10.0, 9.0, 12.0, 6.0, 7.0, 8.0, 15.0, 14.0, 6.0, 14.0, 7.0, 7.0, 13.0, 5.0, 5.0, 5.0, 11.0, 5.0, 5.0, 5.0, 4.0, 7.0, 4.0, 5.0, 5.985332422711792, 5.071803135995739, 3.2447362041605015, 3.244747463643134, 2.33122894700258, 2.3311851387533045, 2.3311841794175976, 2.3311814249393343, 2.331211393664687, 2.3311601888230298, 2.3311698385191026, 2.331171634492848, 2.331168140384701, 2.331171918753921, 2.3311604684369063, 3.7689734691218924, 3.768870569077876, 8.954908586149628, 3.911924595171319, 4.004376142069738, 1.4176598285552833, 1.4176603175791103, 1.4176814503666255, 1.4176574340670332, 1.41765410473798, 1.417653651132185, 1.4176557484317658, 1.417654754598338, 1.417652752051392, 1.417652885277151, 11.000834626940268, 9.486189074147982, 2.998279233725373, 2.998352011588532, 6.513408571039833, 4.776732778566632, 3.0372368792422075, 3.0371973523579228, 3.0371804549795627, 3.079349151319205, 15.626203307801754, 12.797548580151927, 10.317667943993737, 5.294659965998072, 11.498703350662067, 13.667026951480963, 6.13108700141854, 13.106514997600835, 14.16111235330031, 14.975975530938111, 7.81673221912671, 4.530285362725738, 4.155664416552841, 5.8774585335803735, 4.259533152922897, 3.530074897514752, 3.098516739644132, 2.233891523642014, 2.233833510864094, 2.233753911419989, 2.233687436857479, 2.2336820845964023, 2.233678689151096, 2.23368531082422, 7.819769903184893, 1.3689948858424603, 1.3689948858424603, 1.3689948858424603, 1.3689948858424603, 1.368994794862805, 1.3689750132451048, 1.3689738613262121, 1.3689715789416885, 1.368969638537599, 1.3689689723181617, 1.3689652421831882, 1.3689642184008808, 1.3689621999633765, 1.3689610798077902, 1.3689590519011372, 1.3689589488161373, 1.3689558048294235, 1.3689096785578803, 1.3689060530235464, 1.3689035989252174, 1.3689049034592868, 4.336221913278078, 4.339723844923344, 2.9216241134495684, 2.9399181143694206, 2.9397091540918185, 2.9819800863534476, 2.9818631924512737, 2.9934624226438737, 2.9933587215919233, 5.161920546244097, 3.1472398140154403, 7.562018461385946, 7.800962640027755, 16.58394174194702, 14.16111235330031, 14.183339996024861, 5.803740788588017, 5.86550478887257, 14.975975530938111, 3.895464081725159, 4.820404056375658, 12.797548580151927, 13.667026951480963, 7.81673221912671, 6.513408571039833, 6.674567523279533, 1.263830294375225, 1.2638298789880102, 1.2638295748447492, 1.2638271969118222, 1.263827101738761, 1.2638269046116746, 1.2638270616121436, 1.2638265256975922, 1.2638257364683616, 1.2638248081572148, 1.2638251961969176, 1.2638249828961796, 1.2638235756350698, 1.2638235882016935, 1.263821663451008, 1.2638224534925468, 1.2638223896265046, 1.2638221753696361, 1.263822054732096, 1.2638211371738475, 1.2638209708311852, 1.263820585327481, 1.2638203430067025, 1.2638202627669568, 1.2638198275657289, 1.263819315453683, 1.2638185111354585, 1.2638180681779918, 1.2638168431224153, 1.2638160169169987, 5.519554500182007, 5.519628244221645, 5.519571098678792, 4.8449273628995355, 3.3577866840934765, 11.000834626940268, 4.5987768139296135, 7.562018461385946, 12.797548580151927, 14.16111235330031, 2.1285809342463504, 2.1285770882319937, 2.177330549366803, 6.13108700141854, 2.012023749777877, 6.26888368628424, 4.004376142069738, 2.177295087291595, 2.000557417154244, 1.252386007456334, 1.2523786576135767, 1.2523732976169144, 1.2523654225993066, 1.2523697107449459, 1.2523634993437818, 1.252358674527554, 1.2523598072185242, 1.2523646442204357, 1.2523554260615906, 1.2523523785011828, 1.2523476067581283, 1.2523500695312044, 1.252356635205389, 1.2523495950838874, 1.2523583123686488, 1.2523603845950997, 1.2523518937564444, 1.252352998558895, 1.2523356213075523, 1.252357791428716, 1.2523470432015584, 1.2523369858241968, 1.2523543820681393, 1.2523455573842008, 1.2523363889543584, 1.2523363721672374, 1.2523479421676347, 1.252344683897155, 1.2523552717681916, 4.28064701991047, 4.7328427445982335, 4.494788014739865, 4.985028858413129, 14.183339996024861, 6.26888368628424, 13.106514997600835, 15.626203307801754, 11.498703350662067, 14.16111235330031, 5.0808131719335785, 14.975975530938111, 5.294659965998072, 13.667026951480963, 4.413637761363683, 3.895464081725159, 10.317667943993737, 1.9194804817704534, 7.058670714068391, 2.165838203521341, 2.1658408037670327, 3.079349151319205, 4.5987768139296135, 5.8774585335803735, 4.381080517347216, 2.1658364350627406, 4.175484153824952, 3.7465097677572627, 2.1658107759561003, 1.2101728789578714, 1.2101726634965881, 1.2101722814333542, 1.210172161900268, 1.2101716039415047, 1.2101716698448213, 1.2101712626335241, 1.2101710987642476, 1.2101700494449485, 1.2101697868678298, 1.2101690935684672, 1.2101691200593818, 1.2101690184185425, 1.2101689627510104, 1.2101690234362734, 1.2101688151838352, 1.2101687180661385, 1.2101684949014215, 1.2101684496230258, 1.2101683147300437, 1.2101680243191588, 1.2101679297338128, 1.2101674093500117, 1.210167318592897, 1.2101671184915097, 1.2101693575924628, 1.210168955819912, 1.2101670374923987, 1.2101667422015436, 1.7491011296136447, 3.415497643087648, 10.317667943993737, 5.66519178906942, 15.626203307801754, 5.99952035941236, 7.562018461385946, 14.183339996024861, 3.322488720034461, 3.0371804549795627, 16.58394174194702, 4.175484153824952, 13.106514997600835, 2.9399181143694206, 1.8357436672538643, 2.075021192071947, 1.8447244674626255, 1.898117779187298, 4.336221913278078, 8.759772296541023, 1.8800633387282917, 1.1920994810650352, 1.19210195203974, 1.1920979695515816, 1.192091116658937, 1.192096685340455, 1.1920925770683486, 1.1921010225183193, 1.1920920598750366, 1.1920861194959118, 1.1920917659660093, 1.1920964354774843, 1.1920925613778144, 1.1921010867685882, 1.1920953210062557, 1.1920936002031473, 1.1920933785560317, 1.7238196635238585, 1.8266559785961904, 1.8592249358155557, 1.898117779187298, 1.9517525407441019, 2.0568377706473204, 5.99952035941236, 2.105566247505732, 2.3467019673591647, 2.699948344814154, 2.9216241134495684, 4.175484153824952, 12.797548580151927, 13.106514997600835, 16.58394174194702, 14.975975530938111, 15.626203307801754, 4.8449273628995355, 14.16111235330031, 11.498703350662067, 5.656437622495486, 13.667026951480963, 6.674567523279533, 5.803740788588017, 5.66519178906942, 1.8384398938436526, 1.1712885342097898, 1.1712814637375482, 1.1712831864770479, 1.1712813595411278, 1.171279876154998, 1.171281898941602, 1.1712790728173248, 1.1712739782018389, 1.1712763237164079, 1.171276316516704, 1.1712709175450353, 1.171271778406701, 1.1712643041402186, 1.171263828800005, 1.1712635351629617, 1.1712646794902797, 1.7102005600458965, 1.7101968017163995, 1.7102858779337962, 1.7103010449763552, 5.0808131719335785, 1.786956477768735, 1.919479665532445, 1.9194902788534454, 2.084771165221571, 2.084752640846023, 2.0847322723707737, 2.084725961559182, 4.413637761363683, 5.061987485675462, 5.20828071300321, 9.486189074147982, 15.626203307801754, 11.498703350662067, 13.667026951480963, 14.975975530938111, 10.317667943993737, 8.954908586149628, 5.66519178906942, 3.7465097677572627, 4.381080517347216, 5.294659965998072, 3.911924595171319, 4.105965683789343, 14.183339996024861, 4.494788014739865, 2.998352011588532, 4.985028858413129, 2.998279233725373, 6.26888368628424, 3.322488720034461, 1.1712733337126289, 1.1712735927349671, 1.1712745977837726, 1.1712748609232744, 1.1712753333398165, 1.1712755219937723, 1.1712759792715501, 1.1712760089979013, 1.171276340163768, 1.17127624988236, 1.1712768415966028, 1.1712769713117668, 1.171277004641371, 1.171277067644366, 1.171277290693014, 1.1712777021465093, 1.1712779088324239, 1.1712778655463068, 1.1712781727349446, 1.1712782567690136, 1.1712788181527676, 1.171279088355588, 1.1712815582691418, 2.472975417452414, 6.158489268087527, 1.7029978675774844, 3.3577866840934765, 1.805832513220148, 1.8592249358155557, 1.9194804817704534, 4.530285362725738, 14.183339996024861, 11.498703350662067, 14.16111235330031, 16.58394174194702, 7.562018461385946, 15.626203307801754, 4.776732778566632, 3.530074897514752, 4.28064701991047, 2.0847834026561527, 2.0847767211927777, 2.608985266222374, 1.7732711622592743, 1.1387066689217933, 1.1387050741539804, 1.1387039958304392, 1.1387036531587518, 1.1387035357090713, 1.138703404153448, 1.1387030934544649, 1.1387031229082332, 1.1387030863631507, 1.138702396509857, 1.1387024079833692, 1.1387014236712634, 1.1387014893476688, 1.1387011351957292, 1.1387010898562473, 1.1387012703465973, 1.1387001234982181, 1.1386997355179727, 1.1386996274622094, 1.1386985437575834, 1.805832513220148, 1.8266559785961904, 1.844724954822112, 1.8447202102185325, 1.8447244674626255, 2.003452886382264, 2.0521717601360137, 2.0522227277412624, 2.052213078509758, 5.656437622495486, 5.803740788588017, 14.183339996024861, 12.797548580151927, 14.975975530938111, 13.106514997600835, 13.667026951480963, 9.486189074147982, 3.415497643087648, 11.498703350662067, 5.20828071300321, 10.317667943993737, 6.158489268087527, 5.8774585335803735, 4.350997895927546, 5.294659965998072, 4.381080517347216, 1.1297181848963973, 1.1297182784138293, 1.1297181554733358, 1.129718055956459, 1.1297185804058718, 1.1297189240039456, 1.129720010506438, 1.129717630454555, 1.1297176182351303, 1.1297160688814578, 1.1297178797998602, 1.1297191629318777, 1.1297182257111291, 1.1297181796817073, 1.1297190457603639, 1.1297156090236562, 1.1297171917542146, 1.1297179846129497, 1.1297158465510926, 1.1297173732483807, 1.129716319394049, 1.1297165153753899, 1.1297190608690548, 1.6686452968185683, 1.6686474921666445, 1.8357436672538643, 1.8779234489191319, 1.8893948151198225, 1.9944591399200553, 2.043188270602693, 7.058670714068391, 16.58394174194702, 15.626203307801754, 6.674567523279533, 2.50287000905279, 5.20828071300321, 13.667026951480963, 3.502361120382176, 4.8449273628995355, 4.350997895927546, 1.735526262160754, 1.735525470525658, 1.1198307509752163, 1.1198306210431372, 1.1198305337719692, 1.1198304895515818, 1.1198301398604475, 1.1198300517662227, 1.1198300521560915, 1.1198300522427291, 1.1198300527625547, 1.1198299645816925, 1.119829745299144, 1.1198297461222007, 1.119829613331082, 1.1198296135043573, 1.1198296139808637, 1.119829614933877, 1.1198294834856404, 1.119829394958228, 1.1198292641597731, 1.1198288252481259, 1.11982825532143, 1.6440104451353457, 1.786956477768735, 3.5625568683060633, 1.879484831052187, 1.8795014317986787, 1.879498911969149, 1.9845808580064268, 13.106514997600835, 15.626203307801754, 3.811586476281653, 4.339723844923344, 1.984678723602208, 2.3467019673591647, 5.86550478887257, 7.800962640027755, 4.105965683789343, 4.175484153824952, 5.99952035941236, 13.667026951480963, 1.5820122059651072, 1.0430749340712824, 1.0430749340712824, 1.0430749340712824, 1.0430749340712824, 1.0430749340712824, 1.0430749340712824, 1.0430749340712824, 1.0430749340712824, 1.0430749340712824, 1.0430749340712824, 1.043074868819623, 2.446753022371599, 1.6686452968185683, 1.6686474921666445, 1.7101968017163995, 1.7102005600458965, 1.7491011296136447, 1.9079235404390145, 1.956540890667889, 2.3467019673591647, 2.8212929030597294, 4.7328427445982335, 5.20828071300321, 10.317667943993737, 5.99952035941236, 14.183339996024861, 14.975975530938111, 7.800962640027755, 16.58394174194702, 1.0431505490000197, 1.0431542517606582, 1.0431552284675352, 1.0431562093968385, 1.0431564697584583, 1.0431566119017428, 1.0431565560757958, 1.0431591850233524, 1.043160884173125, 1.043166340034271, 1.5673258406031765, 1.567339898216879, 1.7102858779337962, 1.7103010449763552, 1.7913940780700683, 1.907912028338946, 1.9566179403836657, 1.9566338729896564, 1.9566800787773067, 2.4883637157662943, 7.81673221912671, 13.106514997600835, 4.985028858413129, 5.519554500182007, 5.519571098678792, 5.519628244221645, 5.8774585335803735, 6.13108700141854, 6.26888368628424, 11.000834626940268, 13.667026951480963, 11.498703350662067, 1.0358689522534572, 1.0358689522534572, 1.0358689522534572, 1.0358689522534572, 1.0358688889068177, 1.0358688889068177, 1.0358688889068177, 1.7029978675774844, 1.7238196635238585, 7.819769903184893, 4.259533152922897, 2.4883637157662943, 6.13108700141854, 3.322488720034461, 3.530074897514752, 7.800962640027755, 4.155664416552841, 4.336221913278078, 4.7328427445982335, 5.061987485675462, 5.86550478887257, 13.667026951480963, 7.058670714068391, 16.58394174194702, 11.498703350662067, 13.106514997600835, 1.0283009598871082, 1.0283159646905893, 1.0283175241127265, 1.028317585146813, 14.16111235330031, 10.317667943993737, 12.797548580151927, 11.000834626940268, 1.0283390085318447, 1.028329167235151, 1.0283276665945236, 1.028317585146813, 1.0283175241127265, 1.0283159646905893, 1.0283009598871082, 1.567339898216879, 1.5673258406031765, 1.6440104451353457, 1.7880061919268442, 1.9418349969961548, 1.9417684005096703, 1.941821140419822, 2.608985266222374, 3.768870569077876, 3.7689734691218924, 5.161920546244097, 5.519628244221645, 5.519571098678792, 5.519554500182007, 6.13108700141854, 6.158489268087527, 6.26888368628424, 7.81673221912671, 8.954908586149628, 11.000834626940268, 11.498703350662067, 13.667026951480963, 14.16111235330031, 14.183339996024861, 14.975975530938111, 15.626203307801754, 1.0283009598871082, 1.0283159646905893, 1.0283175241127265, 1.028317585146813, 1.0283276665945236, 1.028329167235151, 1.0283390085318447, 1.0358688889068177, 1.0358688889068177, 1.0358688889068177, 1.0358689522534572, 1.0358689522534572, 1.0358689522534572, 1.0358689522534572, 1.043074868819623, 1.0430749340712824, 1.0430749340712824, 1.0430749340712824, 1.0430749340712824, 1.0430749340712824, 1.0430749340712824, 1.0430749340712824, 1.0430749340712824, 1.0430749340712824, 1.0430749340712824, 1.0431505490000197, 1.0431542517606582, 1.0431552284675352, 1.0431562093968385, 1.0431564697584583, 1.1712635351629617, 1.171263828800005, 1.1712643041402186, 1.1712646794902797, 8.759772296541023, 14.16111235330031, 12.797548580151927, 14.183339996024861, 14.975975530938111, 13.667026951480963, 16.58394174194702, 6.26888368628424, 11.498703350662067, 5.161920546244097, 15.626203307801754, 7.81673221912671, 7.819769903184893, 8.954908586149628, 13.106514997600835, 1.9417684005096703, 6.158489268087527, 5.99952035941236, 5.519554500182007, 1.5673258406031765, 5.0808131719335785, 5.519571098678792, 5.66519178906942, 5.803740788588017, 1.941821140419822, 6.13108700141854, 1.0283009598871082, 1.0283159646905893, 1.0283175241127265, 1.028317585146813, 1.0283276665945236, 1.028329167235151, 1.0283390085318447, 1.0358688889068177, 1.0358688889068177, 1.0358688889068177, 1.0358689522534572, 1.0358689522534572, 1.0358689522534572, 1.0358689522534572, 1.043074868819623, 1.0430749340712824, 1.0430749340712824, 1.0430749340712824, 1.0430749340712824, 1.0430749340712824, 1.0430749340712824, 1.0430749340712824, 1.0430749340712824, 1.0430749340712824, 1.0430749340712824, 1.0431505490000197, 1.0431542517606582, 1.0431552284675352, 1.0431562093968385, 1.0431564697584583, 1.2523351389777115, 1.2523356213075523, 1.2523351300386514, 1.2523363721672374, 1.2523603845950997, 1.2523455573842008, 1.2523583123686488, 1.2523479421676347, 1.2523476067581283, 1.252358674527554, 1.2523495950838874, 1.2523500695312044, 1.2523369858241968, 1.2523654225993066, 1.2523445781241327, 1.2523646442204357, 1.2523410767323215, 1.2523363889543584, 1.252356635205389, 1.2523470432015584, 1.2523543820681393, 1.2523518937564444, 1.252357791428716, 1.2523554260615906, 1.252344683897155, 1.252386007456334, 1.252352998558895, 1.2523523785011828, 1.2523552717681916, 1.2523598072185242, 4.7328427445982335, 4.28064701991047, 14.183339996024861, 13.106514997600835, 2.000557417154244, 4.985028858413129, 4.494788014739865, 6.26888368628424, 10.317667943993737, 3.079349151319205, 4.413637761363683, 15.626203307801754, 6.674567523279533, 4.175484153824952, 4.105965683789343, 2.699948344814154, 4.5987768139296135, 5.803740788588017, 2.9818631924512737, 5.0808131719335785, 4.381080517347216, 2.012023749777877, 2.165838203521341, 14.975975530938111, 2.1658107759561003, 1.0283009598871082, 1.0283159646905893, 1.0283175241127265, 1.028317585146813, 1.0283276665945236, 1.028329167235151, 1.0283390085318447, 1.0358688889068177, 1.0358688889068177, 1.0358688889068177, 1.0358689522534572, 1.0358689522534572, 1.0358689522534572, 1.0358689522534572, 1.043074868819623, 1.0430749340712824, 1.0430749340712824, 1.0430749340712824, 1.0430749340712824, 1.0430749340712824, 1.0430749340712824, 1.0430749340712824, 1.0430749340712824, 1.0430749340712824, 1.0430749340712824, 1.0431505490000197, 1.0431542517606582, 1.0431552284675352, 1.0431562093968385, 1.0431564697584583, 1.2523363889543584, 1.252344683897155, 1.2523369858241968, 1.2523410767323215, 1.2523523785011828, 1.2523470432015584, 1.252352998558895, 1.2523732976169144, 1.2523518937564444, 1.2523445781241327, 1.2523552717681916, 1.2523554260615906, 1.2523598072185242, 1.2523543820681393, 1.2523634993437818, 1.252357791428716, 1.2523786576135767, 1.252356635205389, 1.2523500695312044, 1.2523495950838874, 1.2523697107449459, 1.2523476067581283, 1.2523351300386514, 1.2523455573842008, 1.2523363721672374, 1.2523479421676347, 1.2523356213075523, 1.2523646442204357, 14.183339996024861, 4.7328427445982335, 4.28064701991047, 4.985028858413129, 6.26888368628424, 4.494788014739865, 2.000557417154244, 13.106514997600835, 5.294659965998072, 3.7465097677572627, 10.317667943993737, 2.1170698806122608, 5.8774585335803735, 2.1658107759561003, 14.975975530938111, 4.381080517347216, 1.9194804817704534, 7.058670714068391, 4.8449273628995355, 2.1658364350627406, 4.105965683789343, 6.674567523279533, 1.0283009598871082, 1.0283159646905893, 1.0283175241127265, 1.028317585146813, 1.0283276665945236, 1.028329167235151, 1.0283390085318447, 1.0358688889068177, 1.0358688889068177, 1.0358688889068177, 1.0358689522534572, 1.0358689522534572, 1.0358689522534572, 1.0358689522534572, 1.043074868819623, 1.0430749340712824, 1.0430749340712824, 1.0430749340712824, 1.0430749340712824, 1.0430749340712824, 1.0430749340712824, 1.0430749340712824, 1.0430749340712824, 1.0430749340712824, 1.0430749340712824, 1.0431505490000197, 1.0431542517606582, 1.0431552284675352, 1.0431562093968385, 1.0431564697584583, 1.1920979695515816, 1.19210195203974, 2.699948344814154, 4.175484153824952, 7.81673221912671, 1.192091116658937, 14.16111235330031, 5.803740788588017, 15.626203307801754, 4.8449273628995355, 1.1920953210062557, 1.1920920598750366, 1.898117779187298, 5.656437622495486, 5.99952035941236, 11.498703350662067, 1.8800633387282917, 5.66519178906942, 1.1920964354774843, 1.1920994810650352, 12.797548580151927, 13.667026951480963, 2.0568377706473204, 1.1920925613778144, 1.9517525407441019, 2.3467019673591647, 16.58394174194702, 1.8592249358155557, 13.106514997600835, 1.192096685340455, 1.0283009598871082, 1.0283159646905893, 1.0283175241127265, 1.028317585146813, 1.0283276665945236, 1.028329167235151, 1.0283390085318447, 1.0358688889068177, 1.0358688889068177, 1.0358688889068177, 1.0358689522534572, 1.0358689522534572, 1.0358689522534572, 1.0358689522534572, 1.043074868819623, 1.0430749340712824, 1.0430749340712824, 1.0430749340712824, 1.0430749340712824, 1.0430749340712824, 1.0430749340712824, 1.0430749340712824, 1.0430749340712824, 1.0430749340712824, 1.0430749340712824, 1.0431505490000197, 1.0431542517606582, 1.0431552284675352, 1.0431562093968385, 1.0431564697584583, 1.1920979695515816, 1.19210195203974, 2.699948344814154, 4.175484153824952, 7.81673221912671, 1.192091116658937, 14.16111235330031, 5.803740788588017, 15.626203307801754, 4.8449273628995355, 1.1920953210062557, 1.1920920598750366, 1.898117779187298, 5.656437622495486, 5.99952035941236, 11.498703350662067, 1.8800633387282917, 5.66519178906942, 1.1920964354774843, 1.1920994810650352, 12.797548580151927, 13.667026951480963, 2.0568377706473204, 1.1920925613778144, 1.9517525407441019, 2.3467019673591647, 16.58394174194702, 1.8592249358155557, 13.106514997600835, 1.192096685340455], \"Category\": [\"Default\", \"Default\", \"Default\", \"Default\", \"Default\", \"Default\", \"Default\", \"Default\", \"Default\", \"Default\", \"Default\", \"Default\", \"Default\", \"Default\", \"Default\", \"Default\", \"Default\", \"Default\", \"Default\", \"Default\", \"Default\", \"Default\", \"Default\", \"Default\", \"Default\", \"Default\", \"Default\", \"Default\", \"Default\", \"Default\", \"Topic1\", \"Topic1\", \"Topic1\", \"Topic1\", \"Topic1\", \"Topic1\", \"Topic1\", \"Topic1\", \"Topic1\", \"Topic1\", \"Topic1\", \"Topic1\", \"Topic1\", \"Topic1\", \"Topic1\", \"Topic1\", \"Topic1\", \"Topic1\", \"Topic1\", \"Topic1\", \"Topic1\", \"Topic1\", \"Topic1\", \"Topic1\", \"Topic1\", \"Topic1\", \"Topic1\", \"Topic1\", \"Topic1\", \"Topic1\", \"Topic1\", \"Topic1\", \"Topic1\", \"Topic1\", \"Topic1\", \"Topic1\", \"Topic1\", \"Topic1\", \"Topic1\", \"Topic1\", \"Topic1\", \"Topic1\", \"Topic1\", \"Topic1\", \"Topic1\", \"Topic1\", \"Topic1\", \"Topic1\", \"Topic1\", \"Topic1\", \"Topic1\", \"Topic1\", \"Topic1\", \"Topic1\", \"Topic1\", \"Topic1\", \"Topic2\", \"Topic2\", \"Topic2\", \"Topic2\", \"Topic2\", \"Topic2\", \"Topic2\", \"Topic2\", \"Topic2\", \"Topic2\", \"Topic2\", \"Topic2\", \"Topic2\", \"Topic2\", \"Topic2\", \"Topic2\", \"Topic2\", \"Topic2\", \"Topic2\", \"Topic2\", \"Topic2\", \"Topic2\", \"Topic2\", \"Topic2\", \"Topic2\", \"Topic2\", \"Topic2\", \"Topic2\", \"Topic2\", \"Topic2\", \"Topic2\", \"Topic2\", \"Topic2\", \"Topic2\", \"Topic2\", \"Topic2\", \"Topic2\", \"Topic2\", \"Topic2\", \"Topic2\", \"Topic2\", \"Topic2\", \"Topic2\", \"Topic2\", \"Topic2\", \"Topic2\", \"Topic2\", \"Topic2\", \"Topic2\", \"Topic2\", \"Topic2\", \"Topic2\", \"Topic2\", \"Topic2\", \"Topic2\", \"Topic2\", \"Topic3\", \"Topic3\", \"Topic3\", \"Topic3\", \"Topic3\", \"Topic3\", \"Topic3\", \"Topic3\", \"Topic3\", \"Topic3\", \"Topic3\", \"Topic3\", \"Topic3\", \"Topic3\", \"Topic3\", \"Topic3\", \"Topic3\", \"Topic3\", \"Topic3\", \"Topic3\", \"Topic3\", \"Topic3\", \"Topic3\", \"Topic3\", \"Topic3\", \"Topic3\", \"Topic3\", \"Topic3\", \"Topic3\", \"Topic3\", \"Topic3\", \"Topic3\", \"Topic3\", \"Topic3\", \"Topic3\", \"Topic3\", \"Topic3\", \"Topic3\", \"Topic3\", \"Topic3\", \"Topic3\", \"Topic3\", \"Topic3\", \"Topic3\", \"Topic3\", \"Topic3\", \"Topic3\", \"Topic3\", \"Topic4\", \"Topic4\", \"Topic4\", \"Topic4\", \"Topic4\", \"Topic4\", \"Topic4\", \"Topic4\", \"Topic4\", \"Topic4\", \"Topic4\", \"Topic4\", \"Topic4\", \"Topic4\", \"Topic4\", \"Topic4\", \"Topic4\", \"Topic4\", \"Topic4\", \"Topic4\", \"Topic4\", \"Topic4\", \"Topic4\", \"Topic4\", \"Topic4\", \"Topic4\", \"Topic4\", \"Topic4\", \"Topic4\", \"Topic4\", \"Topic4\", \"Topic4\", \"Topic4\", \"Topic4\", \"Topic4\", \"Topic4\", \"Topic4\", \"Topic4\", \"Topic4\", \"Topic4\", \"Topic4\", \"Topic4\", \"Topic4\", \"Topic4\", \"Topic4\", \"Topic4\", \"Topic4\", \"Topic4\", \"Topic4\", \"Topic4\", \"Topic4\", \"Topic4\", \"Topic4\", \"Topic4\", \"Topic4\", \"Topic4\", \"Topic4\", \"Topic4\", \"Topic4\", \"Topic4\", \"Topic5\", \"Topic5\", \"Topic5\", \"Topic5\", \"Topic5\", \"Topic5\", \"Topic5\", \"Topic5\", \"Topic5\", \"Topic5\", \"Topic5\", \"Topic5\", \"Topic5\", \"Topic5\", \"Topic5\", \"Topic5\", \"Topic5\", \"Topic5\", \"Topic5\", \"Topic5\", \"Topic5\", \"Topic5\", \"Topic5\", \"Topic5\", \"Topic5\", \"Topic5\", \"Topic5\", \"Topic5\", \"Topic5\", \"Topic5\", \"Topic5\", \"Topic5\", \"Topic5\", \"Topic5\", \"Topic5\", \"Topic5\", \"Topic5\", \"Topic5\", \"Topic5\", \"Topic5\", \"Topic5\", \"Topic5\", \"Topic5\", \"Topic5\", \"Topic5\", \"Topic5\", \"Topic5\", \"Topic5\", \"Topic6\", \"Topic6\", \"Topic6\", \"Topic6\", \"Topic6\", \"Topic6\", \"Topic6\", \"Topic6\", \"Topic6\", \"Topic6\", \"Topic6\", \"Topic6\", \"Topic6\", \"Topic6\", \"Topic6\", \"Topic6\", \"Topic6\", \"Topic6\", \"Topic6\", \"Topic6\", \"Topic6\", \"Topic6\", \"Topic6\", \"Topic6\", \"Topic6\", \"Topic6\", \"Topic6\", \"Topic6\", \"Topic6\", \"Topic6\", \"Topic6\", \"Topic6\", \"Topic6\", \"Topic6\", \"Topic6\", \"Topic6\", \"Topic6\", \"Topic6\", \"Topic6\", \"Topic6\", \"Topic6\", \"Topic6\", \"Topic6\", \"Topic7\", \"Topic7\", \"Topic7\", \"Topic7\", \"Topic7\", \"Topic7\", \"Topic7\", \"Topic7\", \"Topic7\", \"Topic7\", \"Topic7\", \"Topic7\", \"Topic7\", \"Topic7\", \"Topic7\", \"Topic7\", \"Topic7\", \"Topic7\", \"Topic7\", \"Topic7\", \"Topic7\", \"Topic7\", \"Topic7\", \"Topic7\", \"Topic7\", \"Topic7\", \"Topic7\", \"Topic7\", \"Topic7\", \"Topic7\", \"Topic7\", \"Topic7\", \"Topic7\", \"Topic7\", \"Topic7\", \"Topic7\", \"Topic7\", \"Topic7\", \"Topic7\", \"Topic7\", \"Topic7\", \"Topic7\", \"Topic7\", \"Topic7\", \"Topic7\", \"Topic7\", \"Topic7\", \"Topic7\", \"Topic7\", \"Topic7\", \"Topic7\", \"Topic7\", \"Topic8\", \"Topic8\", \"Topic8\", \"Topic8\", \"Topic8\", \"Topic8\", \"Topic8\", \"Topic8\", \"Topic8\", \"Topic8\", \"Topic8\", \"Topic8\", \"Topic8\", \"Topic8\", \"Topic8\", \"Topic8\", \"Topic8\", \"Topic8\", \"Topic8\", \"Topic8\", \"Topic8\", \"Topic8\", \"Topic8\", \"Topic8\", \"Topic8\", \"Topic8\", \"Topic8\", \"Topic8\", \"Topic8\", \"Topic8\", \"Topic8\", \"Topic8\", \"Topic8\", \"Topic8\", \"Topic8\", \"Topic8\", \"Topic8\", \"Topic8\", \"Topic8\", \"Topic8\", \"Topic8\", \"Topic8\", \"Topic8\", \"Topic9\", \"Topic9\", \"Topic9\", \"Topic9\", \"Topic9\", \"Topic9\", \"Topic9\", \"Topic9\", \"Topic9\", \"Topic9\", \"Topic9\", \"Topic9\", \"Topic9\", \"Topic9\", \"Topic9\", \"Topic9\", \"Topic9\", \"Topic9\", \"Topic9\", \"Topic9\", \"Topic9\", \"Topic9\", \"Topic9\", \"Topic9\", \"Topic9\", \"Topic9\", \"Topic9\", \"Topic9\", \"Topic9\", \"Topic9\", \"Topic9\", \"Topic9\", \"Topic9\", \"Topic9\", \"Topic9\", \"Topic9\", \"Topic9\", \"Topic9\", \"Topic9\", \"Topic9\", \"Topic9\", \"Topic9\", \"Topic9\", \"Topic9\", \"Topic9\", \"Topic9\", \"Topic9\", \"Topic10\", \"Topic10\", \"Topic10\", \"Topic10\", \"Topic10\", \"Topic10\", \"Topic10\", \"Topic10\", \"Topic10\", \"Topic10\", \"Topic10\", \"Topic10\", \"Topic10\", \"Topic10\", \"Topic10\", \"Topic10\", \"Topic10\", \"Topic10\", \"Topic10\", \"Topic10\", \"Topic10\", \"Topic10\", \"Topic10\", \"Topic10\", \"Topic10\", \"Topic10\", \"Topic10\", \"Topic10\", \"Topic10\", \"Topic10\", \"Topic10\", \"Topic10\", \"Topic10\", \"Topic10\", \"Topic10\", \"Topic10\", \"Topic10\", \"Topic10\", \"Topic10\", \"Topic10\", \"Topic11\", \"Topic11\", \"Topic11\", \"Topic11\", \"Topic11\", \"Topic11\", \"Topic11\", \"Topic11\", \"Topic11\", \"Topic11\", \"Topic11\", \"Topic11\", \"Topic11\", \"Topic11\", \"Topic11\", \"Topic11\", \"Topic11\", \"Topic11\", \"Topic11\", \"Topic11\", \"Topic11\", \"Topic11\", \"Topic11\", \"Topic11\", \"Topic11\", \"Topic11\", \"Topic11\", \"Topic11\", \"Topic11\", \"Topic11\", \"Topic11\", \"Topic11\", \"Topic11\", \"Topic11\", \"Topic11\", \"Topic11\", \"Topic11\", \"Topic11\", \"Topic11\", \"Topic11\", \"Topic11\", \"Topic11\", \"Topic12\", \"Topic12\", \"Topic12\", \"Topic12\", \"Topic12\", \"Topic12\", \"Topic12\", \"Topic12\", \"Topic12\", \"Topic12\", \"Topic12\", \"Topic12\", \"Topic12\", \"Topic12\", \"Topic12\", \"Topic12\", \"Topic12\", \"Topic12\", \"Topic12\", \"Topic12\", \"Topic12\", \"Topic12\", \"Topic12\", \"Topic12\", \"Topic12\", \"Topic12\", \"Topic12\", \"Topic12\", \"Topic12\", \"Topic12\", \"Topic13\", \"Topic13\", \"Topic13\", \"Topic13\", \"Topic13\", \"Topic13\", \"Topic13\", \"Topic13\", \"Topic13\", \"Topic13\", \"Topic13\", \"Topic13\", \"Topic13\", \"Topic13\", \"Topic13\", \"Topic13\", \"Topic13\", \"Topic13\", \"Topic13\", \"Topic13\", \"Topic13\", \"Topic13\", \"Topic13\", \"Topic13\", \"Topic13\", \"Topic13\", \"Topic13\", \"Topic13\", \"Topic13\", \"Topic13\", \"Topic13\", \"Topic13\", \"Topic14\", \"Topic14\", \"Topic14\", \"Topic14\", \"Topic14\", \"Topic14\", \"Topic14\", \"Topic14\", \"Topic14\", \"Topic14\", \"Topic14\", \"Topic14\", \"Topic14\", \"Topic14\", \"Topic14\", \"Topic14\", \"Topic14\", \"Topic14\", \"Topic14\", \"Topic14\", \"Topic14\", \"Topic14\", \"Topic14\", \"Topic14\", \"Topic14\", \"Topic14\", \"Topic14\", \"Topic14\", \"Topic14\", \"Topic14\", \"Topic14\", \"Topic14\", \"Topic14\", \"Topic14\", \"Topic15\", \"Topic15\", \"Topic15\", \"Topic15\", \"Topic15\", \"Topic15\", \"Topic15\", \"Topic15\", \"Topic15\", \"Topic15\", \"Topic15\", \"Topic15\", \"Topic15\", \"Topic15\", \"Topic15\", \"Topic15\", \"Topic15\", \"Topic15\", \"Topic15\", \"Topic15\", \"Topic15\", \"Topic15\", \"Topic15\", \"Topic15\", \"Topic15\", \"Topic15\", \"Topic15\", \"Topic15\", \"Topic15\", \"Topic15\", \"Topic15\", \"Topic15\", \"Topic15\", \"Topic16\", \"Topic16\", \"Topic16\", \"Topic16\", \"Topic16\", \"Topic16\", \"Topic16\", \"Topic16\", \"Topic16\", \"Topic16\", \"Topic16\", \"Topic16\", \"Topic16\", \"Topic16\", \"Topic16\", \"Topic16\", \"Topic16\", \"Topic16\", \"Topic16\", \"Topic16\", \"Topic16\", \"Topic16\", \"Topic16\", \"Topic16\", \"Topic16\", \"Topic16\", \"Topic16\", \"Topic16\", \"Topic16\", \"Topic16\", \"Topic16\", \"Topic16\", \"Topic16\", \"Topic16\", \"Topic16\", \"Topic16\", \"Topic16\", \"Topic16\", \"Topic16\", \"Topic16\", \"Topic16\", \"Topic16\", \"Topic16\", \"Topic16\", \"Topic16\", \"Topic16\", \"Topic16\", \"Topic16\", \"Topic16\", \"Topic16\", \"Topic16\", \"Topic16\", \"Topic16\", \"Topic16\", \"Topic16\", \"Topic16\", \"Topic16\", \"Topic16\", \"Topic16\", \"Topic16\", \"Topic17\", \"Topic17\", \"Topic17\", \"Topic17\", \"Topic17\", \"Topic17\", \"Topic17\", \"Topic17\", \"Topic17\", \"Topic17\", \"Topic17\", \"Topic17\", \"Topic17\", \"Topic17\", \"Topic17\", \"Topic17\", \"Topic17\", \"Topic17\", \"Topic17\", \"Topic17\", \"Topic17\", \"Topic17\", \"Topic17\", \"Topic17\", \"Topic17\", \"Topic17\", \"Topic17\", \"Topic17\", \"Topic17\", \"Topic17\", \"Topic17\", \"Topic17\", \"Topic17\", \"Topic17\", \"Topic17\", \"Topic17\", \"Topic17\", \"Topic17\", \"Topic17\", \"Topic17\", \"Topic17\", \"Topic17\", \"Topic17\", \"Topic17\", \"Topic17\", \"Topic17\", \"Topic17\", \"Topic17\", \"Topic17\", \"Topic17\", \"Topic17\", \"Topic17\", \"Topic17\", \"Topic17\", \"Topic17\", \"Topic17\", \"Topic17\", \"Topic17\", \"Topic17\", \"Topic17\", \"Topic17\", \"Topic17\", \"Topic17\", \"Topic17\", \"Topic17\", \"Topic17\", \"Topic17\", \"Topic17\", \"Topic17\", \"Topic17\", \"Topic17\", \"Topic17\", \"Topic17\", \"Topic17\", \"Topic17\", \"Topic17\", \"Topic17\", \"Topic17\", \"Topic17\", \"Topic17\", \"Topic17\", \"Topic17\", \"Topic17\", \"Topic17\", \"Topic17\", \"Topic18\", \"Topic18\", \"Topic18\", \"Topic18\", \"Topic18\", \"Topic18\", \"Topic18\", \"Topic18\", \"Topic18\", \"Topic18\", \"Topic18\", \"Topic18\", \"Topic18\", \"Topic18\", \"Topic18\", \"Topic18\", \"Topic18\", \"Topic18\", \"Topic18\", \"Topic18\", \"Topic18\", \"Topic18\", \"Topic18\", \"Topic18\", \"Topic18\", \"Topic18\", \"Topic18\", \"Topic18\", \"Topic18\", \"Topic18\", \"Topic18\", \"Topic18\", \"Topic18\", \"Topic18\", \"Topic18\", \"Topic18\", \"Topic18\", \"Topic18\", \"Topic18\", \"Topic18\", \"Topic18\", \"Topic18\", \"Topic18\", \"Topic18\", \"Topic18\", \"Topic18\", \"Topic18\", \"Topic18\", \"Topic18\", \"Topic18\", \"Topic18\", \"Topic18\", \"Topic18\", \"Topic18\", \"Topic18\", \"Topic18\", \"Topic18\", \"Topic18\", \"Topic18\", \"Topic18\", \"Topic18\", \"Topic18\", \"Topic18\", \"Topic18\", \"Topic18\", \"Topic18\", \"Topic18\", \"Topic18\", \"Topic18\", \"Topic18\", \"Topic18\", \"Topic18\", \"Topic18\", \"Topic18\", \"Topic18\", \"Topic18\", \"Topic18\", \"Topic18\", \"Topic18\", \"Topic18\", \"Topic19\", \"Topic19\", \"Topic19\", \"Topic19\", \"Topic19\", \"Topic19\", \"Topic19\", \"Topic19\", \"Topic19\", \"Topic19\", \"Topic19\", \"Topic19\", \"Topic19\", \"Topic19\", \"Topic19\", \"Topic19\", \"Topic19\", \"Topic19\", \"Topic19\", \"Topic19\", \"Topic19\", \"Topic19\", \"Topic19\", \"Topic19\", \"Topic19\", \"Topic19\", \"Topic19\", \"Topic19\", \"Topic19\", \"Topic19\", \"Topic19\", \"Topic19\", \"Topic19\", \"Topic19\", \"Topic19\", \"Topic19\", \"Topic19\", \"Topic19\", \"Topic19\", \"Topic19\", \"Topic19\", \"Topic19\", \"Topic19\", \"Topic19\", \"Topic19\", \"Topic19\", \"Topic19\", \"Topic19\", \"Topic19\", \"Topic19\", \"Topic19\", \"Topic19\", \"Topic19\", \"Topic19\", \"Topic19\", \"Topic19\", \"Topic19\", \"Topic19\", \"Topic19\", \"Topic19\", \"Topic20\", \"Topic20\", \"Topic20\", \"Topic20\", \"Topic20\", \"Topic20\", \"Topic20\", \"Topic20\", \"Topic20\", \"Topic20\", \"Topic20\", \"Topic20\", \"Topic20\", \"Topic20\", \"Topic20\", \"Topic20\", \"Topic20\", \"Topic20\", \"Topic20\", \"Topic20\", \"Topic20\", \"Topic20\", \"Topic20\", \"Topic20\", \"Topic20\", \"Topic20\", \"Topic20\", \"Topic20\", \"Topic20\", \"Topic20\", \"Topic20\", \"Topic20\", \"Topic20\", \"Topic20\", \"Topic20\", \"Topic20\", \"Topic20\", \"Topic20\", \"Topic20\", \"Topic20\", \"Topic20\", \"Topic20\", \"Topic20\", \"Topic20\", \"Topic20\", \"Topic20\", \"Topic20\", \"Topic20\", \"Topic20\", \"Topic20\", \"Topic20\", \"Topic20\", \"Topic20\", \"Topic20\", \"Topic20\", \"Topic20\", \"Topic20\", \"Topic20\", \"Topic20\", \"Topic20\"], \"logprob\": [30.0, 29.0, 28.0, 27.0, 26.0, 25.0, 24.0, 23.0, 22.0, 21.0, 20.0, 19.0, 18.0, 17.0, 16.0, 15.0, 14.0, 13.0, 12.0, 11.0, 10.0, 9.0, 8.0, 7.0, 6.0, 5.0, 4.0, 3.0, 2.0, 1.0, -4.0663, -4.247, -4.7512, -4.7512, -5.1485, -5.1485, -5.1485, -5.1485, -5.1485, -5.1485, -5.1485, -5.1485, -5.1485, -5.1485, -5.1486, -4.7512, -4.7512, -3.9133, -4.7512, -4.7512, -5.8175, -5.8175, -5.8175, -5.8175, -5.8175, -5.8175, -5.8175, -5.8175, -5.8175, -5.8175, -3.9133, -4.0663, -5.1485, -5.1485, -4.4676, -4.7512, -5.1485, -5.1485, -5.1486, -5.1485, -3.9133, -4.0662, -4.2469, -4.7512, -4.2469, -4.2469, -4.7512, -4.4676, -4.4675, -4.4676, -5.1483, -5.1484, -5.1484, -5.1484, -5.1484, -5.1485, -4.3052, -4.7023, -4.7024, -4.7025, -4.7026, -4.7026, -4.7026, -4.7026, -3.6203, -5.3713, -5.3713, -5.3713, -5.3713, -5.3713, -5.3714, -5.3714, -5.3714, -5.3714, -5.3714, -5.3714, -5.3714, -5.3714, -5.3714, -5.3714, -5.3714, -5.3715, -5.3716, -5.3716, -5.3716, -5.3716, -4.3053, -4.3053, -4.7026, -4.7023, -4.7026, -4.7025, -4.7026, -4.7024, -4.7026, -4.3051, -4.7024, -4.0215, -4.0216, -3.4673, -3.6203, -3.6203, -4.3053, -4.3052, -3.8009, -4.7024, -4.7026, -4.3053, -4.7024, -4.7024, -4.7026, -4.7026, -4.787, -4.787, -4.787, -4.7871, -4.7871, -4.7871, -4.7871, -4.7871, -4.7871, -4.7871, -4.7871, -4.7871, -4.7871, -4.7871, -4.7871, -4.7871, -4.7871, -4.7871, -4.7871, -4.7871, -4.7871, -4.7872, -4.7872, -4.7872, -4.7872, -4.7872, -4.7872, -4.7872, -4.7872, -4.7872, -3.4371, -3.4371, -3.4372, -3.7208, -4.1182, -3.4371, -4.118, -4.118, -4.1182, -4.1182, -4.7871, -4.7871, -4.7871, -4.7871, -4.7871, -4.7871, -4.7871, -4.7871, -4.0612, -4.7302, -4.7302, -4.7302, -4.7303, -4.7303, -4.7303, -4.7303, -4.7303, -4.7303, -4.7303, -4.7303, -4.7303, -4.7303, -4.7303, -4.7303, -4.7303, -4.7303, -4.7303, -4.7303, -4.7303, -4.7303, -4.7303, -4.7303, -4.7303, -4.7303, -4.7303, -4.7303, -4.7303, -4.7303, -4.7303, -3.6639, -3.6639, -4.061, -4.0612, -3.6638, -4.0611, -4.0609, -4.7294, -4.7298, -4.7299, -4.73, -4.73, -4.7301, -4.7301, -4.7301, -4.7301, -4.7301, -4.7301, -4.7302, -4.7302, -4.7302, -4.7302, -4.7302, -4.7302, -4.7302, -4.7302, -4.7302, -4.7302, -4.7302, -4.5855, -4.5855, -4.5855, -4.5855, -4.5855, -4.5855, -4.5855, -4.5855, -4.5855, -4.5855, -4.5855, -4.5855, -4.5855, -4.5855, -4.5855, -4.5855, -4.5855, -4.5855, -4.5855, -4.5855, -4.5855, -4.5855, -4.5855, -4.5855, -4.5855, -4.5856, -4.5857, -4.5857, -4.5857, -4.5855, -3.9165, -3.5191, -3.9165, -3.5192, -3.9165, -3.9166, -4.5854, -4.5855, -4.5855, -4.5855, -4.5855, -4.5855, -4.5855, -4.5855, -4.5855, -4.5855, -4.5855, -4.5855, -2.075, -3.8462, -4.5153, -4.5153, -4.5153, -4.5153, -4.5153, -4.5153, -4.5153, -4.5153, -4.5153, -4.5153, -4.5153, -4.5153, -4.5153, -4.5153, -4.5153, -4.5154, -4.5153, -4.5153, -4.5153, -4.5153, -4.5149, -4.5153, -3.449, -4.5153, -4.5153, -4.5148, -4.5153, -4.5153, -3.4487, -3.4489, -3.4489, -3.8459, -3.8459, -4.5146, -4.5148, -4.5148, -4.5148, -4.5149, -4.5153, -4.5153, -4.5153, -3.7817, -4.4507, -4.4507, -4.4507, -4.4507, -4.4507, -4.4507, -4.4507, -4.4507, -4.4507, -4.4507, -4.4507, -4.4507, -4.4507, -4.4507, -4.4507, -4.4507, -4.4507, -4.4507, -4.4507, -4.4507, -3.3843, -4.4507, -4.4507, -4.4507, -4.4506, -4.4507, -4.4507, -4.4507, -3.7816, -3.7816, -3.7816, -3.3843, -4.4502, -4.4502, -4.4503, -4.4504, -4.4505, -4.4505, -4.4506, -4.4506, -4.4506, -4.4506, -4.4506, -4.4506, -4.4506, -4.4506, -4.4507, -4.4507, -4.4507, -4.4507, -4.4507, -4.4506, -4.4506, -4.4506, -4.4506, -4.4506, -4.4506, -4.4506, -4.4506, -4.4506, -4.4506, -4.4506, -4.4506, -4.4506, -4.4506, -4.4506, -4.4506, -4.4506, -4.4506, -4.4506, -4.4506, -4.4506, -4.4506, -4.4507, -3.7816, -3.1007, -4.4506, -3.7815, -4.4506, -4.4506, -4.4506, -3.7816, -3.3843, -3.7815, -3.7816, -3.7816, -4.4504, -4.4506, -4.4506, -4.4506, -4.4506, -4.4506, -4.4506, -4.4506, -3.6886, -4.3576, -4.3577, -4.3577, -4.3577, -4.3577, -4.3577, -4.3577, -4.3577, -4.3577, -4.3577, -4.3577, -4.3577, -4.3577, -4.3577, -4.3577, -4.3577, -4.3577, -4.3577, -4.3577, -4.3577, -4.3577, -4.3576, -4.3577, -4.3577, -4.3577, -4.3576, -4.3577, -4.3577, -4.3577, -3.6884, -3.6884, -3.6885, -4.3568, -4.3571, -4.3572, -4.3575, -4.3575, -4.3576, -4.3576, -4.3576, -4.3576, -4.3576, -4.3576, -4.3576, -4.3577, -4.3577, -4.3327, -4.3327, -4.3327, -4.3327, -4.3327, -4.3327, -4.3327, -4.3328, -4.3328, -4.3328, -4.3328, -4.3328, -4.3328, -4.3328, -4.3328, -4.3328, -4.3328, -4.3328, -4.3328, -4.3328, -4.3328, -4.3328, -4.3328, -4.3327, -4.3328, -4.3328, -4.3328, -4.3328, -4.3328, -4.3327, -3.2663, -3.2664, -3.6636, -4.3326, -4.3326, -4.3326, -4.3327, -4.3327, -4.3327, -4.3328, -3.6382, -3.6382, -4.3073, -4.3073, -4.3073, -4.3073, -4.3073, -4.3073, -4.3073, -4.3073, -4.3073, -4.3073, -4.3073, -4.3073, -4.3073, -4.3073, -4.3073, -4.3073, -4.3073, -4.3073, -4.3073, -4.3073, -4.3073, -4.3073, -4.3073, -3.6382, -4.3073, -4.3073, -4.3073, -4.3073, -3.6382, -4.3073, -4.3073, -4.3073, -4.3073, -4.3073, -4.3073, -4.3073, -4.3073, -4.3073, -4.3073, -4.3073, -3.4566, -4.1256, -4.1256, -4.1256, -4.1256, -4.1256, -4.1256, -4.1256, -4.1256, -4.1256, -4.1256, -4.1256, -3.4565, -4.1256, -4.1256, -4.1256, -4.1256, -4.1256, -4.1256, -4.1255, -4.1256, -4.1254, -4.1255, -4.1254, -3.4564, -4.1254, -3.4562, -3.4561, -4.1252, -4.1245, -4.1249, -4.125, -4.125, -4.125, -4.125, -4.125, -4.125, -4.125, -4.125, -4.125, -4.125, -4.125, -4.1249, -4.125, -4.125, -4.125, -4.125, -4.125, -4.125, -4.125, -3.4559, -3.0586, -4.1249, -4.1249, -4.125, -4.125, -4.1249, -4.1249, -4.1249, -4.125, -4.125, -4.125, -4.1095, -4.1095, -4.1095, -4.1095, -4.1095, -4.1095, -4.1095, -4.1095, -4.1095, -2.7595, -3.4403, -4.1094, -3.4404, -4.1094, -4.1093, -3.4404, -4.1093, -4.1095, -4.1095, -4.1094, -4.1094, -3.4403, -4.1094, -3.4404, -4.1092, -4.1094, -7.154, -7.154, -7.154, -7.154, -7.1468, -7.149, -7.1501, -7.1511, -4.0936, -4.0936, -4.0936, -4.0937, -4.0937, -4.0937, -4.0937, -4.0936, -4.0937, -4.0936, -4.0936, -4.0936, -4.0937, -4.0936, -4.0936, -4.0936, -4.0936, -4.0937, -4.0936, -4.0937, -4.0937, -4.0936, -4.0936, -4.0937, -4.0936, -4.0936, -4.0936, -4.0936, -4.0936, -4.0937, -4.0935, -4.0936, -4.0936, -6.3928, -6.3933, -6.3934, -6.3934, -6.3938, -6.3939, -6.3942, -6.3957, -6.3957, -6.3957, -6.3957, -6.3957, -6.3957, -6.3957, -6.3957, -6.3957, -6.3957, -6.3957, -6.3957, -6.3957, -6.3957, -6.3957, -6.3957, -6.3957, -6.3957, -6.3957, -6.3957, -6.3957, -6.3957, -6.3957, -6.3943, -6.3944, -6.3944, -6.3944, -6.3871, -6.3889, -6.3896, -6.3903, -6.3907, -6.3913, -6.3914, -6.3918, -6.3923, -6.3925, -6.3925, -6.3926, -6.3927, -6.3927, -6.3928, -6.3929, -6.393, -6.393, -6.3931, -6.3931, -6.3933, -6.3934, -6.3934, -6.3935, -6.3935, -6.3935, -6.3958, -6.3958, -6.3958, -6.3958, -6.3958, -6.3958, -6.3958, -6.3958, -6.3958, -6.3958, -6.3958, -6.3958, -6.3958, -6.3958, -6.3958, -6.3958, -6.3958, -6.3958, -6.3958, -6.3958, -6.3958, -6.3958, -6.3958, -6.3958, -6.3958, -6.3958, -6.3958, -6.3958, -6.3958, -6.3958, -6.3923, -6.3925, -6.3926, -6.3926, -6.3928, -6.3928, -6.3929, -6.3929, -6.3929, -6.393, -6.393, -6.3931, -6.3931, -6.3931, -6.3932, -6.3932, -6.3932, -6.3933, -6.3933, -6.3933, -6.3934, -6.3934, -6.3934, -6.3934, -6.3934, -6.3934, -6.3935, -6.3935, -6.3935, -6.3935, -6.3856, -6.3877, -6.3884, -6.3887, -6.3892, -6.3908, -6.3911, -6.3917, -6.3917, -6.3918, -6.3919, -6.3919, -6.3923, -6.3923, -6.3923, -6.3924, -6.3924, -6.3925, -6.3925, -6.3926, -6.3928, -6.3928, -6.3928, -6.3928, -6.3928, -6.3956, -6.3956, -6.3956, -6.3956, -6.3956, -6.3956, -6.3956, -6.3956, -6.3956, -6.3956, -6.3956, -6.3956, -6.3956, -6.3956, -6.3956, -6.3956, -6.3956, -6.3956, -6.3956, -6.3956, -6.3956, -6.3956, -6.3956, -6.3956, -6.3956, -6.3956, -6.3956, -6.3956, -6.3956, -6.3956, -6.3928, -6.3929, -6.393, -6.393, -6.393, -6.393, -6.3931, -6.3931, -6.3931, -6.3931, -6.3931, -6.3932, -6.3932, -6.3932, -6.3933, -6.3933, -6.3933, -6.3933, -6.3934, -6.3934, -6.3934, -6.3934, -6.3935, -6.3935, -6.3935, -6.3935, -6.3935, -6.3937, -6.3878, -6.3885, -6.3887, -6.39, -6.3907, -6.3913, -6.3918, -6.3924, -6.3925, -6.3925, -6.3926, -6.3927, -6.3929, -6.3929, -6.3929, -6.3929, -6.393, -6.393, -6.3931, -6.3931, -6.3931, -6.3931, -6.3953, -6.3953, -6.3953, -6.3953, -6.3953, -6.3953, -6.3953, -6.3953, -6.3953, -6.3953, -6.3953, -6.3953, -6.3953, -6.3953, -6.3953, -6.3953, -6.3953, -6.3953, -6.3953, -6.3953, -6.3953, -6.3953, -6.3953, -6.3953, -6.3953, -6.3953, -6.3953, -6.3953, -6.3953, -6.3953, -6.3953, -6.3953, -6.3953, -6.3953, -6.3953, -6.3953, -6.3953, -6.3953, -6.3953, -6.3953, -6.3953, -6.3953, -6.3953, -6.3953, -6.3953, -6.3953, -6.3953, -6.3953, -6.3953, -6.3953, -6.3953, -6.3953, -6.3953, -6.3953, -6.3953, -6.3953, -6.3953, -6.3953, -6.3953, -6.3953, -6.3953, -6.3953, -6.3953, -6.3953, -6.3953, -6.3953, -6.3953, -6.3953, -6.3953, -6.3953, -6.3953, -6.3953, -6.3953, -6.3953, -6.3953, -6.3953, -6.3953, -6.3953, -6.3953, -6.3953, -6.3953, -6.3953, -6.3953, -6.3953, -6.3953, -6.3953, -6.3953, -6.3953, -6.3953, -6.3953, -6.3953, -6.3953, -6.3953, -6.3953, -6.3953, -6.3953, -6.3953, -6.3953, -6.3953, -6.3953, -6.3953, -6.3953, -6.3953, -6.3953, -6.3953, -6.3953, -6.3953, -6.3953, -6.3953, -6.3953, -6.3953, -6.3953, -6.3953, -6.3953, -6.3953, -6.3953, -6.3953, -6.3953, -6.3953, -6.3953], \"loglift\": [30.0, 29.0, 28.0, 27.0, 26.0, 25.0, 24.0, 23.0, 22.0, 21.0, 20.0, 19.0, 18.0, 17.0, 16.0, 15.0, 14.0, 13.0, 12.0, 11.0, 10.0, 9.0, 8.0, 7.0, 6.0, 5.0, 4.0, 3.0, 2.0, 1.0, 1.2753, 1.2602, 1.2027, 1.2026, 1.136, 1.136, 1.136, 1.136, 1.136, 1.136, 1.136, 1.136, 1.136, 1.136, 1.136, 1.0529, 1.0529, 1.0254, 1.0157, 0.9923, 0.9644, 0.9644, 0.9644, 0.9644, 0.9644, 0.9644, 0.9644, 0.9644, 0.9644, 0.9644, 0.8196, 0.8148, 0.8843, 0.8843, 0.7894, 0.816, 0.8715, 0.8715, 0.8714, 0.8577, 0.4687, 0.5154, 0.5501, 0.713, 0.4418, 0.2691, 0.5664, 0.0902, 0.0129, -0.0432, -0.0737, 0.4717, 0.558, 0.2113, 0.5333, 0.7211, 1.6947, 1.6249, 1.6248, 1.6247, 1.6247, 1.6247, 1.6247, 1.6247, 1.4539, 1.4455, 1.4455, 1.4455, 1.4455, 1.4455, 1.4454, 1.4454, 1.4454, 1.4454, 1.4454, 1.4454, 1.4454, 1.4454, 1.4454, 1.4454, 1.4454, 1.4454, 1.4453, 1.4453, 1.4453, 1.4453, 1.3586, 1.3578, 1.3562, 1.3503, 1.35, 1.3359, 1.3358, 1.3321, 1.3319, 1.1845, 1.2819, 1.0862, 1.0551, 0.8552, 0.8601, 0.8585, 1.0671, 1.0566, 0.6236, 1.0687, 0.8555, 0.2764, -0.1865, 0.3722, 0.5545, 0.53, 2.1097, 2.1097, 2.1097, 2.1097, 2.1097, 2.1097, 2.1097, 2.1097, 2.1097, 2.1097, 2.1097, 2.1097, 2.1097, 2.1097, 2.1097, 2.1096, 2.1096, 2.1096, 2.1096, 2.1096, 2.1096, 2.1096, 2.1096, 2.1096, 2.1096, 2.1096, 2.1096, 2.1096, 2.1096, 2.1096, 1.9855, 1.9855, 1.9854, 1.8321, 1.8015, 1.2958, 1.4871, 0.9897, 0.4634, 0.3622, 1.5884, 1.5884, 1.5657, 0.5305, 1.6447, 0.5082, 0.9564, 1.5657, 2.3762, 2.1756, 2.1756, 2.1756, 2.1756, 2.1756, 2.1756, 2.1756, 2.1756, 2.1756, 2.1756, 2.1756, 2.1756, 2.1756, 2.1756, 2.1756, 2.1756, 2.1756, 2.1756, 2.1756, 2.1756, 2.1756, 2.1756, 2.1756, 2.1756, 2.1756, 2.1756, 2.1756, 2.1756, 2.1756, 2.1756, 2.0129, 1.9125, 1.5669, 1.4633, 0.8151, 1.2342, 0.4969, -0.3475, -0.0412, -0.2495, 0.7754, -0.3056, 0.7341, -0.2142, 0.9161, 1.0409, 0.0669, 1.7487, 0.4465, 1.6279, 1.6279, 1.276, 0.8749, 0.6296, 0.9234, 1.6279, 0.9715, 1.0799, 1.6279, 2.3546, 2.3546, 2.3546, 2.3546, 2.3546, 2.3546, 2.3546, 2.3546, 2.3546, 2.3546, 2.3546, 2.3546, 2.3546, 2.3546, 2.3546, 2.3546, 2.3546, 2.3546, 2.3546, 2.3546, 2.3546, 2.3546, 2.3546, 2.3546, 2.3546, 2.3545, 2.3545, 2.3545, 2.3545, 1.9863, 1.986, 1.2779, 1.4801, 0.8628, 1.4228, 1.1912, -0.1066, 1.3447, 1.4345, -0.263, 1.1162, -0.0277, 1.467, 1.9379, 1.8154, 1.9331, 1.9045, 1.0784, 2.8857, 2.6534, 2.4399, 2.4399, 2.4399, 2.4399, 2.4399, 2.4399, 2.4399, 2.4399, 2.4399, 2.4399, 2.4399, 2.4399, 2.4399, 2.4399, 2.4399, 2.4398, 2.0711, 2.0131, 1.9954, 1.9748, 1.9472, 1.8945, 1.8902, 1.871, 1.7626, 1.6229, 1.5435, 1.1864, 1.1329, 1.1089, 0.8736, 0.5785, 0.5361, 1.0384, -0.0344, 0.1739, 0.8833, 0.001, 0.7173, 0.8571, 0.8813, 2.7403, 2.5221, 2.5221, 2.5221, 2.5221, 2.5221, 2.5221, 2.5221, 2.5221, 2.5221, 2.5221, 2.5221, 2.5221, 2.5221, 2.5221, 2.5221, 2.5221, 2.1436, 2.1436, 2.1435, 2.1435, 2.1211, 2.0997, 2.0281, 2.0281, 1.9456, 1.9456, 1.9456, 1.9455, 1.8646, 1.7275, 1.6991, 1.4968, -0.0682, 0.2384, 0.0656, -0.0259, 0.3466, 0.4882, 0.946, 1.3595, 1.203, 1.0136, 1.3163, 1.2678, 0.0282, 1.1773, 1.5822, 1.0738, 1.5822, 0.8446, 1.4795, 2.5222, 2.5222, 2.5222, 2.5222, 2.5222, 2.5222, 2.5222, 2.5222, 2.5222, 2.5222, 2.5222, 2.5222, 2.5222, 2.5222, 2.5222, 2.5222, 2.5222, 2.5222, 2.5222, 2.5222, 2.5222, 2.5222, 2.5221, 2.4439, 2.2124, 2.1479, 2.1381, 2.0893, 2.0601, 2.0282, 1.8385, 1.0946, 0.9071, 0.6988, 0.5409, 0.6574, -0.0686, 1.1165, 1.419, 1.2262, 1.9456, 1.9456, 1.7213, 2.8694, 2.6434, 2.6434, 2.6433, 2.6433, 2.6433, 2.6433, 2.6433, 2.6433, 2.6433, 2.6433, 2.6433, 2.6433, 2.6433, 2.6433, 2.6433, 2.6433, 2.6433, 2.6433, 2.6433, 2.6433, 2.1822, 2.1708, 2.1609, 2.1609, 2.1609, 2.0784, 2.0543, 2.0543, 2.0543, 1.7097, 1.6839, 0.7903, 0.2249, 0.0673, 0.2006, 0.1584, 0.5235, 1.545, 0.3311, 1.123, 0.4394, 0.9554, 1.0021, 1.3028, 1.1065, 1.2959, 2.6762, 2.6762, 2.6762, 2.6762, 2.6762, 2.6762, 2.6762, 2.6762, 2.6762, 2.6762, 2.6762, 2.6762, 2.6762, 2.6762, 2.6762, 2.6762, 2.6762, 2.6762, 2.6762, 2.6762, 2.6761, 2.6761, 2.6761, 2.2861, 2.2861, 2.1907, 2.168, 2.1619, 2.1077, 2.0836, 1.9103, 1.0561, 0.7183, 0.9, 1.8809, 1.148, 0.1832, 1.5447, 1.2202, 1.3277, 2.9414, 2.9414, 2.7104, 2.7104, 2.7104, 2.7104, 2.7104, 2.7104, 2.7104, 2.7104, 2.7104, 2.7104, 2.7104, 2.7104, 2.7104, 2.7104, 2.7104, 2.7104, 2.7104, 2.7104, 2.7104, 2.7104, 2.7104, 2.3265, 2.2431, 2.2222, 2.1926, 2.1926, 2.1926, 2.1382, 0.9196, 0.0747, 1.4856, 1.3558, 2.1382, 1.9706, 1.0545, 0.7694, 1.4112, 1.3944, 1.0319, 0.2086, 3.2156, 2.9631, 2.9631, 2.9631, 2.9631, 2.9631, 2.9631, 2.9631, 2.9631, 2.9631, 2.9631, 2.9631, 2.7796, 2.4933, 2.4933, 2.4687, 2.4687, 2.4462, 2.3592, 2.3342, 2.1523, 1.9683, 1.4508, 1.3553, 1.3406, 1.2138, 1.0226, 0.9683, 0.9514, 0.1979, 2.9637, 2.9637, 2.9637, 2.9637, 2.9637, 2.9637, 2.9637, 2.9637, 2.9637, 2.9637, 2.5566, 2.5565, 2.4693, 2.4692, 2.4229, 2.3599, 2.3347, 2.3347, 2.3347, 2.0943, 1.6187, 1.4992, 1.3995, 1.2977, 1.2976, 1.2976, 1.2349, 1.1926, 1.1704, 0.608, 0.3909, 0.5637, 2.9862, 2.9862, 2.9862, 2.9862, 2.9862, 2.9862, 2.9862, 2.489, 2.4769, 2.3147, 2.2414, 2.1098, 1.8772, 1.8207, 1.7603, 1.6363, 1.5971, 1.5544, 1.4669, 1.3997, 1.2524, 1.0756, 1.0673, 0.8821, 0.5794, 0.4484, -0.051, -0.051, -0.051, -0.051, -2.6664, -2.352, -2.5685, -2.4182, 3.0093, 3.0093, 3.0093, 3.0093, 3.0093, 3.0093, 3.0093, 2.5879, 2.5879, 2.5401, 2.4562, 2.3736, 2.3736, 2.3736, 2.0783, 1.7105, 1.7105, 1.3959, 1.329, 1.3289, 1.3289, 1.2239, 1.2194, 1.2016, 0.981, 0.8451, 0.6393, 0.5951, 0.4223, 0.3867, 0.3853, 0.3309, 0.2883, 0.7102, 0.7096, 0.7096, 0.7096, 0.7092, 0.7091, 0.7087, 0.7, 0.7, 0.7, 0.7, 0.7, 0.7, 0.7, 0.693, 0.693, 0.693, 0.693, 0.693, 0.693, 0.693, 0.693, 0.693, 0.693, 0.693, 0.693, 0.6929, 0.6929, 0.6929, 0.6929, 0.5785, 0.5785, 0.5784, 0.5784, -1.4264, -1.9085, -1.808, -1.9115, -1.9662, -1.8754, -2.0689, -1.0965, -1.7037, -0.9029, -2.0106, -1.318, -1.3184, -1.454, -1.835, 0.0744, -1.0799, -1.0538, -0.9705, 0.2884, -0.8879, -0.9708, -0.9969, -1.0211, 0.0738, -1.076, 0.7072, 0.7072, 0.7072, 0.7072, 0.7072, 0.7072, 0.7072, 0.6999, 0.6999, 0.6999, 0.6999, 0.6999, 0.6999, 0.6999, 0.693, 0.693, 0.693, 0.693, 0.693, 0.693, 0.693, 0.693, 0.693, 0.693, 0.693, 0.6929, 0.6929, 0.6929, 0.6929, 0.6929, 0.5136, 0.5134, 0.5133, 0.5133, 0.513, 0.513, 0.513, 0.513, 0.513, 0.5129, 0.5128, 0.5128, 0.5128, 0.5127, 0.5127, 0.5127, 0.5126, 0.5126, 0.5126, 0.5125, 0.5125, 0.5125, 0.5125, 0.5125, 0.5125, 0.5124, 0.5124, 0.5124, 0.5124, 0.5124, -0.8092, -0.7109, -1.9096, -1.8309, 0.0483, -0.8663, -0.7632, -1.0964, -1.5947, -0.3856, -0.7457, -2.01, -1.1597, -0.6907, -0.6739, -0.2547, -0.7873, -1.0201, -0.3542, -0.8872, -0.7392, 0.0389, -0.0347, -1.9684, -0.0347, 0.7074, 0.7073, 0.7073, 0.7073, 0.7073, 0.7073, 0.7073, 0.7, 0.7, 0.7, 0.7, 0.7, 0.7, 0.7, 0.6931, 0.6931, 0.6931, 0.6931, 0.6931, 0.6931, 0.6931, 0.6931, 0.6931, 0.6931, 0.6931, 0.693, 0.693, 0.693, 0.693, 0.693, 0.5131, 0.513, 0.5129, 0.5129, 0.5129, 0.5128, 0.5128, 0.5128, 0.5128, 0.5127, 0.5127, 0.5127, 0.5127, 0.5127, 0.5126, 0.5126, 0.5125, 0.5125, 0.5125, 0.5125, 0.5124, 0.5124, 0.5124, 0.5124, 0.5124, 0.5124, 0.5123, 0.5122, -1.909, -0.8121, -0.7119, -0.8656, -1.0954, -0.7633, 0.0457, -1.8346, -0.9283, -0.5824, -1.5955, -0.0118, -1.0331, -0.0348, -1.9684, -0.7393, 0.0858, -1.2164, -0.8401, -0.035, -0.6746, -1.1605, 0.7077, 0.7077, 0.7077, 0.7077, 0.7077, 0.7077, 0.7077, 0.7004, 0.7004, 0.7004, 0.7004, 0.7004, 0.7004, 0.7004, 0.6935, 0.6935, 0.6935, 0.6935, 0.6935, 0.6935, 0.6935, 0.6935, 0.6935, 0.6935, 0.6935, 0.6934, 0.6934, 0.6934, 0.6934, 0.6934, 0.5599, 0.5599, -0.2576, -0.6936, -1.3206, 0.5599, -1.9149, -1.0229, -2.0133, -0.8423, 0.5599, 0.5599, 0.0948, -0.9972, -1.056, -1.7066, 0.1043, -0.9987, 0.5599, 0.5599, -1.8136, -1.8793, 0.0145, 0.5599, 0.0669, -0.1174, -2.0728, 0.1155, -1.8375, 0.5599, 0.7077, 0.7077, 0.7077, 0.7077, 0.7077, 0.7077, 0.7077, 0.7004, 0.7004, 0.7004, 0.7004, 0.7004, 0.7004, 0.7004, 0.6935, 0.6935, 0.6935, 0.6935, 0.6935, 0.6935, 0.6935, 0.6935, 0.6935, 0.6935, 0.6935, 0.6934, 0.6934, 0.6934, 0.6934, 0.6934, 0.5599, 0.5599, -0.2576, -0.6936, -1.3206, 0.5599, -1.9149, -1.0229, -2.0133, -0.8423, 0.5599, 0.5599, 0.0948, -0.9972, -1.056, -1.7066, 0.1043, -0.9987, 0.5599, 0.5599, -1.8136, -1.8793, 0.0145, 0.5599, 0.0669, -0.1174, -2.0728, 0.1155, -1.8375, 0.5599]}, \"token.table\": {\"Topic\": [2, 14, 1, 11, 14, 2, 13, 15, 8, 10, 1, 1, 8, 14, 9, 5, 10, 10, 5, 8, 1, 13, 15, 9, 1, 1, 9, 3, 2, 4, 8, 2, 9, 14, 5, 2, 5, 12, 1, 7, 9, 11, 9, 1, 7, 5, 8, 14, 4, 11, 15, 11, 11, 11, 4, 2, 10, 9, 4, 1, 15, 3, 1, 4, 7, 9, 2, 5, 10, 5, 3, 8, 7, 3, 1, 3, 13, 15, 9, 12, 4, 7, 11, 2, 13, 15, 11, 1, 2, 4, 5, 10, 14, 13, 11, 4, 2, 6, 4, 11, 1, 2, 7, 9, 1, 2, 8, 10, 1, 7, 6, 3, 4, 6, 9, 5, 5, 1, 4, 7, 1, 4, 5, 6, 11, 12, 1, 2, 3, 5, 6, 13, 15, 2, 3, 4, 10, 4, 8, 1, 10, 10, 7, 1, 2, 4, 6, 11, 2, 10, 1, 2, 14, 1, 8, 15, 2, 3, 5, 8, 4, 3, 1, 7, 1, 7, 10, 2, 3, 1, 2, 3, 4, 7, 13, 15, 2, 1, 3, 11, 8, 9, 4, 7, 8, 3, 8, 5, 9, 8, 1, 2, 3, 4, 6, 8, 15, 4, 1, 3, 13, 14, 15, 13, 3, 2, 5, 9, 5, 7, 9, 2, 4, 6, 9, 1, 3, 4, 5, 6, 7, 8, 10, 11, 15, 4, 3, 4, 6, 10, 3, 1, 2, 7, 14, 1, 11, 3, 10, 4, 15, 4, 1, 13, 14, 3, 13, 15, 1, 2, 12, 11, 12, 1, 3, 1, 4, 3, 1, 11, 12, 4, 4, 8, 2, 6, 6, 8, 2, 14, 1, 3, 4, 8, 5, 2, 3, 3, 5, 12, 5, 7, 12, 1, 4, 10, 1, 2, 8, 3, 11, 3, 1, 1, 5, 4, 2, 12, 1, 8, 1, 5, 1, 13, 11, 1, 3, 2, 5, 8, 1, 2, 10, 5, 6, 3, 2, 3, 5, 6, 9, 1, 2, 2, 10, 2, 5, 6, 11, 12, 4, 4, 12, 11, 1, 3, 4, 6, 7, 8, 9, 13, 14, 15, 10, 7, 1, 8, 9, 15, 2, 13, 3, 5, 7, 14, 9, 4, 7, 6, 4, 11, 3, 1, 10, 3, 1, 3, 13, 15, 13, 2, 5, 7, 9, 10, 12, 1, 3, 1, 2, 5, 6, 7, 11, 5, 5, 5, 7, 6, 5, 9, 7, 9, 5, 1, 8, 1, 8, 10, 14, 7, 8, 1, 8, 2, 6, 1, 3, 13, 15, 10, 12, 9, 1, 4, 7, 4, 4, 5, 5, 2, 1, 10, 4, 2, 11, 15, 9, 1, 2, 10, 15, 1, 2, 3, 6, 9, 1, 4, 7, 1, 7, 2, 8, 5, 1, 2, 3, 4, 6, 7, 9, 10, 11, 13, 14, 15, 5, 9, 1, 2, 11, 1, 2, 11, 3, 7, 9, 1, 9, 1, 4, 1, 2, 5, 11, 14, 8, 13, 1, 4, 15, 11, 2, 3, 1, 12, 3, 1, 4, 1, 10, 2, 1, 2, 7, 15, 14, 12, 11, 10, 5, 3, 2, 6, 4, 10, 2, 6, 3, 6, 8, 1, 2, 5, 11, 12, 14, 1, 4, 5, 7, 9, 12, 7, 5, 1, 2, 4, 7, 13, 1, 11, 9, 3, 7, 5, 9, 1, 15, 1, 2, 9, 1, 4, 12, 14, 1, 3, 9, 10, 4, 2, 4, 8, 2, 4, 5, 7, 11, 1, 1, 9, 6, 11, 12, 7, 9, 7, 8, 1, 2, 3, 10, 12, 1, 8, 1, 13, 1, 4, 7, 3, 11, 1, 2, 5, 6, 8, 10, 11, 12, 14, 2, 11, 4, 5, 3, 6, 8, 15, 7, 1, 4, 5, 6, 8, 9, 11, 13, 14, 3, 4, 1, 15, 1, 8, 13, 13, 10, 11, 2, 13, 2, 7, 4, 5, 6, 4, 4, 5, 8, 14, 5, 1, 10, 6, 9, 1, 4, 7, 9, 7, 12, 12, 10, 1, 3, 4, 7, 6, 1, 3, 13, 15, 1, 13, 1, 2, 3, 4, 5, 6, 7, 9, 12, 15, 2, 5, 14, 2, 5, 1, 15, 4, 2, 6, 5, 3, 3, 3, 15, 4, 10, 6, 1, 15, 3, 10, 1, 2, 3, 4, 9, 13, 3, 10, 10, 1, 7, 2, 2, 4, 5, 7, 8, 9, 12, 15, 4, 13, 1, 2, 3, 12, 3, 11, 12, 5, 2, 10, 12, 5, 1, 4, 3, 8, 1, 4, 9, 6, 8, 9, 6, 14, 7, 13, 6, 4, 8, 7, 13, 2, 10, 4, 7, 1, 5, 4, 1, 1, 6, 14, 2, 4, 8, 4, 2, 12, 5, 8, 10, 6, 2, 5, 2, 4, 1, 5, 7, 14, 1, 2, 1, 2, 4, 6, 2, 10, 11, 2, 3, 3, 9, 2, 12, 8, 9, 2, 13, 6, 2, 11, 15, 2, 1, 2, 3, 4, 5, 6, 10, 3, 6, 9, 11, 11], \"Freq\": [0.6394050032039387, 0.2557620012815755, 0.5613945472120889, 0.28069727360604446, 0.9653731381539307, 0.7305109343044598, 0.9586249016542284, 0.9724622760492583, 0.8537695527425213, 0.8851765139176084, 0.9245711826928014, 0.566560217010705, 0.2832801085053525, 0.2832801085053525, 0.8781933342771462, 0.8263283663263968, 0.8851769442578659, 0.8851785281290736, 0.8263310603483536, 0.8537681511344067, 0.8579230546981758, 0.6380236993505196, 0.6380236993505196, 0.8781916148472965, 0.7053898671142247, 0.48728864680104655, 0.48728864680104655, 0.7912544125207706, 0.6706952904054183, 0.33534764520270915, 0.8537656833577636, 0.4991382661389909, 0.4991382661389909, 0.9653731381539307, 0.8263290448108315, 0.8953825675516283, 0.5717222309615042, 0.5717222309615042, 0.6670330875994765, 0.3335165437997383, 0.8781913505719416, 0.8929927146337306, 0.8781925840017705, 0.4796779007324486, 0.4796779007324486, 0.8263286272063498, 0.5871997957475429, 0.5871997957475429, 0.7985075007162833, 0.8929921911480565, 0.9724637507703099, 0.8929929947336962, 0.892992087535674, 0.8929922607411505, 0.7984894851630644, 0.5013890633227429, 0.5013890633227429, 0.8781935917232174, 0.7984805505273561, 0.7959944352066209, 0.265331478402207, 0.791249680160066, 0.45650838693350887, 0.22825419346675443, 0.22825419346675443, 0.22825419346675443, 0.7305103208443473, 0.5447383628978688, 0.5447383628978688, 0.8263290898109161, 0.7912512068251972, 0.8537702208314796, 0.853766909479172, 0.7912478332008672, 0.5454131621346642, 0.2727065810673321, 0.09090219368911069, 0.09090219368911069, 0.8781934525247527, 0.9587038930145179, 0.7984973056838855, 0.5596107193660586, 0.5596107193660586, 0.730476745799897, 0.9586309966260296, 0.9724622183303712, 0.892993168872212, 0.2833394673042149, 0.14166973365210744, 0.14166973365210744, 0.14166973365210744, 0.2833394673042149, 0.14166973365210744, 0.958626463110339, 0.8929929945955202, 0.7984976147562552, 0.7304787361914518, 0.8388572294743183, 0.798493854427319, 0.8929926443151432, 0.6324984620379708, 0.10541641033966179, 0.21083282067932357, 0.10541641033966179, 0.44147329359328913, 0.22073664679664456, 0.22073664679664456, 0.8851767488863318, 0.4796732141776712, 0.4796732141776712, 0.8388544270806327, 0.3703774562653098, 0.3703774562653098, 0.3703774562653098, 0.8781955553399646, 0.8263322078843857, 0.8263282192054578, 0.4531409481556682, 0.2265704740778341, 0.2265704740778341, 0.23949318525947466, 0.23949318525947466, 0.23949318525947466, 0.23949318525947466, 0.23949318525947466, 0.9587038930145179, 0.25586139373000566, 0.25586139373000566, 0.12793069686500283, 0.12793069686500283, 0.12793069686500283, 0.12793069686500283, 0.12793069686500283, 0.2855216711322105, 0.2855216711322105, 0.2855216711322105, 0.2855216711322105, 0.9997213690797052, 0.8537690025820889, 0.48943115736711984, 0.48943115736711984, 0.8851771457887805, 0.853771208624662, 0.2567088231390229, 0.5134176462780458, 0.2567088231390229, 0.8388620517554825, 0.8929936231802438, 0.8953537763381498, 0.8851779715250768, 0.46953502372146055, 0.23476751186073028, 0.23476751186073028, 0.38329078088199753, 0.38329078088199753, 0.38329078088199753, 0.5289593010682615, 0.26447965053413075, 0.13223982526706538, 0.13223982526706538, 0.7985016548377589, 0.7912475959730115, 0.6670492786340626, 0.3335246393170313, 0.766885947572468, 0.2556286491908227, 0.8851781678117663, 0.6681226344687394, 0.3340613172343697, 0.15951803383876959, 0.15951803383876959, 0.15951803383876959, 0.31903606767753917, 0.15951803383876959, 0.15951803383876959, 0.15951803383876959, 0.7305083861000096, 0.8579327170340408, 0.7912504226923281, 0.5761941042338284, 0.40437118498742314, 0.40437118498742314, 0.520971640761485, 0.520971640761485, 0.8537714896013007, 0.7912487991085612, 0.8537683434982902, 0.5420862320889623, 0.5420862320889623, 0.8537700833171831, 0.28246368648207093, 0.35307960810258865, 0.14123184324103547, 0.07061592162051773, 0.07061592162051773, 0.07061592162051773, 0.07061592162051773, 0.7985075114199907, 0.489309644326674, 0.163103214775558, 0.163103214775558, 0.163103214775558, 0.163103214775558, 0.9586291976138532, 0.7912489085082147, 0.2927831035175269, 0.2927831035175269, 0.2927831035175269, 0.8263293228628168, 0.8537786068443094, 0.8781918068853364, 0.5169079924966575, 0.17230266416555254, 0.17230266416555254, 0.17230266416555254, 0.3839704297847166, 0.0639950716307861, 0.0639950716307861, 0.1279901432615722, 0.0639950716307861, 0.0639950716307861, 0.0639950716307861, 0.0639950716307861, 0.0639950716307861, 0.0639950716307861, 0.7984902151204374, 0.41280288644060564, 0.20640144322030282, 0.20640144322030282, 0.20640144322030282, 0.7912483273163933, 0.39510172746567424, 0.19755086373283712, 0.19755086373283712, 0.19755086373283712, 0.705389028385482, 0.8929929942155366, 0.5292700032822846, 0.5292700032822846, 0.7984932913705772, 0.9724779408061476, 0.798507120143763, 0.4018705118001807, 0.4018705118001807, 0.4018705118001807, 0.7912515523244782, 0.6380294218942729, 0.6380294218942729, 0.3544474233481702, 0.3544474233481702, 0.3544474233481702, 0.8929925748601653, 0.9587038930145179, 0.7491803700661829, 0.24972679002206097, 0.6494878955649418, 0.3247439477824709, 0.7912513109687709, 0.7053906849758859, 0.892992645109654, 0.6321063745459218, 0.7985022117777616, 0.5209742998155622, 0.5209742998155622, 0.7304837719904357, 0.8388590932106782, 0.8388613880247026, 0.853767483720678, 0.7304629672461361, 0.9653731381539307, 0.4348982524966281, 0.4348982524966281, 0.21744912624831406, 0.8537676806766704, 0.8263303305465981, 0.7304735223979997, 0.7912517542729063, 0.7912457338013978, 0.8263313357556162, 0.9587038930145179, 0.8263294347560759, 0.5847267410397545, 0.5847267410397545, 0.7053875936286808, 0.5325030690551128, 0.5325030690551128, 0.6280443430834368, 0.20934811436114562, 0.20934811436114562, 0.532056705982501, 0.532056705982501, 0.7912508773345338, 0.7053878369531608, 0.6585018251933163, 0.3292509125966582, 0.7984945916272468, 0.40870492070781866, 0.40870492070781866, 0.4796676736815553, 0.4796676736815553, 0.6585054887736191, 0.32925274438680957, 0.511085981253915, 0.511085981253915, 0.8929928894975607, 0.45927799079051795, 0.45927799079051795, 0.6802910564837203, 0.3401455282418602, 0.8537684941558932, 0.6141177781760772, 0.3070588890880386, 0.1535294445440193, 0.5268376973046225, 0.5268376973046225, 0.7912459242163576, 0.3535794316985056, 0.1767897158492528, 0.1767897158492528, 0.1767897158492528, 0.1767897158492528, 0.7053903616211047, 0.8953218716941702, 0.7304820943424128, 0.8851772879964844, 0.16667999108147835, 0.16667999108147835, 0.3333599821629567, 0.16667999108147835, 0.16667999108147835, 0.798495362570354, 0.7985082977199744, 0.9587039529881801, 0.5761943670565197, 0.43483163688296317, 0.08696632737659263, 0.08696632737659263, 0.08696632737659263, 0.08696632737659263, 0.08696632737659263, 0.08696632737659263, 0.08696632737659263, 0.08696632737659263, 0.08696632737659263, 0.8851750794001725, 0.5439394583139108, 0.3247549704054425, 0.48713245560816376, 0.16237748520272124, 0.16237748520272124, 0.524133180747654, 0.524133180747654, 0.7912506323621479, 0.8263306236652874, 0.8537657522633453, 0.9653730791183316, 0.8781920237875636, 0.5209745213542597, 0.5209745213542597, 0.5318969735755913, 0.798488988880324, 0.8929926447987586, 0.7912503827072552, 0.8579417964053944, 0.8851778179658755, 0.791247472557132, 0.1811734973826803, 0.5435204921480409, 0.1811734973826803, 0.1811734973826803, 0.9586343993765958, 0.19200193981544783, 0.19200193981544783, 0.19200193981544783, 0.19200193981544783, 0.19200193981544783, 0.19200193981544783, 0.45928547115032126, 0.45928547115032126, 0.1765165306370436, 0.1765165306370436, 0.1765165306370436, 0.1765165306370436, 0.1765165306370436, 0.1765165306370436, 0.8263307858582039, 0.8263315340550338, 0.8263287088258202, 0.8537654350362825, 0.8388583089751949, 0.5420876263298141, 0.5420876263298141, 0.8537728121139531, 0.8781946362226204, 0.826330851834648, 0.4796661364081916, 0.4796661364081916, 0.48127081485059303, 0.24063540742529652, 0.24063540742529652, 0.24063540742529652, 0.8537658282137858, 0.8537716784093963, 0.7053912917508718, 0.8537697499968611, 0.7304803595210684, 0.8388561658516861, 0.18117162166616457, 0.5435148649984937, 0.18117162166616457, 0.18117162166616457, 0.5992885377776784, 0.5992885377776784, 0.8781925751531431, 0.5338301843524195, 0.26691509217620973, 0.26691509217620973, 0.7984960282157507, 0.7984987778811181, 0.8263301512532522, 0.8263321525761781, 0.7304792824812641, 0.7053770787093185, 0.8851765098317035, 0.7984925691770545, 0.503884735139757, 0.503884735139757, 0.9724526845724814, 0.8781943370023397, 0.1937263448829365, 0.5811790346488095, 0.1937263448829365, 0.1937263448829365, 0.4688397908725712, 0.2344198954362856, 0.15627993029085707, 0.15627993029085707, 0.07813996514542854, 0.39363777653703225, 0.19681888826851612, 0.39363777653703225, 0.479668952008802, 0.479668952008802, 0.7304820393358394, 0.853769121428944, 0.8263324095163888, 0.36584401404565886, 0.14633760561826356, 0.07316880280913178, 0.07316880280913178, 0.07316880280913178, 0.07316880280913178, 0.07316880280913178, 0.07316880280913178, 0.07316880280913178, 0.07316880280913178, 0.07316880280913178, 0.07316880280913178, 0.5420863753032322, 0.5420863753032322, 0.7053913580409348, 0.730475354917938, 0.8929928888412254, 0.5247158925674109, 0.26235794628370546, 0.26235794628370546, 0.7912523473666189, 0.8537788208875356, 0.8781920465029356, 0.4872788359414235, 0.4872788359414235, 0.46171538340153173, 0.46171538340153173, 0.17048831021280497, 0.5114649306384149, 0.17048831021280497, 0.17048831021280497, 0.17048831021280497, 0.8537680898802928, 0.9586289583494112, 0.8579165948379014, 0.7984862548337831, 0.9724419590264264, 0.8929930982772013, 0.4697974085733511, 0.4697974085733511, 0.5111061081164717, 0.5111061081164717, 0.7912474129718942, 0.4617144520782444, 0.4617144520782444, 0.8579418993122785, 0.8851765328857748, 0.7304629187015654, 0.6700235901101298, 0.1116705983516883, 0.1116705983516883, 0.1116705983516883, 0.9653730791183316, 0.9587038930145179, 0.8929926447296707, 0.8851764365572989, 0.826331212730388, 0.7912454737400881, 0.4861832149675488, 0.4861832149675488, 0.7984922010474722, 0.8851758353130572, 0.7304763903078592, 0.8388610351231495, 0.5123600349554314, 0.5123600349554314, 0.8537689566578531, 0.12818930767196215, 0.5127572306878486, 0.12818930767196215, 0.12818930767196215, 0.12818930767196215, 0.12818930767196215, 0.4846056325073603, 0.09692112650147205, 0.1938422530029441, 0.09692112650147205, 0.09692112650147205, 0.09692112650147205, 0.8537782603509484, 0.8263308980046356, 0.20060064412913498, 0.20060064412913498, 0.40120128825826995, 0.20060064412913498, 0.20060064412913498, 0.9858426807842489, 0.8929940776614579, 0.563929545172284, 0.7912528509347163, 0.8537694989232296, 0.8263308552608686, 0.8781917054269085, 0.7959727030657369, 0.2653242343552456, 0.3177387358747661, 0.6354774717495322, 0.8781905189479957, 0.2112895048417437, 0.4225790096834874, 0.2112895048417437, 0.2112895048417437, 0.4596646672414995, 0.22983233362074976, 0.22983233362074976, 0.22983233362074976, 0.7984935222800967, 0.23360954438633325, 0.4672190887726665, 0.23360954438633325, 0.24354806567138984, 0.24354806567138984, 0.24354806567138984, 0.24354806567138984, 0.24354806567138984, 0.7053909106793235, 0.4872765448322609, 0.4872765448322609, 0.42612995340236537, 0.42612995340236537, 0.42612995340236537, 0.8537644965328764, 0.8781935567563229, 0.8537695041712547, 0.8537694869343813, 0.4149029783830508, 0.4149029783830508, 0.2074514891915254, 0.5992877493265857, 0.5992877493265857, 0.8579375823423002, 0.853769026876755, 0.5110697506691444, 0.5110697506691444, 0.4449598053214862, 0.4449598053214862, 0.2224799026607431, 0.5320606920994263, 0.5320606920994263, 0.12059859055951992, 0.36179577167855975, 0.06029929527975996, 0.12059859055951992, 0.06029929527975996, 0.12059859055951992, 0.06029929527975996, 0.06029929527975996, 0.06029929527975996, 0.503859888307258, 0.503859888307258, 0.798500348149054, 0.8263315986401647, 0.7912538952474923, 0.5378585348853158, 0.5378585348853158, 0.9724512654723981, 0.8537734396205992, 0.30519173103851066, 0.15259586551925533, 0.07629793275962767, 0.15259586551925533, 0.07629793275962767, 0.07629793275962767, 0.07629793275962767, 0.15259586551925533, 0.07629793275962767, 0.7912486655663963, 0.7985083034196577, 0.5149804887713808, 0.5149804887713808, 0.8579383479285742, 0.853769728328647, 0.958628879026419, 0.9586198879530058, 0.8851783420166214, 0.8929922960040443, 0.8952986207402363, 0.9586300990592426, 0.7304741370527238, 0.8537605985143962, 0.7985001342910688, 0.8263309940341598, 0.8388581331508412, 0.7984969103365568, 0.798500707474466, 0.8263319539708197, 0.8537683750504246, 0.9653730791183316, 0.8263320159420057, 0.8579376869584744, 0.8851764778518336, 0.5474484586684535, 0.5474484586684535, 0.5666086244000155, 0.18886954146667181, 0.18886954146667181, 0.18886954146667181, 0.5847280260355844, 0.5847280260355844, 0.9587038930145179, 0.8851761999353255, 0.8579389728919125, 0.49701202588209903, 0.49701202588209903, 0.853767495046812, 0.8388604600851721, 0.18117404221065758, 0.5435221266319727, 0.18117404221065758, 0.18117404221065758, 0.5110818195496335, 0.5110818195496335, 0.26709445349564054, 0.26709445349564054, 0.06677361337391013, 0.06677361337391013, 0.06677361337391013, 0.06677361337391013, 0.06677361337391013, 0.06677361337391013, 0.06677361337391013, 0.06677361337391013, 0.6918465106256688, 0.23061550354188962, 0.23061550354188962, 0.680339412902863, 0.3401697064514315, 0.5149768139656101, 0.5149768139656101, 0.798502279219258, 0.6845507575026807, 0.34227537875134034, 0.8263308039467986, 0.7912531282621, 0.791247497679307, 0.5592821795109951, 0.5592821795109951, 0.7984990803889835, 0.8851769538322524, 0.8388603041150358, 0.5149944760340742, 0.5149944760340742, 0.7912517040364626, 0.8851766108609859, 0.3402831323391165, 0.17014156616955825, 0.17014156616955825, 0.17014156616955825, 0.17014156616955825, 0.17014156616955825, 0.791249672292404, 0.8851757435049371, 0.8851759307136361, 0.4796793527970902, 0.4796793527970902, 0.7304629187015654, 0.352526273881987, 0.1410105095527948, 0.0705052547763974, 0.0705052547763974, 0.1410105095527948, 0.0705052547763974, 0.0705052547763974, 0.0705052547763974, 0.5582244645339762, 0.5582244645339762, 1.0024505869101856, 0.6681457807156381, 0.33407289035781906, 0.9587038930145179, 0.5320559926591821, 0.5320559926591821, 0.9587038930145179, 0.8263312436475315, 0.9682051936710057, 0.8851766667613138, 0.9587038930145179, 0.8263308932719239, 0.4617208535027944, 0.4617208535027944, 0.5956304518909464, 0.2978152259454732, 0.4617150063998982, 0.4617150063998982, 0.878192051971908, 0.838855081163755, 0.5537612113411375, 0.5537612113411375, 0.5801070849579385, 0.5801070849579385, 0.5846975718516161, 0.5846975718516161, 0.8388655682215831, 0.7985045117335414, 0.8537707569959684, 0.584692386721792, 0.584692386721792, 0.7305116304648049, 0.8851758234748501, 0.7985079901791096, 0.8537779867443693, 0.6584932553890894, 0.3292466276945447, 0.7984758645068671, 0.8579330700930127, 0.47493162525026544, 0.47493162525026544, 0.9653730791183316, 0.6707215827550685, 0.3353607913775343, 0.8537687940729443, 0.7984839679214302, 0.5241300182133606, 0.5241300182133606, 0.399541325111986, 0.399541325111986, 0.399541325111986, 0.8388610240819115, 0.48192278894341395, 0.48192278894341395, 0.7304629187015654, 0.7984954609470418, 0.3009792009134731, 0.3009792009134731, 0.3009792009134731, 0.3009792009134731, 0.8579340838099064, 0.7304809572383208, 0.9245743910254729, 0.47235096449003283, 0.47235096449003283, 0.838861594845135, 0.6912882264408212, 0.23042940881360707, 0.23042940881360707, 0.46979655972257495, 0.46979655972257495, 0.7912520267434971, 0.8781947195580228, 0.8953839286348275, 0.9587038930145179, 0.8537705651871803, 0.8781932836259597, 0.8953804220763099, 0.9586288277240889, 0.8388550359522665, 0.8953812743040374, 0.6082686414548135, 0.6082686414548135, 0.7304629187015654, 0.14982244115625523, 0.29964488231251046, 0.14982244115625523, 0.14982244115625523, 0.14982244115625523, 0.14982244115625523, 0.14982244115625523, 0.7912505568336979, 0.9132657481472396, 0.878189289035138, 0.8929929934555692, 0.8929932731757255], \"Term\": [\"\", \"\", \"\\\"\", \"\\\"\", \"%\", \"++\", \"..\", \"1.15\", \"10\", \"128\", \"15\", \"199\", \"199\", \"199\", \"20\", \"21\", \"255\", \"29\", \"30\", \"300\", \"359\", \"399\", \"399\", \"4.0\", \"49\", \"5\", \"5\", \"500\", \"555\", \"555\", \"6\", \"600\", \"600\", \"7\", \"9\", \"::\", \"CTW\", \"CTW\", \"G\", \"G\", \"Menu\", \"Narai\", \"Number\", \"Shabushi\", \"Shabushi\", \"Terminal\", \"VAT\", \"VAT\", \"^^\", \"mall\", \"net\", \"pizza\", \"pizzeria\", \"union\", \"xx\", \"\\u0e01\\u0e01\", \"\\u0e01\\u0e01\", \"\\u0e01\\u0e23\\u0e23\\u0e21\\u0e27\\u0e34\\u0e18\\u0e35\", \"\\u0e01\\u0e25\\u0e22\\u0e38\\u0e17\\u0e18\\u0e4c\", \"\\u0e01\\u0e25\\u0e31\\u0e1a\\u0e21\\u0e32\", \"\\u0e01\\u0e25\\u0e31\\u0e1a\\u0e21\\u0e32\", \"\\u0e01\\u0e25\\u0e32\\u0e22\", \"\\u0e01\\u0e30\\u0e1b\\u0e34\", \"\\u0e01\\u0e30\\u0e1b\\u0e34\", \"\\u0e01\\u0e30\\u0e1b\\u0e34\", \"\\u0e01\\u0e30\\u0e1b\\u0e34\", \"\\u0e01\\u0e31\\u0e49\\u0e19\", \"\\u0e01\\u0e32\", \"\\u0e01\\u0e32\", \"\\u0e01\\u0e32\\u0e23\\u0e07\\u0e14\", \"\\u0e01\\u0e32\\u0e41\\u0e1f\", \"\\u0e01\\u0e33\", \"\\u0e01\\u0e34\\u0e19\\u0e17\\u0e35\\u0e48\", \"\\u0e01\\u0e35\\u0e48\", \"\\u0e01\\u0e38\\u0e49\\u0e07\", \"\\u0e01\\u0e38\\u0e49\\u0e07\", \"\\u0e01\\u0e38\\u0e49\\u0e07\", \"\\u0e01\\u0e38\\u0e49\\u0e07\", \"\\u0e01\\u0e4c\", \"\\u0e02\\u0e19\\u0e21\", \"\\u0e02\\u0e19\\u0e32\\u0e14\", \"\\u0e02\\u0e22\\u0e31\\u0e19\", \"\\u0e02\\u0e22\\u0e31\\u0e19\", \"\\u0e02\\u0e27\\u0e31\\u0e0d\\u0e43\\u0e08\", \"\\u0e02\\u0e2d\\u0e07\\u0e01\\u0e34\\u0e19\", \"\\u0e02\\u0e2d\\u0e07\\u0e04\\u0e32\\u0e27\", \"\\u0e02\\u0e2d\\u0e07\\u0e2a\\u0e14\", \"\\u0e02\\u0e2d\\u0e07\\u0e2b\\u0e27\\u0e32\\u0e19\", \"\\u0e02\\u0e2d\\u0e07\\u0e2b\\u0e27\\u0e32\\u0e19\", \"\\u0e02\\u0e2d\\u0e07\\u0e2b\\u0e27\\u0e32\\u0e19\", \"\\u0e02\\u0e2d\\u0e07\\u0e2b\\u0e27\\u0e32\\u0e19\", \"\\u0e02\\u0e2d\\u0e07\\u0e2b\\u0e27\\u0e32\\u0e19\", \"\\u0e02\\u0e2d\\u0e07\\u0e2b\\u0e27\\u0e32\\u0e19\", \"\\u0e02\\u0e32\", \"\\u0e02\\u0e36\\u0e49\\u0e19\\u0e43\\u0e08\", \"\\u0e02\\u0e49\\u0e19\", \"\\u0e02\\u0e49\\u0e2d\\u0e14\\u0e35\", \"\\u0e02\\u0e49\\u0e32\\u0e07\\u0e19\\u0e2d\\u0e01\", \"\\u0e02\\u0e49\\u0e32\\u0e27\\u0e1b\\u0e31\\u0e49\\u0e19\", \"\\u0e02\\u0e49\\u0e32\\u0e27\\u0e21\\u0e31\\u0e19\\u0e44\\u0e01\\u0e48\", \"\\u0e04\\u0e19\", \"\\u0e04\\u0e19\", \"\\u0e04\\u0e19\", \"\\u0e04\\u0e19\", \"\\u0e04\\u0e19\\u0e25\\u0e30\", \"\\u0e04\\u0e19\\u0e25\\u0e30\", \"\\u0e04\\u0e19\\u0e25\\u0e30\", \"\\u0e04\\u0e23\\u0e35\\u0e21\", \"\\u0e04\\u0e23\\u0e36\\u0e48\\u0e07\", \"\\u0e04\\u0e23\\u0e36\\u0e48\\u0e07\", \"\\u0e04\\u0e27\\u0e32\\u0e21\\u0e15\\u0e49\\u0e2d\\u0e07\\u0e01\\u0e32\\u0e23\", \"\\u0e04\\u0e2d\", \"\\u0e04\\u0e2d\", \"\\u0e04\\u0e2d\", \"\\u0e04\\u0e30\\u0e41\\u0e19\\u0e19\", \"\\u0e04\\u0e32\\u0e21\\u0e35\", \"\\u0e04\\u0e34\\u0e14\\u0e16\\u0e36\\u0e07\", \"\\u0e04\\u0e34\\u0e27\", \"\\u0e04\\u0e34\\u0e27\", \"\\u0e04\\u0e34\\u0e27\", \"\\u0e04\\u0e38\\u0e13\\u0e20\\u0e32\\u0e1e\", \"\\u0e04\\u0e38\\u0e13\\u0e20\\u0e32\\u0e1e\", \"\\u0e04\\u0e38\\u0e13\\u0e20\\u0e32\\u0e1e\", \"\\u0e04\\u0e38\\u0e13\\u0e20\\u0e32\\u0e1e\", \"\\u0e04\\u0e38\\u0e13\\u0e20\\u0e32\\u0e1e\", \"\\u0e04\\u0e38\\u0e13\\u0e20\\u0e32\\u0e1e\\u0e14\\u0e35\", \"\\u0e04\\u0e38\\u0e49\\u0e21\", \"\\u0e04\\u0e38\\u0e49\\u0e21\", \"\\u0e04\\u0e38\\u0e49\\u0e21\", \"\\u0e04\\u0e38\\u0e49\\u0e21\", \"\\u0e04\\u0e38\\u0e49\\u0e21\", \"\\u0e04\\u0e38\\u0e49\\u0e21\", \"\\u0e04\\u0e38\\u0e49\\u0e21\", \"\\u0e04\\u0e38\\u0e49\\u0e21\\u0e04\\u0e48\\u0e32\", \"\\u0e04\\u0e38\\u0e49\\u0e21\\u0e04\\u0e48\\u0e32\", \"\\u0e04\\u0e38\\u0e49\\u0e21\\u0e04\\u0e48\\u0e32\", \"\\u0e04\\u0e38\\u0e49\\u0e21\\u0e04\\u0e48\\u0e32\", \"\\u0e04\\u0e48\\u0e32\", \"\\u0e04\\u0e48\\u0e32\\u0e19\\u0e49\\u0e33\", \"\\u0e07\\u0e32\\u0e19\", \"\\u0e07\\u0e32\\u0e19\", \"\\u0e08\\u0e1a\", \"\\u0e08\\u0e2d\\u0e07\", \"\\u0e08\\u0e32\\u0e19\", \"\\u0e08\\u0e32\\u0e19\", \"\\u0e08\\u0e32\\u0e19\", \"\\u0e08\\u0e33\\u0e01\\u0e31\\u0e14\", \"\\u0e08\\u0e33\\u0e44\\u0e14\\u0e49\", \"\\u0e08\\u0e34\\u0e49\\u0e21\", \"\\u0e08\\u0e38\\u0e01\", \"\\u0e08\\u0e48\\u0e32\\u0e22\", \"\\u0e08\\u0e48\\u0e32\\u0e22\", \"\\u0e08\\u0e48\\u0e32\\u0e22\", \"\\u0e0a\\u0e21.\", \"\\u0e0a\\u0e21.\", \"\\u0e0a\\u0e21.\", \"\\u0e0a\\u0e2d\\u0e1a\", \"\\u0e0a\\u0e2d\\u0e1a\", \"\\u0e0a\\u0e2d\\u0e1a\", \"\\u0e0a\\u0e2d\\u0e1a\", \"\\u0e0a\\u0e2d\\u0e1b\", \"\\u0e0a\\u0e31\\u0e48\\u0e27\\u0e04\\u0e23\\u0e32\\u0e27\", \"\\u0e0a\\u0e31\\u0e48\\u0e27\\u0e42\\u0e21\\u0e07\", \"\\u0e0a\\u0e31\\u0e48\\u0e27\\u0e42\\u0e21\\u0e07\", \"\\u0e0a\\u0e31\\u0e49\\u0e19\", \"\\u0e0a\\u0e31\\u0e49\\u0e19\", \"\\u0e0a\\u0e32\\u0e15\", \"\\u0e0a\\u0e32\\u0e40\\u0e02\\u0e35\\u0e22\\u0e27\", \"\\u0e0a\\u0e32\\u0e40\\u0e02\\u0e35\\u0e22\\u0e27\", \"\\u0e0a\\u0e34\", \"\\u0e0a\\u0e34\", \"\\u0e0a\\u0e34\", \"\\u0e0a\\u0e34\", \"\\u0e0a\\u0e34\", \"\\u0e0a\\u0e34\", \"\\u0e0a\\u0e34\", \"\\u0e0a\\u0e34\\u0e49\\u0e19\", \"\\u0e0a\\u0e37\\u0e48\\u0e19\", \"\\u0e0a\\u0e37\\u0e48\\u0e19\\u0e43\\u0e08\", \"\\u0e0a\\u0e37\\u0e48\\u0e2d\", \"\\u0e0a\\u0e38\\u0e14\", \"\\u0e0a\\u0e38\\u0e14\", \"\\u0e0a\\u0e39\", \"\\u0e0a\\u0e39\", \"\\u0e0a\\u0e48\\u0e2d\\u0e07\", \"\\u0e0b\\u0e30\\u0e07\\u0e31\\u0e49\\u0e19\", \"\\u0e0b\\u0e35\", \"\\u0e0b\\u0e36\", \"\\u0e0b\\u0e36\", \"\\u0e0b\\u0e36\\u0e1b\", \"\\u0e0b\\u0e38\\u0e1b\", \"\\u0e0b\\u0e38\\u0e1b\", \"\\u0e0b\\u0e38\\u0e1b\", \"\\u0e0b\\u0e38\\u0e1b\", \"\\u0e0b\\u0e38\\u0e1b\", \"\\u0e0b\\u0e38\\u0e1b\", \"\\u0e0b\\u0e38\\u0e1b\", \"\\u0e0b\\u0e38\\u0e49\\u0e21\", \"\\u0e0b\\u0e39\\u0e0a\\u0e34\", \"\\u0e0b\\u0e39\\u0e0a\\u0e34\", \"\\u0e0b\\u0e39\\u0e0a\\u0e34\", \"\\u0e0b\\u0e39\\u0e0a\\u0e34\", \"\\u0e0b\\u0e39\\u0e0a\\u0e34\", \"\\u0e0b\\u0e48\\u0e32\", \"\\u0e0d\\u0e35\\u0e48\", \"\\u0e0d\\u0e35\\u0e48\\u0e1b\\u0e38\\u0e48\\u0e19\", \"\\u0e0d\\u0e35\\u0e48\\u0e1b\\u0e38\\u0e48\\u0e19\", \"\\u0e0d\\u0e35\\u0e48\\u0e1b\\u0e38\\u0e48\\u0e19\", \"\\u0e10\\u0e32\\u0e19\", \"\\u0e13\\u0e4c\", \"\\u0e14\\u0e31\\u0e07\\u0e40\\u0e14\\u0e34\\u0e21\", \"\\u0e14\\u0e33\", \"\\u0e14\\u0e33\", \"\\u0e14\\u0e33\", \"\\u0e14\\u0e33\", \"\\u0e14\\u0e35\", \"\\u0e14\\u0e35\", \"\\u0e14\\u0e35\", \"\\u0e14\\u0e35\", \"\\u0e14\\u0e35\", \"\\u0e14\\u0e35\", \"\\u0e14\\u0e35\", \"\\u0e14\\u0e35\", \"\\u0e14\\u0e35\", \"\\u0e14\\u0e35\", \"\\u0e14\\u0e35\\u0e02\\u0e36\\u0e49\\u0e19\", \"\\u0e14\\u0e35\\u0e21\\u0e32\\u0e01\", \"\\u0e14\\u0e35\\u0e21\\u0e32\\u0e01\", \"\\u0e14\\u0e35\\u0e21\\u0e32\\u0e01\", \"\\u0e14\\u0e35\\u0e21\\u0e32\\u0e01\", \"\\u0e14\\u0e36\\u0e01\", \"\\u0e14\\u0e39\", \"\\u0e14\\u0e39\", \"\\u0e14\\u0e39\", \"\\u0e14\\u0e39\", \"\\u0e14\\u0e49\\u0e32\\u0e19\\u0e43\\u0e19\", \"\\u0e15\\u0e15\\u0e35\\u0e49\", \"\\u0e15\\u0e1a\\u0e17\\u0e49\\u0e32\\u0e22\", \"\\u0e15\\u0e1a\\u0e17\\u0e49\\u0e32\\u0e22\", \"\\u0e15\\u0e23\\u0e07\\u0e02\\u0e49\\u0e32\\u0e21\", \"\\u0e15\\u0e23\\u0e07\\u0e19\\u0e31\\u0e49\\u0e19\", \"\\u0e15\\u0e23\\u0e07\\u0e19\\u0e35\\u0e49\", \"\\u0e15\\u0e2d\\u0e19\", \"\\u0e15\\u0e2d\\u0e19\", \"\\u0e15\\u0e2d\\u0e19\", \"\\u0e15\\u0e2d\\u0e19\\u0e17\\u0e35\\u0e48\", \"\\u0e15\\u0e2d\\u0e19\\u0e19\\u0e35\\u0e49\", \"\\u0e15\\u0e2d\\u0e19\\u0e19\\u0e35\\u0e49\", \"\\u0e15\\u0e31\\u0e01\", \"\\u0e15\\u0e31\\u0e01\", \"\\u0e15\\u0e31\\u0e01\", \"\\u0e15\\u0e31\\u0e14\\u0e01\\u0e33\\u0e25\\u0e31\\u0e07\", \"\\u0e15\\u0e31\\u0e14\\u0e2a\\u0e34\\u0e19\\u0e43\\u0e08\", \"\\u0e15\\u0e31\\u0e27\", \"\\u0e15\\u0e31\\u0e27\", \"\\u0e15\\u0e31\\u0e49\\u0e07\\u0e2d\\u0e22\\u0e39\\u0e48\", \"\\u0e15\\u0e31\\u0e49\\u0e07\\u0e2d\\u0e22\\u0e39\\u0e48\", \"\\u0e15\\u0e33\", \"\\u0e15\\u0e34\\u0e14\\u0e01\\u0e31\\u0e1a\", \"\\u0e15\\u0e39\\u0e49\", \"\\u0e15\\u0e48\\u0e32\\u0e07 \\u0e46\", \"\\u0e15\\u0e49\\u0e21\", \"\\u0e15\\u0e49\\u0e21\\u0e22\\u0e33\", \"\\u0e15\\u0e49\\u0e21\\u0e22\\u0e33\", \"\\u0e15\\u0e49\\u0e2d\\u0e07\\u0e01\\u0e32\\u0e23\", \"\\u0e16\\u0e32\\u0e14\", \"\\u0e16\\u0e32\\u0e21\", \"\\u0e16\\u0e39\\u0e01\\u0e2b\\u0e27\\u0e22\", \"\\u0e16\\u0e49\\u0e27\\u0e22\", \"\\u0e17\\u0e14\\u0e41\\u0e17\\u0e19\", \"\\u0e17\\u0e2d\\u0e14\", \"\\u0e17\\u0e2d\\u0e14\", \"\\u0e17\\u0e2d\\u0e14\", \"\\u0e17\\u0e2d\\u0e19\", \"\\u0e17\\u0e30\\u0e22\\u0e2d\\u0e22\", \"\\u0e17\\u0e31\\u0e48\\u0e27\\u0e16\\u0e36\\u0e07\", \"\\u0e17\\u0e31\\u0e48\\u0e27\\u0e44\\u0e1b\", \"\\u0e17\\u0e32\\u0e19\\u0e2d\\u0e32\\u0e2b\\u0e32\\u0e23\", \"\\u0e17\\u0e33\\u0e07\\u0e32\\u0e19\", \"\\u0e17\\u0e35\\u0e48\\u0e08\\u0e30\", \"\\u0e17\\u0e35\\u0e48\\u0e17\\u0e32\\u0e07\", \"\\u0e17\\u0e35\\u0e48\\u0e19\\u0e31\\u0e48\\u0e07\", \"\\u0e17\\u0e35\\u0e48\\u0e19\\u0e31\\u0e48\\u0e07\", \"\\u0e17\\u0e35\\u0e48\\u0e44\\u0e2b\\u0e19\\u0e44\\u0e14\\u0e49\", \"\\u0e17\\u0e48\\u0e32\\u0e19\", \"\\u0e17\\u0e48\\u0e32\\u0e19\", \"\\u0e18\\u0e23\\u0e23\\u0e21\\u0e14\\u0e32\", \"\\u0e18\\u0e23\\u0e23\\u0e21\\u0e14\\u0e32\", \"\\u0e18\\u0e23\\u0e23\\u0e21\\u0e14\\u0e32\", \"\\u0e19\", \"\\u0e19\", \"\\u0e19\\u0e1e\", \"\\u0e19\\u0e21\", \"\\u0e19\\u0e30\\u0e04\\u0e30\", \"\\u0e19\\u0e30\\u0e04\\u0e30\", \"\\u0e19\\u0e31\\u0e25\", \"\\u0e19\\u0e31\\u0e48\\u0e07\", \"\\u0e19\\u0e31\\u0e48\\u0e07\", \"\\u0e19\\u0e32\", \"\\u0e19\\u0e32\", \"\\u0e19\\u0e32\\u0e17\\u0e35\", \"\\u0e19\\u0e32\\u0e17\\u0e35\", \"\\u0e19\\u0e34\\u0e14\\u0e19\\u0e36\\u0e07\", \"\\u0e19\\u0e34\\u0e14\\u0e19\\u0e36\\u0e07\", \"\\u0e19\\u0e34\\u0e27\", \"\\u0e19\\u0e36\\u0e01\", \"\\u0e19\\u0e36\\u0e01\", \"\\u0e19\\u0e36\\u0e01\\u0e16\\u0e36\\u0e07\", \"\\u0e19\\u0e36\\u0e01\\u0e16\\u0e36\\u0e07\", \"\\u0e19\\u0e36\\u0e07\", \"\\u0e19\\u0e38\\u0e48\\u0e21\", \"\\u0e19\\u0e38\\u0e48\\u0e21\", \"\\u0e19\\u0e38\\u0e48\\u0e21\", \"\\u0e19\\u0e48\\u0e32\\u0e23\\u0e31\\u0e01\", \"\\u0e19\\u0e48\\u0e32\\u0e23\\u0e31\\u0e01\", \"\\u0e19\\u0e49\\u0e30\", \"\\u0e19\\u0e49\\u0e33\\u0e08\\u0e34\\u0e49\\u0e21\", \"\\u0e19\\u0e49\\u0e33\\u0e08\\u0e34\\u0e49\\u0e21\", \"\\u0e19\\u0e49\\u0e33\\u0e08\\u0e34\\u0e49\\u0e21\", \"\\u0e19\\u0e49\\u0e33\\u0e08\\u0e34\\u0e49\\u0e21\", \"\\u0e19\\u0e49\\u0e33\\u0e08\\u0e34\\u0e49\\u0e21\", \"\\u0e19\\u0e49\\u0e33\\u0e14\\u0e37\\u0e48\\u0e21\", \"\\u0e19\\u0e4d\\u0e49\\u0e32\", \"\\u0e1a\", \"\\u0e1a\\u0e23\\u0e32\", \"\\u0e1a\\u0e23\\u0e34\\u0e01\\u0e32\\u0e23\", \"\\u0e1a\\u0e23\\u0e34\\u0e01\\u0e32\\u0e23\", \"\\u0e1a\\u0e23\\u0e34\\u0e01\\u0e32\\u0e23\", \"\\u0e1a\\u0e23\\u0e34\\u0e01\\u0e32\\u0e23\", \"\\u0e1a\\u0e23\\u0e34\\u0e01\\u0e32\\u0e23\", \"\\u0e1a\\u0e23\\u0e34\\u0e40\\u0e27\\u0e13\", \"\\u0e1a\\u0e31\\u0e15\\u0e23\\u0e2a\\u0e21\\u0e32\\u0e0a\\u0e34\\u0e01\", \"\\u0e1a\\u0e31\\u0e15\\u0e23\\u0e40\\u0e04\\u0e23\\u0e14\\u0e34\\u0e15\", \"\\u0e1a\\u0e32\\u0e07\\u0e2a\\u0e48\\u0e27\\u0e19\", \"\\u0e1a\\u0e32\\u0e17\", \"\\u0e1a\\u0e32\\u0e17\", \"\\u0e1a\\u0e32\\u0e17\", \"\\u0e1a\\u0e32\\u0e17\", \"\\u0e1a\\u0e32\\u0e17\", \"\\u0e1a\\u0e32\\u0e17\", \"\\u0e1a\\u0e32\\u0e17\", \"\\u0e1a\\u0e32\\u0e17\", \"\\u0e1a\\u0e32\\u0e17\", \"\\u0e1a\\u0e32\\u0e17\", \"\\u0e1a\\u0e38\\u0e1e\", \"\\u0e1a\\u0e38\\u0e1f\\u0e40\\u0e1f\\u0e15\\u0e4c\", \"\\u0e1a\\u0e38\\u0e1f\\u0e40\\u0e1f\\u0e48\\u0e15\\u0e4c\", \"\\u0e1a\\u0e38\\u0e1f\\u0e40\\u0e1f\\u0e48\\u0e15\\u0e4c\", \"\\u0e1a\\u0e38\\u0e1f\\u0e40\\u0e1f\\u0e48\\u0e15\\u0e4c\", \"\\u0e1a\\u0e38\\u0e1f\\u0e40\\u0e1f\\u0e48\\u0e15\\u0e4c\", \"\\u0e1a\\u0e39\", \"\\u0e1a\\u0e39\", \"\\u0e1a\\u0e4a\\u0e27\\u0e22\", \"\\u0e1a\\u0e4b\\u0e27\\u0e22\", \"\\u0e1b\", \"\\u0e1b\\u0e23\\u0e01\\u0e15\\u0e34\", \"\\u0e1b\\u0e23\\u0e30\", \"\\u0e1b\\u0e23\\u0e30\\u0e15\\u0e39\", \"\\u0e1b\\u0e23\\u0e30\\u0e15\\u0e39\", \"\\u0e1b\\u0e23\\u0e30\\u0e17\\u0e31\\u0e1a\\u0e43\\u0e08\", \"\\u0e1b\\u0e23\\u0e31\\u0e1a\\u0e1b\\u0e23\\u0e38\\u0e07\", \"\\u0e1b\\u0e23\\u0e38\\u0e07\", \"\\u0e1b\\u0e25\\u0e32\", \"\\u0e1b\\u0e2d\\u0e01\\u0e40\\u0e1b\\u0e25\\u0e37\\u0e2d\\u0e01\", \"\\u0e1b\\u0e34\\u0e14\\u0e17\\u0e49\\u0e32\\u0e22\", \"\\u0e1b\\u0e38\", \"\\u0e1b\\u0e38\\u0e23\\u0e30\", \"\\u0e1b\\u0e38\\u0e23\\u0e30\", \"\\u0e1b\\u0e38\\u0e23\\u0e30\", \"\\u0e1b\\u0e38\\u0e23\\u0e30\", \"\\u0e1b\\u0e39\\u0e2d\\u0e31\\u0e14\", \"\\u0e1c\\u0e31\\u0e01\", \"\\u0e1c\\u0e31\\u0e01\", \"\\u0e1c\\u0e31\\u0e01\", \"\\u0e1c\\u0e31\\u0e01\", \"\\u0e1c\\u0e31\\u0e01\", \"\\u0e1c\\u0e31\\u0e01\", \"\\u0e1c\\u0e34\\u0e14\\u0e2b\\u0e27\\u0e31\\u0e07\", \"\\u0e1c\\u0e34\\u0e14\\u0e2b\\u0e27\\u0e31\\u0e07\", \"\\u0e1e\\u0e19\\u0e31\\u0e01\\u0e07\\u0e32\\u0e19\", \"\\u0e1e\\u0e19\\u0e31\\u0e01\\u0e07\\u0e32\\u0e19\", \"\\u0e1e\\u0e19\\u0e31\\u0e01\\u0e07\\u0e32\\u0e19\", \"\\u0e1e\\u0e19\\u0e31\\u0e01\\u0e07\\u0e32\\u0e19\", \"\\u0e1e\\u0e19\\u0e31\\u0e01\\u0e07\\u0e32\\u0e19\", \"\\u0e1e\\u0e19\\u0e31\\u0e01\\u0e07\\u0e32\\u0e19\", \"\\u0e1e\\u0e19\\u0e31\\u0e01\\u0e07\\u0e32\\u0e19\\u0e1a\\u0e23\\u0e34\\u0e01\\u0e32\\u0e23\", \"\\u0e1e\\u0e23\\u0e30\\u0e23\\u0e32\\u0e21\", \"\\u0e1e\\u0e23\\u0e35\\u0e40\\u0e21\\u0e35\\u0e22\\u0e21\", \"\\u0e1e\\u0e25\\u0e32\\u0e14\", \"\\u0e1e\\u0e2d\\u0e01\\u0e31\\u0e1a\", \"\\u0e1e\\u0e2d\\u0e19\", \"\\u0e1e\\u0e2d\\u0e19\", \"\\u0e1e\\u0e2d\\u0e44\\u0e14\\u0e49\", \"\\u0e1e\\u0e32\\u0e23\\u0e32\", \"\\u0e1e\\u0e32\\u0e23\\u0e32\\u0e44\\u0e14\\u0e0b\\u0e4c\", \"\\u0e1e\\u0e34\\u0e0b\", \"\\u0e1e\\u0e34\\u0e0b\", \"\\u0e1e\\u0e34\\u0e0b\\u0e0b\\u0e48\\u0e32\", \"\\u0e1e\\u0e34\\u0e0b\\u0e0b\\u0e48\\u0e32\", \"\\u0e1e\\u0e34\\u0e0b\\u0e0b\\u0e48\\u0e32\", \"\\u0e1e\\u0e34\\u0e0b\\u0e0b\\u0e48\\u0e32\", \"\\u0e1e\\u0e35\\u0e48\", \"\\u0e1f\\u0e23\\u0e35\", \"\\u0e1f\\u0e35\", \"\\u0e1f\\u0e39\\u0e49\\u0e14\", \"\\u0e1f\\u0e40\\u0e1f\", \"\\u0e20\\u0e32\\u0e1e\", \"\\u0e21\", \"\\u0e21\", \"\\u0e21\", \"\\u0e21\", \"\\u0e21\\u0e21\\u0e32\\u0e01\", \"\\u0e21\\u0e21\\u0e32\\u0e01\", \"\\u0e21\\u0e2d\", \"\\u0e21\\u0e2d\\u0e25\\u0e25\\u0e4c\", \"\\u0e21\\u0e2d\\u0e25\\u0e25\\u0e4c\", \"\\u0e21\\u0e2d\\u0e25\\u0e25\\u0e4c\", \"\\u0e21\\u0e31\\u0e19\\u0e14\\u0e35\", \"\\u0e21\\u0e32\\u0e01\\u0e02\\u0e36\\u0e49\\u0e19\", \"\\u0e21\\u0e32\\u0e15\\u0e23\\u0e32\", \"\\u0e21\\u0e35\\u0e42\\u0e2d\", \"\\u0e21\\u0e35\\u0e48\", \"\\u0e21\\u0e38\", \"\\u0e22\", \"\\u0e22\\u0e2d\\u0e14\", \"\\u0e22\\u0e31\\u0e07\\u0e21\\u0e35\", \"\\u0e22\\u0e31\\u0e07\\u0e21\\u0e35\", \"\\u0e22\\u0e37\\u0e19\", \"\\u0e22\\u0e38\\u0e04\", \"\\u0e23\\u0e2a\", \"\\u0e23\\u0e2a\", \"\\u0e23\\u0e2a\", \"\\u0e23\\u0e2a\", \"\\u0e23\\u0e2a\\u0e0a\\u0e32\\u0e15\\u0e34\", \"\\u0e23\\u0e2a\\u0e0a\\u0e32\\u0e15\\u0e34\", \"\\u0e23\\u0e2a\\u0e0a\\u0e32\\u0e15\\u0e34\", \"\\u0e23\\u0e2a\\u0e0a\\u0e32\\u0e15\\u0e34\", \"\\u0e23\\u0e2a\\u0e0a\\u0e32\\u0e15\\u0e34\", \"\\u0e23\\u0e2d\", \"\\u0e23\\u0e2d\", \"\\u0e23\\u0e2d\", \"\\u0e23\\u0e2d\\u0e1a\", \"\\u0e23\\u0e2d\\u0e1a\", \"\\u0e23\\u0e30\\u0e1a\\u0e1a\", \"\\u0e23\\u0e31\\u0e1a\\u0e1b\\u0e23\\u0e30\\u0e01\\u0e31\\u0e19\", \"\\u0e23\\u0e32\", \"\\u0e23\\u0e32\\u0e04\\u0e32\", \"\\u0e23\\u0e32\\u0e04\\u0e32\", \"\\u0e23\\u0e32\\u0e04\\u0e32\", \"\\u0e23\\u0e32\\u0e04\\u0e32\", \"\\u0e23\\u0e32\\u0e04\\u0e32\", \"\\u0e23\\u0e32\\u0e04\\u0e32\", \"\\u0e23\\u0e32\\u0e04\\u0e32\", \"\\u0e23\\u0e32\\u0e04\\u0e32\", \"\\u0e23\\u0e32\\u0e04\\u0e32\", \"\\u0e23\\u0e32\\u0e04\\u0e32\", \"\\u0e23\\u0e32\\u0e04\\u0e32\", \"\\u0e23\\u0e32\\u0e04\\u0e32\", \"\\u0e23\\u0e32\\u0e22\\u0e25\\u0e30\\u0e40\\u0e2d\\u0e35\\u0e22\\u0e14\", \"\\u0e23\\u0e32\\u0e22\\u0e25\\u0e30\\u0e40\\u0e2d\\u0e35\\u0e22\\u0e14\", \"\\u0e23\\u0e35\", \"\\u0e23\\u0e35\\u0e27\\u0e34\\u0e27\", \"\\u0e23\\u0e39\\u0e49\\u0e08\\u0e31\\u0e01\", \"\\u0e23\\u0e39\\u0e49\\u0e2a\\u0e36\\u0e01\", \"\\u0e23\\u0e39\\u0e49\\u0e2a\\u0e36\\u0e01\", \"\\u0e23\\u0e39\\u0e49\\u0e2a\\u0e36\\u0e01\", \"\\u0e23\\u0e49\\u0e2d\\u0e19\", \"\\u0e23\\u0e49\\u0e2d\\u0e22\", \"\\u0e23\\u0e49\\u0e32\\u0e19\\u0e2d\\u0e32\\u0e2b\\u0e32\\u0e23\", \"\\u0e25\", \"\\u0e25\", \"\\u0e25\\u0e14\", \"\\u0e25\\u0e14\", \"\\u0e25\\u0e2d\\u0e07\", \"\\u0e25\\u0e2d\\u0e07\", \"\\u0e25\\u0e2d\\u0e07\", \"\\u0e25\\u0e2d\\u0e07\", \"\\u0e25\\u0e2d\\u0e07\", \"\\u0e25\\u0e2d\\u0e15\\u0e40\\u0e15\\u0e2d\\u0e23\\u0e35\\u0e48\", \"\\u0e25\\u0e30\\u0e25\\u0e32\\u0e19\\u0e15\\u0e32\", \"\\u0e25\\u0e32\", \"\\u0e25\\u0e32\\u0e19\", \"\\u0e25\\u0e32\\u0e22\\u0e15\\u0e32\", \"\\u0e25\\u0e35\", \"\\u0e25\\u0e37\\u0e21\", \"\\u0e25\\u0e37\\u0e21\", \"\\u0e25\\u0e39\\u0e01\\u0e0a\\u0e34\\u0e49\\u0e19\", \"\\u0e25\\u0e39\\u0e01\\u0e0a\\u0e34\\u0e49\\u0e19\", \"\\u0e27\\u0e01\", \"\\u0e27\\u0e32\\u0e07\", \"\\u0e27\\u0e32\\u0e07\", \"\\u0e27\\u0e32\\u0e19\\u0e34\\u0e25\\u0e32\", \"\\u0e27\\u0e34\\u0e1b\", \"\\u0e2a\", \"\\u0e2a\\u0e14\", \"\\u0e2a\\u0e14\", \"\\u0e2a\\u0e14\", \"\\u0e2a\\u0e14\", \"\\u0e2a\\u0e14\\u0e46 \\u0e23\\u0e49\\u0e2d\\u0e19\\u0e46\", \"\\u0e2a\\u0e1a\\u0e32\\u0e22\\u0e14\\u0e35\", \"\\u0e2a\\u0e1b\\u0e32\", \"\\u0e2a\\u0e21\\u0e23\\u0e32\\u0e04\\u0e32\", \"\\u0e2a\\u0e21\\u0e32\\u0e17\\u0e32\\u0e19\", \"\\u0e2a\\u0e21\\u0e43\\u0e08\", \"\\u0e2a\\u0e23\\u0e38\\u0e1b\", \"\\u0e2a\\u0e23\\u0e38\\u0e1b\", \"\\u0e2a\\u0e25\\u0e31\\u0e14\", \"\\u0e2a\\u0e27\\u0e22\", \"\\u0e2a\\u0e27\\u0e31\\u0e2a\\u0e14\\u0e35\", \"\\u0e2a\\u0e30\\u0e2d\\u0e32\\u0e14\\u0e2a\\u0e30\\u0e2d\\u0e49\\u0e32\\u0e19\", \"\\u0e2a\\u0e31\\u0e19\", \"\\u0e2a\\u0e31\\u0e19\", \"\\u0e2a\\u0e31\\u0e1b\\u0e14\\u0e32\\u0e2b\\u0e4c\", \"\\u0e2a\\u0e31\\u0e48\\u0e07\", \"\\u0e2a\\u0e31\\u0e48\\u0e07\", \"\\u0e2a\\u0e31\\u0e48\\u0e07\", \"\\u0e2a\\u0e31\\u0e48\\u0e07\", \"\\u0e2a\\u0e31\\u0e48\\u0e07\", \"\\u0e2a\\u0e31\\u0e48\\u0e07\", \"\\u0e2a\\u0e32\\u0e02\\u0e32\", \"\\u0e2a\\u0e32\\u0e02\\u0e32\", \"\\u0e2a\\u0e32\\u0e02\\u0e32\", \"\\u0e2a\\u0e32\\u0e02\\u0e32\", \"\\u0e2a\\u0e32\\u0e02\\u0e32\", \"\\u0e2a\\u0e32\\u0e02\\u0e32\", \"\\u0e2a\\u0e32\\u0e21\", \"\\u0e2a\\u0e32\\u0e22\", \"\\u0e2a\\u0e32\\u0e22\\u0e1e\\u0e32\\u0e19\", \"\\u0e2a\\u0e32\\u0e22\\u0e1e\\u0e32\\u0e19\", \"\\u0e2a\\u0e32\\u0e22\\u0e1e\\u0e32\\u0e19\", \"\\u0e2a\\u0e32\\u0e22\\u0e1e\\u0e32\\u0e19\", \"\\u0e2a\\u0e32\\u0e22\\u0e1e\\u0e32\\u0e19\", \"\\u0e2a\\u0e33\\u0e2b\\u0e23\\u0e31\\u0e1a\", \"\\u0e2a\\u0e38\\u0e01\", \"\\u0e2a\\u0e38\\u0e01\\u0e35\\u0e49\", \"\\u0e2a\\u0e38\\u0e01\\u0e35\\u0e49\\u0e22\\u0e32\\u0e01\\u0e35\\u0e49\", \"\\u0e2a\\u0e38\\u0e14\\u0e17\\u0e49\\u0e32\\u0e22\", \"\\u0e2a\\u0e39\\u0e49\", \"\\u0e2a\\u0e44\\u0e15\\u0e25\\u0e4c\", \"\\u0e2a\\u0e44\\u0e25\\u0e14\\u0e4c\", \"\\u0e2a\\u0e44\\u0e25\\u0e14\\u0e4c\", \"\\u0e2a\\u0e48\\u0e27\\u0e19\\u0e15\\u0e31\\u0e27\", \"\\u0e2a\\u0e48\\u0e27\\u0e19\\u0e15\\u0e31\\u0e27\", \"\\u0e2a\\u0e4c\", \"\\u0e2b\\u0e19\\u0e49\\u0e32\", \"\\u0e2b\\u0e19\\u0e49\\u0e32\", \"\\u0e2b\\u0e19\\u0e49\\u0e32\", \"\\u0e2b\\u0e19\\u0e49\\u0e32\", \"\\u0e2b\\u0e21\\u0e39\", \"\\u0e2b\\u0e21\\u0e39\", \"\\u0e2b\\u0e21\\u0e39\", \"\\u0e2b\\u0e21\\u0e39\", \"\\u0e2b\\u0e21\\u0e39\\u0e48\\u0e04\\u0e13\\u0e30\", \"\\u0e2b\\u0e21\\u0e49\\u0e2d\", \"\\u0e2b\\u0e21\\u0e49\\u0e2d\", \"\\u0e2b\\u0e21\\u0e49\\u0e2d\", \"\\u0e2b\\u0e22\\u0e34\\u0e1a\", \"\\u0e2b\\u0e22\\u0e34\\u0e1a\", \"\\u0e2b\\u0e22\\u0e34\\u0e1a\", \"\\u0e2b\\u0e22\\u0e34\\u0e1a\", \"\\u0e2b\\u0e22\\u0e34\\u0e1a\", \"\\u0e2b\\u0e25\\u0e31\\u0e07\\u0e08\\u0e32\\u0e01\\u0e17\\u0e35\\u0e48\", \"\\u0e2b\\u0e25\\u0e32\\u0e01\", \"\\u0e2b\\u0e25\\u0e32\\u0e01\", \"\\u0e2b\\u0e25\\u0e32\\u0e01\\u0e2b\\u0e25\\u0e32\\u0e22\", \"\\u0e2b\\u0e25\\u0e32\\u0e01\\u0e2b\\u0e25\\u0e32\\u0e22\", \"\\u0e2b\\u0e25\\u0e32\\u0e01\\u0e2b\\u0e25\\u0e32\\u0e22\", \"\\u0e2b\\u0e25\\u0e32\\u0e22\\u0e04\\u0e23\\u0e31\\u0e49\\u0e07\", \"\\u0e2b\\u0e25\\u0e32\\u0e22\\u0e0a\\u0e19\\u0e34\\u0e14\", \"\\u0e2b\\u0e25\\u0e48\\u0e30\", \"\\u0e2b\\u0e27\\u0e22\", \"\\u0e2b\\u0e27\\u0e32\\u0e19\", \"\\u0e2b\\u0e27\\u0e32\\u0e19\", \"\\u0e2b\\u0e27\\u0e32\\u0e19\", \"\\u0e2b\\u0e2d\", \"\\u0e2b\\u0e2d\", \"\\u0e2b\\u0e2d\\u0e21\", \"\\u0e2b\\u0e31\\u0e27\", \"\\u0e2b\\u0e34\\u0e27\", \"\\u0e2b\\u0e34\\u0e27\", \"\\u0e2b\\u0e49\\u0e32\\u0e07\", \"\\u0e2b\\u0e49\\u0e32\\u0e07\", \"\\u0e2b\\u0e49\\u0e32\\u0e07\", \"\\u0e2d\\u0e22\\u0e39\\u0e48\\u0e41\\u0e25\\u0e49\\u0e27\", \"\\u0e2d\\u0e22\\u0e39\\u0e48\\u0e41\\u0e25\\u0e49\\u0e27\", \"\\u0e2d\\u0e23\\u0e48\\u0e2d\\u0e22\", \"\\u0e2d\\u0e23\\u0e48\\u0e2d\\u0e22\", \"\\u0e2d\\u0e23\\u0e48\\u0e2d\\u0e22\", \"\\u0e2d\\u0e23\\u0e48\\u0e2d\\u0e22\", \"\\u0e2d\\u0e23\\u0e48\\u0e2d\\u0e22\", \"\\u0e2d\\u0e23\\u0e48\\u0e2d\\u0e22\", \"\\u0e2d\\u0e23\\u0e48\\u0e2d\\u0e22\", \"\\u0e2d\\u0e23\\u0e48\\u0e2d\\u0e22\", \"\\u0e2d\\u0e23\\u0e48\\u0e2d\\u0e22\", \"\\u0e2d\\u0e2d\", \"\\u0e2d\\u0e2d\", \"\\u0e2d\\u0e2d\\u0e01\\u0e23\\u0e49\\u0e32\\u0e19\", \"\\u0e2d\\u0e2d\\u0e23\\u0e4c\\u0e40\\u0e14\\u0e2d\\u0e23\\u0e4c\", \"\\u0e2d\\u0e2d\\u0e2a\\u0e40\\u0e15\\u0e23\\u0e40\\u0e25\\u0e35\\u0e22\", \"\\u0e2d\\u0e31\\u0e19\\u0e19\\u0e35\\u0e49\", \"\\u0e2d\\u0e31\\u0e19\\u0e19\\u0e35\\u0e49\", \"\\u0e2d\\u0e31\\u0e1e\\u0e40\\u0e14\\u0e17\", \"\\u0e2d\\u0e32\\u0e23\\u0e32\\u0e21\", \"\\u0e2d\\u0e32\\u0e2b\\u0e32\\u0e23\", \"\\u0e2d\\u0e32\\u0e2b\\u0e32\\u0e23\", \"\\u0e2d\\u0e32\\u0e2b\\u0e32\\u0e23\", \"\\u0e2d\\u0e32\\u0e2b\\u0e32\\u0e23\", \"\\u0e2d\\u0e32\\u0e2b\\u0e32\\u0e23\", \"\\u0e2d\\u0e32\\u0e2b\\u0e32\\u0e23\", \"\\u0e2d\\u0e32\\u0e2b\\u0e32\\u0e23\", \"\\u0e2d\\u0e32\\u0e2b\\u0e32\\u0e23\", \"\\u0e2d\\u0e32\\u0e2b\\u0e32\\u0e23\", \"\\u0e2d\\u0e32\\u0e2b\\u0e32\\u0e23\\u0e40\\u0e2a\\u0e23\\u0e34\\u0e21\", \"\\u0e2d\\u0e34\\u0e2d\\u0e34\", \"\\u0e2d\\u0e34\\u0e48\\u0e21\", \"\\u0e2d\\u0e34\\u0e48\\u0e21\", \"\\u0e2d\\u0e35\\u0e01\\u0e04\\u0e23\\u0e31\\u0e49\\u0e07\", \"\\u0e2e\\u0e31\\u0e19\", \"\\u0e2e\\u0e48\\u0e32\", \"\\u0e32\\u0e19\", \"\\u0e40\", \"\\u0e40\\u0e01\", \"\\u0e40\\u0e01\\u0e34\\u0e19\\u0e44\\u0e1b\", \"\\u0e40\\u0e01\\u0e35\\u0e4a\\u0e22\\u0e27\", \"\\u0e40\\u0e01\\u0e49\", \"\\u0e40\\u0e02\\u0e49\\u0e32\\u0e2b\\u0e19\\u0e49\\u0e32\", \"\\u0e40\\u0e04\\u0e23\\u0e37\\u0e2d\", \"\\u0e40\\u0e04\\u0e23\\u0e37\\u0e48\\u0e2d\\u0e07\\u0e14\\u0e37\\u0e48\\u0e21\", \"\\u0e40\\u0e04\\u0e25\\u0e21\", \"\\u0e40\\u0e04\\u0e25\\u0e37\\u0e48\\u0e2d\\u0e19\\u0e15\\u0e31\\u0e27\", \"\\u0e40\\u0e04\\u0e32\\u0e19\\u0e4c\\u0e40\\u0e15\\u0e2d\\u0e23\\u0e4c\", \"\\u0e40\\u0e04\\u0e49\\u0e32\", \"\\u0e40\\u0e07\\u0e34\\u0e19\", \"\\u0e40\\u0e07\\u0e34\\u0e19\\u0e2a\\u0e14\", \"\\u0e40\\u0e08\\u0e2d\", \"\\u0e40\\u0e0a\\u0e47\\u0e04\\u0e1a\\u0e34\\u0e25\", \"\\u0e40\\u0e0b\\u0e15\", \"\\u0e40\\u0e0b\\u0e47\\u0e17\", \"\\u0e40\\u0e0b\\u0e47\\u0e17\", \"\\u0e40\\u0e14\\u0e2d\\u0e30\", \"\\u0e40\\u0e14\\u0e2d\\u0e30\", \"\\u0e40\\u0e14\\u0e2d\\u0e30\", \"\\u0e40\\u0e14\\u0e2d\\u0e30\", \"\\u0e40\\u0e14\\u0e34\\u0e19\", \"\\u0e40\\u0e14\\u0e34\\u0e19\", \"\\u0e40\\u0e14\\u0e47\\u0e01\", \"\\u0e40\\u0e14\\u0e47\\u0e14\", \"\\u0e40\\u0e14\\u0e49\\u0e07\", \"\\u0e40\\u0e15\\u0e34\\u0e21\", \"\\u0e40\\u0e15\\u0e34\\u0e21\", \"\\u0e40\\u0e15\\u0e47\\u0e21\", \"\\u0e40\\u0e15\\u0e49\\u0e32\\u0e40\\u0e08\\u0e35\\u0e49\\u0e22\\u0e27\", \"\\u0e40\\u0e17\", \"\\u0e40\\u0e17\", \"\\u0e40\\u0e17\", \"\\u0e40\\u0e17\", \"\\u0e40\\u0e17\\u0e35\\u0e22\\u0e1a\", \"\\u0e40\\u0e17\\u0e35\\u0e22\\u0e1a\", \"\\u0e40\\u0e19\\u0e37\\u0e49\\u0e2d\", \"\\u0e40\\u0e19\\u0e37\\u0e49\\u0e2d\", \"\\u0e40\\u0e19\\u0e37\\u0e49\\u0e2d\", \"\\u0e40\\u0e19\\u0e37\\u0e49\\u0e2d\", \"\\u0e40\\u0e19\\u0e37\\u0e49\\u0e2d\", \"\\u0e40\\u0e19\\u0e37\\u0e49\\u0e2d\", \"\\u0e40\\u0e19\\u0e37\\u0e49\\u0e2d\", \"\\u0e40\\u0e19\\u0e37\\u0e49\\u0e2d\", \"\\u0e40\\u0e19\\u0e37\\u0e49\\u0e2d\", \"\\u0e40\\u0e19\\u0e37\\u0e49\\u0e2d\", \"\\u0e40\\u0e19\\u0e37\\u0e49\\u0e2d\\u0e27\\u0e31\\u0e27\", \"\\u0e40\\u0e19\\u0e37\\u0e49\\u0e2d\\u0e27\\u0e31\\u0e27\", \"\\u0e40\\u0e19\\u0e37\\u0e49\\u0e2d\\u0e27\\u0e31\\u0e27\", \"\\u0e40\\u0e19\\u0e37\\u0e49\\u0e2d\\u0e2b\\u0e21\\u0e39\", \"\\u0e40\\u0e19\\u0e37\\u0e49\\u0e2d\\u0e2b\\u0e21\\u0e39\", \"\\u0e40\\u0e1a\", \"\\u0e40\\u0e1a\", \"\\u0e40\\u0e1a\\u0e32\", \"\\u0e40\\u0e1b\\u0e47\\u0e14\", \"\\u0e40\\u0e1b\\u0e47\\u0e14\", \"\\u0e40\\u0e1b\\u0e47\\u0e19\\u0e01\\u0e31\\u0e19\\u0e40\\u0e2d\\u0e07\", \"\\u0e40\\u0e1b\\u0e47\\u0e19\\u0e1b\\u0e01\\u0e15\\u0e34\", \"\\u0e40\\u0e1b\\u0e47\\u0e19\\u0e21\\u0e32\", \"\\u0e40\\u0e1b\\u0e47\\u0e19\\u0e2b\\u0e25\\u0e31\\u0e01\", \"\\u0e40\\u0e1b\\u0e47\\u0e19\\u0e2b\\u0e25\\u0e31\\u0e01\", \"\\u0e40\\u0e1b\\u0e47\\u0e19\\u0e41\\u0e19\\u0e27\", \"\\u0e40\\u0e1b\\u0e49\\u0e07\", \"\\u0e40\\u0e1c\\u0e47\\u0e14\", \"\\u0e40\\u0e1e\\u0e25\\u0e34\\u0e19\", \"\\u0e40\\u0e1e\\u0e25\\u0e34\\u0e19\", \"\\u0e40\\u0e1f\\u0e23\\u0e19\\u0e44\\u0e0a\\u0e2a\\u0e4c\", \"\\u0e40\\u0e1f\\u0e48\", \"\\u0e40\\u0e21\\u0e19\\u0e39\", \"\\u0e40\\u0e21\\u0e19\\u0e39\", \"\\u0e40\\u0e21\\u0e19\\u0e39\", \"\\u0e40\\u0e21\\u0e19\\u0e39\", \"\\u0e40\\u0e21\\u0e19\\u0e39\", \"\\u0e40\\u0e21\\u0e19\\u0e39\", \"\\u0e40\\u0e22\\u0e47\\u0e19\", \"\\u0e40\\u0e23\\u0e22\", \"\\u0e40\\u0e23\\u0e34\\u0e2a\", \"\\u0e40\\u0e25\\u0e34\\u0e01\", \"\\u0e40\\u0e25\\u0e34\\u0e01\", \"\\u0e40\\u0e25\\u0e35\\u0e48\\u0e22\\u0e19\", \"\\u0e40\\u0e25\\u0e37\\u0e2d\\u0e01\", \"\\u0e40\\u0e25\\u0e37\\u0e2d\\u0e01\", \"\\u0e40\\u0e25\\u0e37\\u0e2d\\u0e01\", \"\\u0e40\\u0e25\\u0e37\\u0e2d\\u0e01\", \"\\u0e40\\u0e25\\u0e37\\u0e2d\\u0e01\", \"\\u0e40\\u0e25\\u0e37\\u0e2d\\u0e01\", \"\\u0e40\\u0e25\\u0e37\\u0e2d\\u0e01\", \"\\u0e40\\u0e25\\u0e37\\u0e2d\\u0e01\", \"\\u0e40\\u0e25\\u0e48\\u0e19\", \"\\u0e40\\u0e25\\u0e48\\u0e19\", \"\\u0e40\\u0e27\\u0e25\\u0e32\", \"\\u0e40\\u0e2a\\u0e34\\u0e23\\u0e4c\\u0e1f\", \"\\u0e40\\u0e2a\\u0e34\\u0e23\\u0e4c\\u0e1f\", \"\\u0e40\\u0e2a\\u0e49\\u0e19\", \"\\u0e40\\u0e2b\\u0e21\\u0e32\\u0e30\\u0e2a\\u0e21\", \"\\u0e40\\u0e2b\\u0e21\\u0e32\\u0e30\\u0e2a\\u0e21\", \"\\u0e40\\u0e2b\\u0e21\\u0e37\\u0e2d\\u0e19\\u0e01\\u0e31\\u0e1a\", \"\\u0e40\\u0e2b\\u0e27\\u0e35\\u0e48\\u0e22\\u0e07\", \"\\u0e40\\u0e2b\\u0e47\\u0e14\", \"\\u0e40\\u0e40\\u0e1a\\u0e1a\", \"\\u0e41\\u0e04\\u0e1a\", \"\\u0e41\\u0e08\\u0e49\\u0e07\", \"\\u0e41\\u0e16\\u0e21\", \"\\u0e41\\u0e16\\u0e21\", \"\\u0e41\\u0e19\\u0e30\\u0e19\\u0e33\", \"\\u0e41\\u0e19\\u0e30\\u0e19\\u0e33\", \"\\u0e41\\u0e19\\u0e48\\u0e19\", \"\\u0e41\\u0e19\\u0e48\\u0e19\", \"\\u0e41\\u0e1a\\u0e1a\\u0e09\\u0e1a\\u0e31\\u0e1a\", \"\\u0e41\\u0e1a\\u0e1a\\u0e19\\u0e35\\u0e49\", \"\\u0e41\\u0e1a\\u0e48\\u0e07\", \"\\u0e41\\u0e1a\\u0e48\\u0e07\", \"\\u0e41\\u0e1b\\u0e25\\u0e01\", \"\\u0e41\\u0e1b\\u0e25\\u0e01\", \"\\u0e41\\u0e1e\\u0e07\", \"\\u0e41\\u0e1e\\u0e07\", \"\\u0e41\\u0e1f\\u0e19\", \"\\u0e41\\u0e21\\u0e04\", \"\\u0e41\\u0e25\\u0e01\", \"\\u0e41\\u0e25\\u0e49\\u0e27\\u0e01\\u0e47\", \"\\u0e41\\u0e25\\u0e49\\u0e27\\u0e01\\u0e47\", \"\\u0e42\\u0e04\\u0e27\\u0e34\\u0e14\", \"\\u0e42\\u0e0a\\u0e04\", \"\\u0e42\\u0e0a\\u0e04\\u0e0a\\u0e30\\u0e15\\u0e32\", \"\\u0e42\\u0e0a\\u0e04\\u0e14\\u0e35\", \"\\u0e42\\u0e0b\\u0e19\", \"\\u0e42\\u0e0b\\u0e19\", \"\\u0e42\\u0e14\", \"\\u0e42\\u0e14\\u0e19\", \"\\u0e42\\u0e14\\u0e22\\u0e23\\u0e27\\u0e21\", \"\\u0e42\\u0e14\\u0e22\\u0e23\\u0e27\\u0e21\", \"\\u0e42\\u0e14\\u0e22\\u0e40\\u0e09\\u0e1e\\u0e32\\u0e30\", \"\\u0e42\\u0e15\\u0e4a\\u0e30\", \"\\u0e42\\u0e15\\u0e4a\\u0e30\", \"\\u0e42\\u0e17\\u0e2a\", \"\\u0e42\\u0e19\\u0e49\\u0e19\", \"\\u0e42\\u0e1b\\u0e23\", \"\\u0e42\\u0e1b\\u0e23\", \"\\u0e42\\u0e1b\\u0e23\\u0e42\\u0e21\\u0e0a\\u0e31\\u0e48\\u0e19\", \"\\u0e42\\u0e1b\\u0e23\\u0e42\\u0e21\\u0e0a\\u0e31\\u0e48\\u0e19\", \"\\u0e42\\u0e1b\\u0e23\\u0e42\\u0e21\\u0e0a\\u0e31\\u0e48\\u0e19\", \"\\u0e42\\u0e21\\u0e08\\u0e34\", \"\\u0e42\\u0e21\\u0e48\", \"\\u0e42\\u0e21\\u0e48\", \"\\u0e42\\u0e2b\\u0e14\", \"\\u0e42\\u0e2d\\u0e2d\\u0e34\\u0e0a\\u0e34\", \"\\u0e42\\u0e2d\\u0e40\\u0e04\", \"\\u0e42\\u0e2d\\u0e40\\u0e04\", \"\\u0e42\\u0e2d\\u0e40\\u0e04\", \"\\u0e42\\u0e2d\\u0e40\\u0e04\", \"\\u0e43\\u0e08\\u0e14\\u0e35\", \"\\u0e43\\u0e0a\\u0e49\\u0e41\\u0e25\\u0e49\\u0e27\", \"\\u0e43\\u0e0a\\u0e49\\u0e44\\u0e14\\u0e49\", \"\\u0e43\\u0e2a\", \"\\u0e43\\u0e2a\", \"\\u0e43\\u0e2a\\u0e48\\u0e43\\u0e08\", \"\\u0e44\\u0e01\\u0e48\", \"\\u0e44\\u0e01\\u0e48\", \"\\u0e44\\u0e01\\u0e48\", \"\\u0e44\\u0e02\\u0e48\", \"\\u0e44\\u0e02\\u0e48\", \"\\u0e44\\u0e02\\u0e48\\u0e44\\u0e01\\u0e48\", \"\\u0e44\\u0e14\", \"\\u0e44\\u0e14\\u0e1f\\u0e39\\u0e01\\u0e38\", \"\\u0e44\\u0e14\\u0e49\\u0e01\\u0e25\\u0e34\\u0e48\\u0e19\", \"\\u0e44\\u0e14\\u0e49\\u0e40\\u0e27\\u0e25\\u0e32\", \"\\u0e44\\u0e17\\u0e22\", \"\\u0e44\\u0e1c\\u0e48\", \"\\u0e44\\u0e21\\u0e48\\u0e07\\u0e31\\u0e49\\u0e19\", \"\\u0e44\\u0e21\\u0e48\\u0e15\\u0e49\\u0e2d\\u0e07\", \"\\u0e44\\u0e21\\u0e49\", \"\\u0e44\\u0e25\\u0e19\\u0e4c\", \"\\u0e44\\u0e25\\u0e19\\u0e4c\", \"\\u0e44\\u0e27\", \"\\u0e44\\u0e2d\\u0e15\\u0e34\\u0e21\", \"\\u0e44\\u0e2d\\u0e15\\u0e34\\u0e21\", \"\\u0e44\\u0e2d\\u0e15\\u0e34\\u0e21\", \"\\u0e44\\u0e2d\\u0e15\\u0e34\\u0e21\", \"\\u0e44\\u0e2d\\u0e15\\u0e34\\u0e21\", \"\\u0e44\\u0e2d\\u0e15\\u0e34\\u0e21\", \"\\u0e44\\u0e2d\\u0e15\\u0e34\\u0e21\", \"\\u0e44\\u0e2d\\u0e28\\u0e04\\u0e23\\u0e35\\u0e21\", \"\\u200b\", \"\\u2013\", \"\\ud83d\\ude06\", \"\\ud83e\\udd23\"]}, \"R\": 30, \"lambda.step\": 0.01, \"plot.opts\": {\"xlab\": \"PC1\", \"ylab\": \"PC2\"}, \"topic.order\": [10, 6, 5, 14, 16, 1, 11, 9, 13, 20, 12, 7, 17, 18, 4, 3, 2, 15, 8, 19]};\n",
       "\n",
       "function LDAvis_load_lib(url, callback){\n",
       "  var s = document.createElement('script');\n",
       "  s.src = url;\n",
       "  s.async = true;\n",
       "  s.onreadystatechange = s.onload = callback;\n",
       "  s.onerror = function(){console.warn(\"failed to load library \" + url);};\n",
       "  document.getElementsByTagName(\"head\")[0].appendChild(s);\n",
       "}\n",
       "\n",
       "if(typeof(LDAvis) !== \"undefined\"){\n",
       "   // already loaded: just create the visualization\n",
       "   !function(LDAvis){\n",
       "       new LDAvis(\"#\" + \"ldavis_el1230431176437558484543567735\", ldavis_el1230431176437558484543567735_data);\n",
       "   }(LDAvis);\n",
       "}else if(typeof define === \"function\" && define.amd){\n",
       "   // require.js is available: use it to load d3/LDAvis\n",
       "   require.config({paths: {d3: \"https://d3js.org/d3.v5\"}});\n",
       "   require([\"d3\"], function(d3){\n",
       "      window.d3 = d3;\n",
       "      LDAvis_load_lib(\"https://cdn.jsdelivr.net/gh/bmabey/pyLDAvis@3.3.1/pyLDAvis/js/ldavis.v3.0.0.js\", function(){\n",
       "        new LDAvis(\"#\" + \"ldavis_el1230431176437558484543567735\", ldavis_el1230431176437558484543567735_data);\n",
       "      });\n",
       "    });\n",
       "}else{\n",
       "    // require.js not available: dynamically load d3 & LDAvis\n",
       "    LDAvis_load_lib(\"https://d3js.org/d3.v5.js\", function(){\n",
       "         LDAvis_load_lib(\"https://cdn.jsdelivr.net/gh/bmabey/pyLDAvis@3.3.1/pyLDAvis/js/ldavis.v3.0.0.js\", function(){\n",
       "                 new LDAvis(\"#\" + \"ldavis_el1230431176437558484543567735\", ldavis_el1230431176437558484543567735_data);\n",
       "            })\n",
       "         });\n",
       "}\n",
       "</script>"
      ],
      "text/plain": [
       "PreparedData(topic_coordinates=              x         y  topics  cluster       Freq\n",
       "topic                                                \n",
       "9      0.132796  0.211080       1        1  25.790304\n",
       "5      0.082353 -0.263247       2        1  15.630185\n",
       "4     -0.223000 -0.149076       3        1   7.653240\n",
       "13    -0.124182  0.218409       4        1   7.122432\n",
       "15     0.146265 -0.149206       5        1   5.814852\n",
       "0      0.220191 -0.086373       6        1   5.281088\n",
       "10     0.013569  0.225400       7        1   4.801889\n",
       "8     -0.080999 -0.209259       8        1   4.800632\n",
       "12    -0.210256  0.058169       9        1   4.161345\n",
       "19     0.180442  0.091272      10        1   4.001239\n",
       "11     0.187234  0.003637      11        1   3.839434\n",
       "6     -0.010776  0.124413      12        1   2.802537\n",
       "16    -0.150646 -0.040106      13        1   2.800680\n",
       "17    -0.110404  0.072155      14        1   2.720717\n",
       "3     -0.053921 -0.103262      15        1   2.639999\n",
       "2      0.000273 -0.000819      16        1   0.029768\n",
       "1      0.000259 -0.000781      17        1   0.028109\n",
       "14     0.000257 -0.000787      18        1   0.028074\n",
       "7      0.000273 -0.000809      19        1   0.026738\n",
       "18     0.000274 -0.000809      20        1   0.026738, topic_info=         Term       Freq      Total Category  logprob  loglift\n",
       "43          ​   8.000000   8.000000  Default  30.0000  30.0000\n",
       "79              7.000000   7.000000  Default  29.0000  29.0000\n",
       "26      อร่อย  16.000000  16.000000  Default  28.0000  28.0000\n",
       "258      กุ้ง  11.000000  11.000000  Default  27.0000  27.0000\n",
       "28      อาหาร  13.000000  13.000000  Default  26.0000  26.0000\n",
       "..        ...        ...        ...      ...      ...      ...\n",
       "25   หลากหลาย   0.000558   2.346702  Topic20  -6.3953  -0.1174\n",
       "26      อร่อย   0.000558  16.583942  Topic20  -6.3953  -2.0728\n",
       "27     อันนี้   0.000558   1.859225  Topic20  -6.3953   0.1155\n",
       "28      อาหาร   0.000558  13.106515  Topic20  -6.3953  -1.8375\n",
       "29       เคลม   0.000558   1.192097  Topic20  -6.3953   0.5599\n",
       "\n",
       "[1039 rows x 6 columns], token_table=      Topic      Freq     Term\n",
       "term                          \n",
       "79        2  0.639405         \n",
       "79       14  0.255762         \n",
       "321       1  0.561395        \"\n",
       "321      11  0.280697        \"\n",
       "592      14  0.965373        %\n",
       "...     ...       ...      ...\n",
       "255       3  0.791251  ไอศครีม\n",
       "43        6  0.913266        ​\n",
       "231       9  0.878189        –\n",
       "567      11  0.892993        😆\n",
       "568      11  0.892993        🤣\n",
       "\n",
       "[808 rows x 3 columns], R=30, lambda_step=0.01, plot_opts={'xlab': 'PC1', 'ylab': 'PC2'}, topic_order=[10, 6, 5, 14, 16, 1, 11, 9, 13, 20, 12, 7, 17, 18, 4, 3, 2, 15, 8, 19])"
      ]
     },
     "execution_count": 23,
     "metadata": {},
     "output_type": "execute_result"
    }
   ],
   "source": [
    "#pyLDAvis.gensim.prepare(model, gensim_corpus, dictionary)\n",
    "pyLDAvis.gensim_models.prepare(model, gensim_corpus, dictionary, mds='mmds') "
   ]
  },
  {
   "cell_type": "code",
   "execution_count": null,
   "metadata": {
    "colab": {
     "base_uri": "https://localhost:8080/"
    },
    "executionInfo": {
     "elapsed": 2827,
     "status": "ok",
     "timestamp": 1605438652247,
     "user": {
      "displayName": "Thanachart Ritbumroong",
      "photoUrl": "",
      "userId": "18414212507793256437"
     },
     "user_tz": -420
    },
    "id": "KwvMjfSrrHU0",
    "outputId": "d0dfd026-3a06-4ce1-d7da-cec99ba4d7bc"
   },
   "outputs": [],
   "source": [
    "model.show_topic(2)"
   ]
  },
  {
   "cell_type": "code",
   "execution_count": null,
   "metadata": {
    "executionInfo": {
     "elapsed": 2823,
     "status": "ok",
     "timestamp": 1605438652248,
     "user": {
      "displayName": "Thanachart Ritbumroong",
      "photoUrl": "",
      "userId": "18414212507793256437"
     },
     "user_tz": -420
    },
    "id": "BSPNeUAjujS-"
   },
   "outputs": [],
   "source": [
    "df['topics'] = df['Review_tokenized'].apply(lambda x: model.get_document_topics(dictionary.doc2bow(x.split(',')))[0][0])\n",
    "df['score'] = df['Review_tokenized'].apply(lambda x: model.get_document_topics(dictionary.doc2bow(x.split(',')))[0][1])"
   ]
  },
  {
   "cell_type": "code",
   "execution_count": null,
   "metadata": {
    "colab": {
     "base_uri": "https://localhost:8080/",
     "height": 669
    },
    "executionInfo": {
     "elapsed": 2819,
     "status": "ok",
     "timestamp": 1605438652248,
     "user": {
      "displayName": "Thanachart Ritbumroong",
      "photoUrl": "",
      "userId": "18414212507793256437"
     },
     "user_tz": -420
    },
    "id": "gqZjJuheum3D",
    "outputId": "0f707ce2-f491-40c2-85c6-1ae231fb5a67",
    "scrolled": true
   },
   "outputs": [],
   "source": [
    "df[['Restaurant', 'Review', 'topics']]\n",
    "#df[['Review', 'topics']]"
   ]
  },
  {
   "cell_type": "code",
   "execution_count": null,
   "metadata": {},
   "outputs": [],
   "source": [
    "df.tail(20)"
   ]
  },
  {
   "cell_type": "code",
   "execution_count": null,
   "metadata": {},
   "outputs": [],
   "source": [
    "# -- Addtional Text Classification For English Language"
   ]
  },
  {
   "cell_type": "code",
   "execution_count": null,
   "metadata": {},
   "outputs": [],
   "source": [
    "from sklearn.feature_extraction.text import TfidfVectorizer\n",
    "from sklearn.feature_extraction.text import TfidfTransformer"
   ]
  },
  {
   "cell_type": "code",
   "execution_count": null,
   "metadata": {},
   "outputs": [],
   "source": [
    "a = 'the Sun of beach and beach'\n",
    "b = 'moon earth moon'"
   ]
  },
  {
   "cell_type": "code",
   "execution_count": null,
   "metadata": {},
   "outputs": [],
   "source": [
    "text = [a,b]\n",
    "\n",
    "tfv = TfidfVectorizer(stop_words='english')\n",
    "matrix = tfv.fit_transform(text)\n",
    "print(tfv.get_feature_names())\n",
    "print(matrix.toarray().round(3))"
   ]
  },
  {
   "cell_type": "code",
   "execution_count": null,
   "metadata": {},
   "outputs": [],
   "source": [
    "import pandas as pd\n",
    "import numpy as np\n",
    "#matrix = matrix.todense()\n",
    "matrix = matrix.toarray()\n",
    "df1 = pd.DataFrame(matrix, columns=tfv.get_feature_names(),index = ['a','b'])\n",
    "df1.round(3)"
   ]
  }
 ],
 "metadata": {
  "colab": {
   "authorship_tag": "ABX9TyM4TPkTETrfkCITep4a+npi",
   "name": "Wongnai Review Analysis - Exercise.ipynb",
   "provenance": []
  },
  "kernelspec": {
   "display_name": "Python 3",
   "language": "python",
   "name": "python3"
  },
  "language_info": {
   "codemirror_mode": {
    "name": "ipython",
    "version": 3
   },
   "file_extension": ".py",
   "mimetype": "text/x-python",
   "name": "python",
   "nbconvert_exporter": "python",
   "pygments_lexer": "ipython3",
   "version": "3.7.10"
  }
 },
 "nbformat": 4,
 "nbformat_minor": 1
}
